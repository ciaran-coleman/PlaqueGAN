{
 "cells": [
  {
   "cell_type": "markdown",
   "id": "8a762e69",
   "metadata": {},
   "source": [
    "# Notebook to load and save grids of images\n",
    "\n",
    "Includes spherical linear interpolation of images and nearest neighbours"
   ]
  },
  {
   "cell_type": "code",
   "execution_count": 1,
   "id": "aff45b57",
   "metadata": {},
   "outputs": [
    {
     "name": "stderr",
     "output_type": "stream",
     "text": [
      "C:\\Users\\ciara\\anaconda3\\envs\\thesis\\lib\\site-packages\\ipykernel\\pylab\\backend_inline.py:164: DeprecationWarning: `configure_inline_support` is deprecated since IPython 7.23, directly use `matplotlib_inline.backend_inline.configure_inline_support()`\n",
      "  configure_inline_support(ip, backend)\n"
     ]
    }
   ],
   "source": [
    "import torch\n",
    "from torch.utils.data import Dataset, DataLoader\n",
    "from torchvision import utils as vutils\n",
    "from torchvision import transforms\n",
    "from torchvision.datasets import ImageFolder\n",
    "import numpy as np\n",
    "import os\n",
    "import shutil\n",
    "from PIL import Image\n",
    "from models import Generator\n",
    "from operation import load_params, get_config, H5Dataset\n",
    "from metrics.metric_utils import truncated_z_sample, Batched_Normalize\n",
    "import json\n",
    "from glob import glob\n",
    "\n",
    "from numpy_transforms import NumpyRandomFlip, NumpyToTensor\n",
    "import matplotlib.pyplot as plt\n",
    "%matplotlib inline\n",
    "\n",
    "from tqdm import tqdm"
   ]
  },
  {
   "cell_type": "code",
   "execution_count": 2,
   "id": "bc5604ad",
   "metadata": {},
   "outputs": [
    {
     "name": "stderr",
     "output_type": "stream",
     "text": [
      "C:\\Users\\ciara\\anaconda3\\envs\\thesis\\lib\\site-packages\\ipykernel\\ipkernel.py:287: DeprecationWarning: `should_run_async` will not call `transform_cell` automatically in the future. Please pass the result to `transformed_cell` argument and any exception that happen during thetransform in `preprocessing_exc_tuple` in IPython 7.17 and above.\n",
      "  and should_run_async(code)\n"
     ]
    }
   ],
   "source": [
    "class CustomImageFolder(Dataset):\n",
    "    from PIL import Image\n",
    "    def __init__(self, root, transform=None):\n",
    "        self.transform = transform\n",
    "        self.root = root\n",
    "        self.image_paths = glob(root+'/*.jpg') + glob(root+'/*.png')\n",
    "        \n",
    "    def __getitem__(self, index):\n",
    "        image_path = self.image_paths[index]\n",
    "        x = Image.open(image_path)\n",
    "        if self.transform is not None:\n",
    "            x = self.transform(x)\n",
    "        return x\n",
    "    \n",
    "    def __len__(self):\n",
    "        return len(self.image_paths)\n",
    "    "
   ]
  },
  {
   "cell_type": "code",
   "execution_count": 3,
   "id": "35587e5c",
   "metadata": {},
   "outputs": [
    {
     "name": "stderr",
     "output_type": "stream",
     "text": [
      "C:\\Users\\ciara\\anaconda3\\envs\\thesis\\lib\\site-packages\\ipykernel\\ipkernel.py:287: DeprecationWarning: `should_run_async` will not call `transform_cell` automatically in the future. Please pass the result to `transformed_cell` argument and any exception that happen during thetransform in `preprocessing_exc_tuple` in IPython 7.17 and above.\n",
      "  and should_run_async(code)\n"
     ]
    }
   ],
   "source": [
    "def sample_generator(netG, z, norm_stats=None):\n",
    "    imgs = netG(z)[0]\n",
    "    # convert images from -1 1 to 0 255 uint8 (as would be done if saving)\n",
    "    imgs_convert = (imgs * 127.5 + 128).clamp(0, 255).to(torch.uint8)\n",
    "    # convert back to torch FloatTensor\n",
    "    imgs_convert = imgs_convert.to(torch.float32).div_(255)\n",
    "    # normalize\n",
    "    if norm_stats is not None:\n",
    "        imgs_convert = Batched_Normalize(imgs_convert, norm_stats['mean'], norm_stats['std'])\n",
    "    return imgs.add(1).mul(0.5).to('cpu'), imgs_convert\n"
   ]
  },
  {
   "cell_type": "code",
   "execution_count": 4,
   "id": "f64180bf",
   "metadata": {},
   "outputs": [
    {
     "name": "stderr",
     "output_type": "stream",
     "text": [
      "C:\\Users\\ciara\\anaconda3\\envs\\thesis\\lib\\site-packages\\ipykernel\\ipkernel.py:287: DeprecationWarning: `should_run_async` will not call `transform_cell` automatically in the future. Please pass the result to `transformed_cell` argument and any exception that happen during thetransform in `preprocessing_exc_tuple` in IPython 7.17 and above.\n",
      "  and should_run_async(code)\n"
     ]
    }
   ],
   "source": [
    "def save_image_qual(tensor, fp, nrow=8, padding=2,\n",
    "                   normalize=False, range=None, scale_each=False, pad_value=0, format=None, quality=None):\n",
    "    \"\"\"Save a given Tensor into an image file. Added functionality to save quality\n",
    "    Args:\n",
    "        tensor (Tensor or list): Image to be saved. If given a mini-batch tensor,\n",
    "            saves the tensor as a grid of images by calling ``make_grid``.\n",
    "        fp - A filename(string) or file object\n",
    "        format(Optional):  If omitted, the format to use is determined from the filename extension.\n",
    "            If a file object was used instead of a filename, this parameter should always be used.\n",
    "        **kwargs: Other arguments are documented in ``make_grid``.\n",
    "    \"\"\"\n",
    "    from PIL import Image\n",
    "    grid = vutils.make_grid(tensor, nrow=nrow, padding=padding, pad_value=pad_value,\n",
    "                     normalize=normalize, range=range, scale_each=scale_each)\n",
    "    # Add 0.5 after unnormalizing to [0, 255] to round to nearest integer\n",
    "    ndarr = grid.mul(255).add_(0.5).clamp_(0, 255).permute(1, 2, 0).to('cpu', torch.uint8).numpy()\n",
    "    im = Image.fromarray(ndarr)\n",
    "    im.save(fp, format=format, quality=quality)"
   ]
  },
  {
   "cell_type": "markdown",
   "id": "a931fb13",
   "metadata": {},
   "source": [
    "# Save a set of generated (uncurated) images"
   ]
  },
  {
   "cell_type": "code",
   "execution_count": 7,
   "id": "21da881c",
   "metadata": {},
   "outputs": [
    {
     "name": "stderr",
     "output_type": "stream",
     "text": [
      "C:\\Users\\ciara\\anaconda3\\envs\\thesis\\lib\\site-packages\\ipykernel\\ipkernel.py:287: DeprecationWarning: `should_run_async` will not call `transform_cell` automatically in the future. Please pass the result to `transformed_cell` argument and any exception that happen during thetransform in `preprocessing_exc_tuple` in IPython 7.17 and above.\n",
      "  and should_run_async(code)\n"
     ]
    }
   ],
   "source": [
    "def save_generated(args_dict):\n",
    "    device = torch.device('cuda') if torch.cuda.is_available() else torch.device('cpu')\n",
    "    target_gen = args_dict['target_gen']\n",
    "    ckpts_use = args_dict['ckpts_use']\n",
    "    batch_gen = args_dict['batch_gen']\n",
    "    experiment_names = args_dict['experiment_names']\n",
    "    ema = args_dict['ema']\n",
    "\n",
    "    for experiment, ckpt_iter in zip(experiment_names, ckpts_use):\n",
    "        folder_save = os.path.join(save_dir, experiment)\n",
    "        os.makedirs(folder_save, exist_ok=True)\n",
    "        \n",
    "        ckpt_path = os.path.join(args_dict['base_dir'], experiment, 'models', f'all_{ckpt_iter}.pth')\n",
    "        checkpoint=torch.load(ckpt_path)\n",
    "\n",
    "        # load in the generator\n",
    "        with open(os.path.join(base_dir,  experiment, 'args.txt'), mode='r') as f:\n",
    "            args_train = json.load(f)\n",
    "            model_config = args_train['model_config']\n",
    "            model_config = get_config('model_configs.csv', model_config, type='model')\n",
    "            noise_dim = model_config['nz']\n",
    "\n",
    "            netG = Generator(\n",
    "                    nz                  = model_config['nz'],\n",
    "                    activation          = model_config['g_activation'],\n",
    "                    chan_attn           = model_config['g_chan_attn'],\n",
    "                    sle_map             = model_config['g_skip_map'],\n",
    "                    skip_conn           = model_config['g_skip_conn'],\n",
    "                    spatial_attn        = model_config['g_spatial_attn'],\n",
    "                    attn_layers         = model_config['g_attn_layers'],\n",
    "                    conv_layers         = model_config['g_conv_layers'],\n",
    "                    alternate_layers    = model_config['g_alternate_layers'],\n",
    "                    anti_alias          = model_config['g_anti_alias'],\n",
    "                    noise_inj           = model_config['g_noise_inj'],\n",
    "                    multi_res_out       = model_config['g_multi_res_out'],\n",
    "                    small_im_size       = model_config['g_small_im_size'],\n",
    "                    use_tanh            = model_config['use_tanh']\n",
    "            )\n",
    "\n",
    "            print('all ok!') \n",
    "\n",
    "        # load in parameters\n",
    "        if ema:\n",
    "            load_params(netG, checkpoint['g_ema'])\n",
    "        else:\n",
    "            load_params(netG, checkpoint['g'])\n",
    "\n",
    "        netG.to(device)\n",
    "\n",
    "        # generator warm-up\n",
    "        print('warming up generator...')\n",
    "        for i in range(100):\n",
    "            z = truncated_z_sample(8, noise_dim, truncation=0).to(device)\n",
    "            _,_ = sample_generator(netG, z, norm_stats=None)\n",
    "        \n",
    "        # generate samples\n",
    "        generated = 0\n",
    "        while generated < target_gen:\n",
    "            z = truncated_z_sample(batch_gen, noise_dim, truncation=0).to(device)\n",
    "            imgs_save,_ = sample_generator(netG, z, norm_stats=None)\n",
    "            for img in imgs_save:\n",
    "                imarr = img.mul(255).add_(0.5).clamp_(0, 255).permute(1, 2, 0).to('cpu', torch.uint8).numpy()\n",
    "                pil_img = Image.fromarray(imarr)\n",
    "                pil_img.save(os.path.join(folder_save, f'{generated}.jpg'), quality=95)\n",
    "                generated += 1\n",
    "                if generated==target_gen:\n",
    "                    break"
   ]
  },
  {
   "cell_type": "code",
   "execution_count": 8,
   "id": "fd9f90f0",
   "metadata": {},
   "outputs": [
    {
     "name": "stderr",
     "output_type": "stream",
     "text": [
      "C:\\Users\\ciara\\anaconda3\\envs\\thesis\\lib\\site-packages\\ipykernel\\ipkernel.py:287: DeprecationWarning: `should_run_async` will not call `transform_cell` automatically in the future. Please pass the result to `transformed_cell` argument and any exception that happen during thetransform in `preprocessing_exc_tuple` in IPython 7.17 and above.\n",
      "  and should_run_async(code)\n"
     ]
    }
   ],
   "source": [
    "base_dir = 'D:/ucl_masters_data/project/fastGAN_experiments/extended'\n",
    "save_dir = './plots/generated'\n",
    "experiment_names = ['cored_final', 'CAA_final', 'cored-diffuse_final', 'CAA-diffuse_final']\n",
    "ckpts_use = [90000, 100000, 80000, 70000]\n",
    "target_gen = 200\n",
    "batch_gen = 8\n",
    "\n",
    "args_dict = {'base_dir': base_dir,\n",
    "            'experiment_names': experiment_names,\n",
    "            'ckpts_use': ckpts_use,\n",
    "            'target_gen': target_gen,\n",
    "            'batch_gen': batch_gen, \n",
    "            'ema': True}"
   ]
  },
  {
   "cell_type": "code",
   "execution_count": 9,
   "id": "3cf0542d",
   "metadata": {},
   "outputs": [
    {
     "name": "stderr",
     "output_type": "stream",
     "text": [
      "C:\\Users\\ciara\\anaconda3\\envs\\thesis\\lib\\site-packages\\ipykernel\\ipkernel.py:287: DeprecationWarning: `should_run_async` will not call `transform_cell` automatically in the future. Please pass the result to `transformed_cell` argument and any exception that happen during thetransform in `preprocessing_exc_tuple` in IPython 7.17 and above.\n",
      "  and should_run_async(code)\n"
     ]
    },
    {
     "name": "stdout",
     "output_type": "stream",
     "text": [
      "all ok!\n",
      "warming up generator...\n",
      "all ok!\n",
      "warming up generator...\n",
      "all ok!\n",
      "warming up generator...\n",
      "all ok!\n",
      "warming up generator...\n"
     ]
    }
   ],
   "source": [
    "save_generated(args_dict)"
   ]
  },
  {
   "cell_type": "markdown",
   "id": "bd272cd4",
   "metadata": {},
   "source": [
    "# Save grids of generated images"
   ]
  },
  {
   "cell_type": "code",
   "execution_count": 5,
   "id": "812ce89c",
   "metadata": {},
   "outputs": [
    {
     "name": "stderr",
     "output_type": "stream",
     "text": [
      "C:\\Users\\ciara\\anaconda3\\envs\\thesis\\lib\\site-packages\\ipykernel\\ipkernel.py:287: DeprecationWarning: `should_run_async` will not call `transform_cell` automatically in the future. Please pass the result to `transformed_cell` argument and any exception that happen during thetransform in `preprocessing_exc_tuple` in IPython 7.17 and above.\n",
      "  and should_run_async(code)\n"
     ]
    }
   ],
   "source": [
    "base_dir = 'D:/ucl_masters_data/project/fastGAN_experiments/extended'\n",
    "save_dir = './plots/generated_grid'\n",
    "experiment_names = ['cored_final', 'CAA_final', 'cored-diffuse_final', 'CAA-diffuse_final']\n",
    "n_cols = 2\n",
    "n_rows = 8\n",
    "\n",
    "def save_generated(base_dir = base_dir, save_dir = save_dir, experiment_names = experiment_names,\n",
    "                  n_rows = n_rows, n_cols = n_cols, n_repeats = 3):\n",
    "    for experiment in experiment_names:\n",
    "        folder_gen = os.path.join('./plots/generated', experiment)\n",
    "        trans = transforms.Compose([transforms.ToTensor()])\n",
    "        dataset = CustomImageFolder(root=folder_gen, transform = trans)\n",
    "        dataloader = DataLoader(dataset, batch_size = (n_cols*n_rows), shuffle=True)\n",
    "        for i in range(n_repeats):\n",
    "            images = next(iter(dataloader))\n",
    "            os.makedirs(os.path.join(save_dir, experiment), exist_ok=True)\n",
    "            save_image_qual(images, os.path.join(save_dir, experiment,f'{experiment}_generated_{i}.jpg'), \n",
    "                            nrow=n_cols, quality=95)\n",
    "#             vutils.save_image(images, os.path.join(save_dir, experiment,'rejected.jpg'), nrow=n_cols)"
   ]
  },
  {
   "cell_type": "code",
   "execution_count": 8,
   "id": "13977a25",
   "metadata": {},
   "outputs": [
    {
     "name": "stderr",
     "output_type": "stream",
     "text": [
      "C:\\Users\\ciara\\anaconda3\\envs\\thesis\\lib\\site-packages\\ipykernel\\ipkernel.py:287: DeprecationWarning: `should_run_async` will not call `transform_cell` automatically in the future. Please pass the result to `transformed_cell` argument and any exception that happen during thetransform in `preprocessing_exc_tuple` in IPython 7.17 and above.\n",
      "  and should_run_async(code)\n"
     ]
    },
    {
     "name": "stdout",
     "output_type": "stream",
     "text": [
      "200\n",
      "200\n",
      "200\n",
      "200\n"
     ]
    }
   ],
   "source": [
    "save_generated(base_dir = base_dir, save_dir = save_dir, experiment_names = experiment_names,\n",
    "                 n_rows = n_rows, n_cols = n_cols)"
   ]
  },
  {
   "cell_type": "markdown",
   "id": "36325346",
   "metadata": {},
   "source": [
    "# Save grids of rejected images"
   ]
  },
  {
   "cell_type": "code",
   "execution_count": 10,
   "id": "a6ae938f",
   "metadata": {},
   "outputs": [],
   "source": [
    "base_dir = 'D:/ucl_masters_data/project/fastGAN_experiments/extended'\n",
    "save_dir = './plots/rejected'\n",
    "experiment_names = ['cored_final', 'CAA_final', 'cored-diffuse_final', 'CAA-diffuse_final']\n",
    "n_cols = 10\n",
    "n_rows = 1\n",
    "def save_rejects(base_dir = base_dir, save_dir = save_dir, experiment_names = experiment_names,\n",
    "                 n_rows = n_rows, n_cols = n_cols):\n",
    "    \n",
    "    for experiment in experiment_names:\n",
    "        folder_rejects = os.path.join(base_dir, experiment, 'rejected')\n",
    "        trans = transforms.Compose([transforms.ToTensor()])\n",
    "        dataset = ImageFolder(root=folder_rejects, transform = trans)\n",
    "        dataloader = DataLoader(dataset, batch_size = (n_cols*n_rows), shuffle=True)\n",
    "        images,_ = next(iter(dataloader))\n",
    "        \n",
    "        os.makedirs(os.path.join(save_dir, experiment), exist_ok=True)\n",
    "        vutils.save_image(images, os.path.join(save_dir, experiment,'rejected.jpg'), nrow=n_cols)\n",
    "    \n",
    "  "
   ]
  },
  {
   "cell_type": "code",
   "execution_count": 11,
   "id": "72f172f1",
   "metadata": {},
   "outputs": [],
   "source": [
    "save_rejects(base_dir = base_dir, save_dir = save_dir, experiment_names = experiment_names,\n",
    "                 n_rows = n_rows, n_cols = n_cols)"
   ]
  },
  {
   "cell_type": "markdown",
   "id": "330595b3",
   "metadata": {},
   "source": [
    "# Save grid of LPIPS vs MSE"
   ]
  },
  {
   "cell_type": "code",
   "execution_count": 8,
   "id": "14970e3d",
   "metadata": {},
   "outputs": [
    {
     "name": "stderr",
     "output_type": "stream",
     "text": [
      "C:\\Users\\ciara\\anaconda3\\envs\\thesis\\lib\\site-packages\\ipykernel\\ipkernel.py:287: DeprecationWarning: `should_run_async` will not call `transform_cell` automatically in the future. Please pass the result to `transformed_cell` argument and any exception that happen during thetransform in `preprocessing_exc_tuple` in IPython 7.17 and above.\n",
      "  and should_run_async(code)\n"
     ]
    }
   ],
   "source": [
    "def images_2_grid(img_dir, save_dir, save_name = 'trial', n_rows = 2, n_cols = 2, n_repeats = 3):\n",
    "    trans = transforms.Compose([transforms.ToTensor()])\n",
    "    dataset = CustomImageFolder(root=img_dir, transform=trans)\n",
    "    dataloader = DataLoader(dataset, batch_size = (n_cols*n_rows), shuffle=True)\n",
    "    \n",
    "    for repeat in range(n_repeats):\n",
    "        images = next(iter(dataloader))\n",
    "#         os.makedirs(os.path.join(save_dir, experiment), exist_ok=True)\n",
    "        save_image_qual(images, os.path.join(save_dir,f'{save_name}_sampled_{repeat}.jpg'), \n",
    "                            nrow=n_cols, quality=95)"
   ]
  },
  {
   "cell_type": "code",
   "execution_count": 9,
   "id": "1a18294a",
   "metadata": {},
   "outputs": [
    {
     "name": "stderr",
     "output_type": "stream",
     "text": [
      "C:\\Users\\ciara\\anaconda3\\envs\\thesis\\lib\\site-packages\\ipykernel\\ipkernel.py:287: DeprecationWarning: `should_run_async` will not call `transform_cell` automatically in the future. Please pass the result to `transformed_cell` argument and any exception that happen during thetransform in `preprocessing_exc_tuple` in IPython 7.17 and above.\n",
      "  and should_run_async(code)\n"
     ]
    }
   ],
   "source": [
    "img_dir = 'D:/ucl_masters_data/project/fastGAN_experiments/extended/model_base_train_A/evaluation/selected/accepted'\n",
    "save_dir = 'C:/Users/ciara/Documents/ucl_masters/modules/Project/FastGAN-extended/plots/generated_grid'\n",
    "save_name = 'lpips'\n",
    "images_2_grid(img_dir=img_dir, save_dir=save_dir, save_name=save_name, n_rows=2, n_cols=2, n_repeats=5)"
   ]
  },
  {
   "cell_type": "code",
   "execution_count": 10,
   "id": "c2793d96",
   "metadata": {},
   "outputs": [
    {
     "name": "stderr",
     "output_type": "stream",
     "text": [
      "C:\\Users\\ciara\\anaconda3\\envs\\thesis\\lib\\site-packages\\ipykernel\\ipkernel.py:287: DeprecationWarning: `should_run_async` will not call `transform_cell` automatically in the future. Please pass the result to `transformed_cell` argument and any exception that happen during thetransform in `preprocessing_exc_tuple` in IPython 7.17 and above.\n",
      "  and should_run_async(code)\n"
     ]
    }
   ],
   "source": [
    "img_dir = 'D:/ucl_masters_data/project/fastGAN_experiments/extended/fastgan_orig/fid/fake'\n",
    "save_dir = 'C:/Users/ciara/Documents/ucl_masters/modules/Project/FastGAN-extended/plots/generated_grid'\n",
    "save_name = 'mse'\n",
    "images_2_grid(img_dir=img_dir, save_dir=save_dir, save_name=save_name, n_rows=2, n_cols=2, n_repeats=5)"
   ]
  },
  {
   "cell_type": "code",
   "execution_count": 11,
   "id": "27bb4c25",
   "metadata": {},
   "outputs": [
    {
     "name": "stderr",
     "output_type": "stream",
     "text": [
      "C:\\Users\\ciara\\anaconda3\\envs\\thesis\\lib\\site-packages\\ipykernel\\ipkernel.py:287: DeprecationWarning: `should_run_async` will not call `transform_cell` automatically in the future. Please pass the result to `transformed_cell` argument and any exception that happen during thetransform in `preprocessing_exc_tuple` in IPython 7.17 and above.\n",
      "  and should_run_async(code)\n"
     ]
    }
   ],
   "source": [
    "img_dir = 'D:/ucl_masters_data/project/fastGAN_experiments/extended/fastgan_orig/fid/real'\n",
    "save_dir = 'C:/Users/ciara/Documents/ucl_masters/modules/Project/FastGAN-extended/plots/generated_grid'\n",
    "save_name = 'real'\n",
    "images_2_grid(img_dir=img_dir, save_dir=save_dir, save_name=save_name, n_rows=2, n_cols=2, n_repeats=5)"
   ]
  },
  {
   "cell_type": "markdown",
   "id": "a5f80aa2",
   "metadata": {},
   "source": [
    "# Save grids of slerp'd images"
   ]
  },
  {
   "cell_type": "code",
   "execution_count": 3,
   "id": "a800252a",
   "metadata": {},
   "outputs": [
    {
     "name": "stderr",
     "output_type": "stream",
     "text": [
      "C:\\Users\\ciara\\anaconda3\\envs\\thesis\\lib\\site-packages\\ipykernel\\ipkernel.py:287: DeprecationWarning: `should_run_async` will not call `transform_cell` automatically in the future. Please pass the result to `transformed_cell` argument and any exception that happen during thetransform in `preprocessing_exc_tuple` in IPython 7.17 and above.\n",
      "  and should_run_async(code)\n"
     ]
    }
   ],
   "source": [
    "# linear interpolation\n",
    "@torch.no_grad()\n",
    "def lerp(netG, z1, z2, step=8):\n",
    "    \"\"\" \n",
    "    Function to generate sequence of images from interpolation of two latent space vectors\n",
    "    \n",
    "    Params\n",
    "    ------\n",
    "    netG: Generator model\n",
    "    z1: first latent vector\n",
    "    z2: second latent vector\n",
    "    step: number of interpolated images to generate\n",
    "    save_dir: directory to save images to\n",
    "    img_name: name to save the sequence of images\n",
    "    ext: image format to use. 'jpg' or 'png' appropriate.\n",
    "    \n",
    "    Returns\n",
    "    -------\n",
    "    interp_images: The interpolated images\n",
    "    z_interp: The sequence of interpolated latent vectors\n",
    "    \"\"\"\n",
    "    netG.eval()\n",
    "    alphas = torch.linspace(0, 1, steps=step)\n",
    "    \n",
    "    z_interp = [(1-alpha)*z1 + alpha*z2 for alpha in alphas]\n",
    "    # rearrange into a batch that can be passed through the generator\n",
    "    z_interp = torch.cat(z_interp).view(step,-1)\n",
    "    interp_images,_ = sample_generator(netG, z_interp)\n",
    "    \n",
    "    return interp_images\n",
    "\n",
    "@torch.no_grad()\n",
    "def slerp_calc_single(val, low, high):\n",
    "    low_norm = low/torch.norm(low)\n",
    "    high_norm = high/torch.norm(high)\n",
    "    omega = torch.acos(low_norm*high_norm)\n",
    "    so = torch.sin(omega)\n",
    "    res = (torch.sin((1.0-val)*omega)/so)*low + (torch.sin(val*omega)/so)*high\n",
    "    return res\n",
    "\n",
    "# spherical interpolation - better when noise is sampled from a hypersphere rather than hypercube\n",
    "@torch.no_grad()\n",
    "def slerp(netG, z1, z2, step=8):\n",
    "    alphas = torch.linspace(0, 1, steps=step)\n",
    "    z_interp = [slerp_calc_single(alpha,z1,z2) for alpha in alphas]\n",
    "    # rearrange into a batch that can be passed through the generator\n",
    "    z_interp = torch.cat(z_interp).view(step,-1)\n",
    "#     interp_images = netG(z_interp)[0]\n",
    "    interp_images,_ = sample_generator(netG, z_interp)\n",
    "#     save_path = os.path.join(save_dir, f'{img_name}.{ext}')\n",
    "#     vutils.save_image(interp_images.add(1).mul(0.5), save_path, nrow=step)\n",
    "    \n",
    "    return interp_images\n",
    "\n",
    "# @torch.no_grad()\n",
    "# def slerp(netG, z1, z2, step=8, save_dir ='.', img_name='interpolation', ext='jpg'):\n",
    "#     alphas = torch.linspace(0, 1, steps=step)\n",
    "#     z_interp = [slerp_calc_single(alpha,z1,z2) for alpha in alphas]\n",
    "#     # rearrange into a batch that can be passed through the generator\n",
    "#     z_interp = torch.cat(z_interp).view(step,-1)\n",
    "#     interp_images = netG(z_interp)[0]\n",
    "#     save_path = os.path.join(save_dir, f'{img_name}.{ext}')\n",
    "#     vutils.save_image(interp_images.add(1).mul(0.5), save_path, nrow=step)\n",
    "    \n",
    "#     return interp_images, z_interp\n",
    "\n"
   ]
  },
  {
   "cell_type": "code",
   "execution_count": 4,
   "id": "e5e1aa43",
   "metadata": {},
   "outputs": [
    {
     "name": "stderr",
     "output_type": "stream",
     "text": [
      "C:\\Users\\ciara\\anaconda3\\envs\\thesis\\lib\\site-packages\\ipykernel\\ipkernel.py:287: DeprecationWarning: `should_run_async` will not call `transform_cell` automatically in the future. Please pass the result to `transformed_cell` argument and any exception that happen during thetransform in `preprocessing_exc_tuple` in IPython 7.17 and above.\n",
      "  and should_run_async(code)\n"
     ]
    }
   ],
   "source": [
    "# sample from checkpoints and save a number of interpolated examples\n",
    "@torch.no_grad()\n",
    "def save_slerp(args_dict):\n",
    "    \n",
    "    device = torch.device('cuda') if torch.cuda.is_available() else torch.device('cpu')\n",
    "    n_samples = args_dict['n_samples']\n",
    "    n_steps = args_dict['n_steps']\n",
    "    n_rows = args_dict['n_rows']\n",
    "    ckpts_use = args_dict['ckpts_use']\n",
    "    \n",
    "    experiment_names = args_dict['experiment_names']\n",
    "    ema = args_dict['ema']\n",
    "    run_slerp = args_dict['slerp']\n",
    "    for experiment, ckpt_iter in zip(experiment_names, ckpts_use):\n",
    "        save_dir = './plots/slerp'\n",
    "        ckpt_path = os.path.join(args_dict['base_dir'], experiment, 'models', f'all_{ckpt_iter}.pth')\n",
    "        checkpoint=torch.load(ckpt_path)\n",
    "\n",
    "        # load in the generator\n",
    "        with open(os.path.join(base_dir,  experiment, 'args.txt'), mode='r') as f:\n",
    "            args_train = json.load(f)\n",
    "            model_config = args_train['model_config']\n",
    "            model_config = get_config('model_configs_final.csv', model_config, type='model')\n",
    "            noise_dim = model_config['nz']\n",
    "\n",
    "            netG = Generator(\n",
    "                    nz                  = model_config['nz'],\n",
    "                    activation          = model_config['g_activation'],\n",
    "                    chan_attn           = model_config['g_chan_attn'],\n",
    "                    sle_map             = model_config['g_skip_map'],\n",
    "                    skip_conn           = model_config['g_skip_conn'],\n",
    "                    spatial_attn        = model_config['g_spatial_attn'],\n",
    "                    attn_layers         = model_config['g_attn_layers'],\n",
    "                    conv_layers         = model_config['g_conv_layers'],\n",
    "                    alternate_layers    = model_config['g_alternate_layers'],\n",
    "                    anti_alias          = model_config['g_anti_alias'],\n",
    "                    noise_inj           = model_config['g_noise_inj'],\n",
    "                    multi_res_out       = model_config['g_multi_res_out'],\n",
    "                    small_im_size       = model_config['g_small_im_size'],\n",
    "                    use_tanh            = model_config['use_tanh']\n",
    "            )\n",
    "\n",
    "            print('all ok!') \n",
    "\n",
    "        # load in parameters\n",
    "        if ema:\n",
    "            load_params(netG, checkpoint['g_ema'])\n",
    "        else:\n",
    "            load_params(netG, checkpoint['g'])\n",
    "\n",
    "        netG.to(device)\n",
    "\n",
    "        # generator warm-up\n",
    "        print('warming up generator...')\n",
    "        for i in range(100):\n",
    "            z = truncated_z_sample(8, noise_dim, truncation=0).to(device)\n",
    "            _,_ = sample_generator(netG, z, norm_stats=None)\n",
    "        \n",
    "        # now do the interpolations\n",
    "        for j in range(n_samples):\n",
    "            z1_all = truncated_z_sample(n_rows, noise_dim, truncation=0).to(device)\n",
    "            z2_all = truncated_z_sample(n_rows, noise_dim, truncation=0).to(device)\n",
    "            \n",
    "            images_all = []\n",
    "            for z1,z2 in zip(z1_all, z2_all):\n",
    "                if run_slerp:\n",
    "                    images_all.append(slerp(netG, z1, z2, step=n_steps))\n",
    "                else:\n",
    "                    images_all.append(lerp(netG, z1, z2, step=n_steps))\n",
    "            \n",
    "            images_all = torch.cat(images_all)\n",
    "            \n",
    "            #save the images\n",
    "            if run_slerp:\n",
    "                vutils.save_image(images_all, os.path.join(save_dir, f'{experiment}_slerp_{j}.jpg'), nrow=n_steps)\n",
    "            else:\n",
    "                vutils.save_image(images_all, os.path.join(save_dir, f'{experiment}_lerp_{j}.jpg'), nrow=n_steps)\n",
    "    "
   ]
  },
  {
   "cell_type": "code",
   "execution_count": 5,
   "id": "0bfe2fd7",
   "metadata": {},
   "outputs": [
    {
     "name": "stderr",
     "output_type": "stream",
     "text": [
      "C:\\Users\\ciara\\anaconda3\\envs\\thesis\\lib\\site-packages\\ipykernel\\ipkernel.py:287: DeprecationWarning: `should_run_async` will not call `transform_cell` automatically in the future. Please pass the result to `transformed_cell` argument and any exception that happen during thetransform in `preprocessing_exc_tuple` in IPython 7.17 and above.\n",
      "  and should_run_async(code)\n"
     ]
    }
   ],
   "source": [
    "base_dir = 'D:/ucl_masters_data/project/fastGAN_experiments/extended'\n",
    "experiment_names = ['cored_final', 'CAA_final', 'cored-diffuse_final', 'CAA-diffuse_final']\n",
    "ckpts_use = [90000, 100000, 80000, 70000]\n",
    "n_samples = 30\n",
    "n_steps = 10\n",
    "n_rows = 1\n",
    "\n",
    "args_dict = {'base_dir': base_dir,\n",
    "            'experiment_names': experiment_names,\n",
    "            'ckpts_use': ckpts_use,\n",
    "            'n_samples': n_samples,\n",
    "            'n_steps': n_steps,\n",
    "            'n_rows': n_rows,\n",
    "            'ema': True,\n",
    "            'slerp': True}"
   ]
  },
  {
   "cell_type": "code",
   "execution_count": 6,
   "id": "a83761c5",
   "metadata": {
    "scrolled": true
   },
   "outputs": [
    {
     "name": "stderr",
     "output_type": "stream",
     "text": [
      "C:\\Users\\ciara\\anaconda3\\envs\\thesis\\lib\\site-packages\\ipykernel\\ipkernel.py:287: DeprecationWarning: `should_run_async` will not call `transform_cell` automatically in the future. Please pass the result to `transformed_cell` argument and any exception that happen during thetransform in `preprocessing_exc_tuple` in IPython 7.17 and above.\n",
      "  and should_run_async(code)\n"
     ]
    },
    {
     "name": "stdout",
     "output_type": "stream",
     "text": [
      "all ok!\n",
      "warming up generator...\n",
      "all ok!\n",
      "warming up generator...\n",
      "all ok!\n",
      "warming up generator...\n",
      "all ok!\n",
      "warming up generator...\n"
     ]
    }
   ],
   "source": [
    "save_slerp(args_dict)"
   ]
  },
  {
   "cell_type": "markdown",
   "id": "21049963",
   "metadata": {},
   "source": [
    "# K Nearest Neighbours"
   ]
  },
  {
   "cell_type": "code",
   "execution_count": 5,
   "id": "f26bde5d",
   "metadata": {
    "scrolled": true
   },
   "outputs": [
    {
     "name": "stderr",
     "output_type": "stream",
     "text": [
      "C:\\Users\\ciara\\anaconda3\\envs\\thesis\\lib\\site-packages\\ipykernel\\ipkernel.py:287: DeprecationWarning: `should_run_async` will not call `transform_cell` automatically in the future. Please pass the result to `transformed_cell` argument and any exception that happen during thetransform in `preprocessing_exc_tuple` in IPython 7.17 and above.\n",
      "  and should_run_async(code)\n"
     ]
    }
   ],
   "source": [
    "import h5py\n",
    "import lpips"
   ]
  },
  {
   "cell_type": "code",
   "execution_count": 6,
   "id": "ff12bd84",
   "metadata": {},
   "outputs": [
    {
     "name": "stderr",
     "output_type": "stream",
     "text": [
      "C:\\Users\\ciara\\anaconda3\\envs\\thesis\\lib\\site-packages\\ipykernel\\ipkernel.py:287: DeprecationWarning: `should_run_async` will not call `transform_cell` automatically in the future. Please pass the result to `transformed_cell` argument and any exception that happen during thetransform in `preprocessing_exc_tuple` in IPython 7.17 and above.\n",
      "  and should_run_async(code)\n"
     ]
    }
   ],
   "source": [
    "@torch.no_grad()\n",
    "def get_top_nn_lpips(generated_folder, hdf5_real, percept, top_k=5, n_show = 8, n_repeats = 5,\n",
    "                     save_path=None, experiment_name = None):\n",
    "    \"\"\"\n",
    "    Calculate the LPIPS distance metric between a set of synthesised and real images.\n",
    "    Save all computed distances between fake and real samples in another hdf5 file (?) for easy retrieval\n",
    "    Also displays and saves the top k real images against the synthesised images\n",
    "    \"\"\"\n",
    "    \n",
    "    device = torch.device('cuda') if torch.cuda.is_available() else torch.device('cpu')\n",
    "    \n",
    "    transform_list_real = [NumpyToTensor(),\n",
    "                        transforms.Normalize(mean=[0.5,0.5,0.5], std=[0.5,0.5,0.5])\n",
    "                        ]\n",
    "    \n",
    "    transform_list_fake = [transforms.ToTensor(),\n",
    "                          transforms.Normalize(mean=[0.5,0.5,0.5], std=[0.5,0.5,0.5])\n",
    "                          ]\n",
    "    \n",
    "    trans_real = transforms.Compose(transform_list_real)\n",
    "    trans_fake = transforms.Compose(transform_list_fake)\n",
    "    \n",
    "    fake_dataset = CustomImageFolder(generated_folder, transform=trans_fake)\n",
    "    real_dataset = H5Dataset(file_path=hdf5_real, transform=trans_real)\n",
    "    \n",
    "    fake_dataloader = DataLoader(fake_dataset, batch_size=n_show, shuffle=True, num_workers=0)\n",
    "    batch_size_real = 16\n",
    "    real_dataloader = DataLoader(real_dataset, batch_size=batch_size_real, shuffle=False, num_workers=0)\n",
    "    \n",
    "    # initialise array to store the perceptual distances between samples\n",
    "    \n",
    "    iter_fake_dataloader = iter(fake_dataloader)\n",
    "    \n",
    "    for n_repeat in tqdm(range(n_repeats), total = n_repeats):\n",
    "        # initialise array to store the perceptual distances between samples\n",
    "        dists = torch.zeros((n_show, len(real_dataset)))\n",
    "        fake_imgs = next(iter_fake_dataloader)\n",
    "        # cycle through each fake image\n",
    "        for i, fake_img in enumerate(fake_imgs):\n",
    "            fake_img = fake_img.to(device)\n",
    "            for j, real_imgs in enumerate(real_dataloader):\n",
    "                real_imgs = real_imgs.to(device)\n",
    "                dist = percept(fake_img, real_imgs).squeeze().cpu()\n",
    "                idx_start = j*batch_size_real\n",
    "                dists[i, idx_start:idx_start+len(dist)] = dist\n",
    "            \n",
    "        # find nearest neighbours to the fake images\n",
    "        vals, idx_nn = torch.topk(dists, top_k, largest=False)\n",
    "        # find furthest neighbours to the fake images (if desired)\n",
    "        vals_f, idx_fn = torch.topk(dists, top_k, largest=True)\n",
    "        \n",
    "        # generate the grid of images to be saved\n",
    "        channels, height, width = real_imgs.shape[1:]\n",
    "        # padding (in pixels) between fake and real images\n",
    "        pad = 10\n",
    "        grid = np.zeros((n_show*height, (top_k+1)*width + pad, channels))\n",
    "        neighbours = dict()\n",
    "        \n",
    "        for i, fake_img in enumerate(fake_imgs):\n",
    "            total = fake_img.permute(1, 2, 0).numpy()\n",
    "            # add on the padding\n",
    "            padded = -1*np.ones((height, pad, channels))\n",
    "            total = np.concatenate([total, padded], axis=1)\n",
    "            neighbours[i] = list()\n",
    "            for j in range(top_k):\n",
    "                neighbours[i].append((idx_nn[i,j], vals[i,j]))\n",
    "                real = real_dataset[idx_nn[i,j]].permute(1, 2, 0).numpy()\n",
    "                total = np.concatenate([total, real], axis=1)\n",
    "                \n",
    "            # fill in the grid\n",
    "            grid[i*height:(i+1)*height, :, :] = total\n",
    "        \n",
    "        # recast grid to correct range for saving.\n",
    "        grid = (grid + 1) * 0.5\n",
    "        plt.imshow(grid)\n",
    "        \n",
    "        # save the grid\n",
    "        if save_path is not None:\n",
    "            plt.imsave(os.path.join(save_path,f'{experiment_name}_nn_{n_repeat}.jpg'), grid)\n",
    "        "
   ]
  },
  {
   "cell_type": "code",
   "execution_count": 7,
   "id": "94ebb6e0",
   "metadata": {},
   "outputs": [
    {
     "name": "stderr",
     "output_type": "stream",
     "text": [
      "C:\\Users\\ciara\\anaconda3\\envs\\thesis\\lib\\site-packages\\ipykernel\\ipkernel.py:287: DeprecationWarning: `should_run_async` will not call `transform_cell` automatically in the future. Please pass the result to `transformed_cell` argument and any exception that happen during thetransform in `preprocessing_exc_tuple` in IPython 7.17 and above.\n",
      "  and should_run_async(code)\n"
     ]
    }
   ],
   "source": [
    "def save_nn(args_dict):\n",
    "    experiment_names = args_dict['experiment_names']\n",
    "    top_k = args_dict['top_k']\n",
    "    n_repeats = args_dict['n_repeats']\n",
    "    n_show = args_dict['n_show']\n",
    "    save_path = args_dict['save_path']\n",
    "    \n",
    "    percept = lpips.PerceptualLoss(model='net-lin', net='vgg', use_gpu=True)\n",
    "    \n",
    "    hdf5_paths = ['../FastGAN-pytorch-main/data/hdf5/cored/hdf5_cored_train_images.h5',\n",
    "                '../FastGAN-pytorch-main/data/hdf5/CAA/hdf5_CAA_train_images.h5',\n",
    "                '../FastGAN-pytorch-main/data/hdf5/cored-diffuse/hdf5_cored-diffuse_train_images.h5',\n",
    "                '../FastGAN-pytorch-main/data/hdf5/CAA-diffuse/hdf5_CAA-diffuse_train_images.h5']\n",
    "    \n",
    "    for experiment, hdf5_real in zip(experiment_names, hdf5_paths):\n",
    "        generated_folder = os.path.join('./plots/generated', experiment)\n",
    "        \n",
    "        get_top_nn_lpips(generated_folder, hdf5_real, percept, top_k=top_k, n_show = n_show, n_repeats = n_repeats,\n",
    "                     save_path=save_path, experiment_name = experiment)\n",
    "    "
   ]
  },
  {
   "cell_type": "code",
   "execution_count": 8,
   "id": "9dc8a805",
   "metadata": {},
   "outputs": [
    {
     "name": "stderr",
     "output_type": "stream",
     "text": [
      "C:\\Users\\ciara\\anaconda3\\envs\\thesis\\lib\\site-packages\\ipykernel\\ipkernel.py:287: DeprecationWarning: `should_run_async` will not call `transform_cell` automatically in the future. Please pass the result to `transformed_cell` argument and any exception that happen during thetransform in `preprocessing_exc_tuple` in IPython 7.17 and above.\n",
      "  and should_run_async(code)\n"
     ]
    }
   ],
   "source": [
    "experiment_names = ['cored_final', 'CAA_final', 'cored-diffuse_final', 'CAA-diffuse_final']\n",
    "top_k = 4\n",
    "n_repeats = 5\n",
    "n_show = 5\n",
    "save_path = './plots/nn'\n",
    "args_dict = {'experiment_names': experiment_names,\n",
    "            'top_k': top_k,\n",
    "            'n_repeats': n_repeats,\n",
    "            'n_show': n_show,\n",
    "            'save_path': save_path}"
   ]
  },
  {
   "cell_type": "code",
   "execution_count": 9,
   "id": "a0a65878",
   "metadata": {},
   "outputs": [
    {
     "name": "stderr",
     "output_type": "stream",
     "text": [
      "C:\\Users\\ciara\\anaconda3\\envs\\thesis\\lib\\site-packages\\ipykernel\\ipkernel.py:287: DeprecationWarning: `should_run_async` will not call `transform_cell` automatically in the future. Please pass the result to `transformed_cell` argument and any exception that happen during thetransform in `preprocessing_exc_tuple` in IPython 7.17 and above.\n",
      "  and should_run_async(code)\n"
     ]
    },
    {
     "name": "stdout",
     "output_type": "stream",
     "text": [
      "Setting up Perceptual loss...\n",
      "Loading model from: C:\\Users\\ciara\\Documents\\ucl_masters\\modules\\Project\\FastGAN-extended\\lpips\\weights\\v0.1\\vgg.pth\n"
     ]
    },
    {
     "name": "stderr",
     "output_type": "stream",
     "text": [
      "\r",
      "  0%|                                                                                            | 0/5 [00:00<?, ?it/s]"
     ]
    },
    {
     "name": "stdout",
     "output_type": "stream",
     "text": [
      "...[net-lin [vgg]] initialized\n",
      "...Done\n"
     ]
    },
    {
     "name": "stderr",
     "output_type": "stream",
     "text": [
      "C:\\Users\\ciara\\anaconda3\\envs\\thesis\\lib\\site-packages\\torch\\nn\\functional.py:718: UserWarning: Named tensors and all their associated APIs are an experimental feature and subject to change. Please do not use them for anything important until they are released as stable. (Triggered internally at  ..\\c10/core/TensorImpl.h:1156.)\n",
      "  return torch.max_pool2d(input, kernel_size, stride, padding, dilation, ceil_mode)\n",
      "100%|███████████████████████████████████████████████████████████████████████████████████| 5/5 [11:43<00:00, 140.71s/it]\n",
      "100%|███████████████████████████████████████████████████████████████████████████████████| 5/5 [13:23<00:00, 160.73s/it]\n",
      "100%|████████████████████████████████████████████████████████████████████████████████████| 5/5 [03:42<00:00, 44.48s/it]\n",
      "100%|████████████████████████████████████████████████████████████████████████████████████| 5/5 [02:39<00:00, 31.97s/it]\n"
     ]
    },
    {
     "data": {
      "image/png": "[encoded data removed]",
      "text/plain": [
       "<Figure size 432x288 with 1 Axes>"
      ]
     },
     "metadata": {
      "needs_background": "light"
     },
     "output_type": "display_data"
    }
   ],
   "source": [
    "save_nn(args_dict)"
   ]
  },
  {
   "cell_type": "code",
   "execution_count": null,
   "id": "6f31e7d2",
   "metadata": {},
   "outputs": [],
   "source": []
  }
 ],
 "metadata": {
  "kernelspec": {
   "display_name": "Python 3",
   "language": "python",
   "name": "python3"
  },
  "language_info": {
   "codemirror_mode": {
    "name": "ipython",
    "version": 3
   },
   "file_extension": ".py",
   "mimetype": "text/x-python",
   "name": "python",
   "nbconvert_exporter": "python",
   "pygments_lexer": "ipython3",
   "version": "3.9.6"
  }
 },
 "nbformat": 4,
 "nbformat_minor": 5
}
