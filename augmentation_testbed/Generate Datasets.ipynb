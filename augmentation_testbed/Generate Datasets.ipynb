{
 "cells": [
  {
   "cell_type": "markdown",
   "id": "54a11d58",
   "metadata": {},
   "source": [
    "Notebook for generating new images for upsampling:\n",
    "\n",
    "- Minority classes augmented using standard augmentations\n",
    "- Minority classes augmented using AugMix\n",
    "- Minority classes augmented using SMOTE\n",
    "\n",
    "Code for GAN-oversampling minority classes is located in PlaqueGAN directory."
   ]
  },
  {
   "cell_type": "code",
   "execution_count": 14,
   "id": "cc143d81",
   "metadata": {},
   "outputs": [],
   "source": [
    "import torch\n",
    "from torchvision import transforms\n",
    "import torchvision.utils as vutils\n",
    "\n",
    "from PIL import Image\n",
    "import pandas as pd\n",
    "\n",
    "import os\n",
    "\n",
    "from tqdm import tqdm\n",
    "\n",
    "import numpy as np"
   ]
  },
  {
   "cell_type": "markdown",
   "id": "e3396d9d",
   "metadata": {},
   "source": [
    "# Upsampling via standard augmentations"
   ]
  },
  {
   "cell_type": "code",
   "execution_count": 2,
   "id": "a72f6d54",
   "metadata": {},
   "outputs": [
    {
     "data": {
      "text/html": [
       "<div>\n",
       "<style scoped>\n",
       "    .dataframe tbody tr th:only-of-type {\n",
       "        vertical-align: middle;\n",
       "    }\n",
       "\n",
       "    .dataframe tbody tr th {\n",
       "        vertical-align: top;\n",
       "    }\n",
       "\n",
       "    .dataframe thead th {\n",
       "        text-align: right;\n",
       "    }\n",
       "</style>\n",
       "<table border=\"1\" class=\"dataframe\">\n",
       "  <thead>\n",
       "    <tr style=\"text-align: right;\">\n",
       "      <th></th>\n",
       "      <th>id</th>\n",
       "      <th>imagename</th>\n",
       "      <th>cored</th>\n",
       "      <th>diffuse</th>\n",
       "      <th>CAA</th>\n",
       "      <th>negative</th>\n",
       "      <th>flag</th>\n",
       "      <th>notsure</th>\n",
       "    </tr>\n",
       "  </thead>\n",
       "  <tbody>\n",
       "    <tr>\n",
       "      <th>0</th>\n",
       "      <td>10748</td>\n",
       "      <td>NA4757-02_AB/NA4757-02_AB_18_25_61.jpg</td>\n",
       "      <td>1.0</td>\n",
       "      <td>0.000000</td>\n",
       "      <td>0.0</td>\n",
       "      <td>0.0</td>\n",
       "      <td>0.0</td>\n",
       "      <td>0.0</td>\n",
       "    </tr>\n",
       "    <tr>\n",
       "      <th>1</th>\n",
       "      <td>29503</td>\n",
       "      <td>NA4918-02_AB17-24/NA4918-02_AB17-24_9_18_12.jpg</td>\n",
       "      <td>0.0</td>\n",
       "      <td>2.832462</td>\n",
       "      <td>0.0</td>\n",
       "      <td>0.0</td>\n",
       "      <td>0.0</td>\n",
       "      <td>0.0</td>\n",
       "    </tr>\n",
       "    <tr>\n",
       "      <th>2</th>\n",
       "      <td>42524</td>\n",
       "      <td>NA4885-02_AB17-24/NA4885-02_AB17-24_4_23_50.jpg</td>\n",
       "      <td>1.0</td>\n",
       "      <td>1.000000</td>\n",
       "      <td>0.0</td>\n",
       "      <td>0.0</td>\n",
       "      <td>1.0</td>\n",
       "      <td>0.0</td>\n",
       "    </tr>\n",
       "    <tr>\n",
       "      <th>3</th>\n",
       "      <td>34432</td>\n",
       "      <td>NA4749-02_AB/NA4749-02_AB_17_12_50.jpg</td>\n",
       "      <td>0.0</td>\n",
       "      <td>3.770270</td>\n",
       "      <td>0.0</td>\n",
       "      <td>0.0</td>\n",
       "      <td>0.0</td>\n",
       "      <td>0.0</td>\n",
       "    </tr>\n",
       "    <tr>\n",
       "      <th>4</th>\n",
       "      <td>4137</td>\n",
       "      <td>NA4751-02_AB/NA4751-02_AB_19_6_34.jpg</td>\n",
       "      <td>0.0</td>\n",
       "      <td>1.000000</td>\n",
       "      <td>2.0</td>\n",
       "      <td>0.0</td>\n",
       "      <td>2.0</td>\n",
       "      <td>0.0</td>\n",
       "    </tr>\n",
       "  </tbody>\n",
       "</table>\n",
       "</div>"
      ],
      "text/plain": [
       "      id                                        imagename  cored   diffuse  \\\n",
       "0  10748           NA4757-02_AB/NA4757-02_AB_18_25_61.jpg    1.0  0.000000   \n",
       "1  29503  NA4918-02_AB17-24/NA4918-02_AB17-24_9_18_12.jpg    0.0  2.832462   \n",
       "2  42524  NA4885-02_AB17-24/NA4885-02_AB17-24_4_23_50.jpg    1.0  1.000000   \n",
       "3  34432           NA4749-02_AB/NA4749-02_AB_17_12_50.jpg    0.0  3.770270   \n",
       "4   4137            NA4751-02_AB/NA4751-02_AB_19_6_34.jpg    0.0  1.000000   \n",
       "\n",
       "   CAA  negative  flag  notsure  \n",
       "0  0.0       0.0   0.0      0.0  \n",
       "1  0.0       0.0   0.0      0.0  \n",
       "2  0.0       0.0   1.0      0.0  \n",
       "3  0.0       0.0   0.0      0.0  \n",
       "4  2.0       0.0   2.0      0.0  "
      ]
     },
     "execution_count": 2,
     "metadata": {},
     "output_type": "execute_result"
    }
   ],
   "source": [
    "# first need to get the csv data for simple upsampled data - to know which items have been duplicated\n",
    "csv_path = './CSVs/train_simple_up.csv'\n",
    "df_up = pd.read_csv(csv_path)\n",
    "df_up.head()"
   ]
  },
  {
   "cell_type": "code",
   "execution_count": 3,
   "id": "4cd7cd25",
   "metadata": {},
   "outputs": [
    {
     "data": {
      "text/html": [
       "<div>\n",
       "<style scoped>\n",
       "    .dataframe tbody tr th:only-of-type {\n",
       "        vertical-align: middle;\n",
       "    }\n",
       "\n",
       "    .dataframe tbody tr th {\n",
       "        vertical-align: top;\n",
       "    }\n",
       "\n",
       "    .dataframe thead th {\n",
       "        text-align: right;\n",
       "    }\n",
       "</style>\n",
       "<table border=\"1\" class=\"dataframe\">\n",
       "  <thead>\n",
       "    <tr style=\"text-align: right;\">\n",
       "      <th></th>\n",
       "      <th>index</th>\n",
       "      <th>id</th>\n",
       "      <th>imagename</th>\n",
       "      <th>cored</th>\n",
       "      <th>diffuse</th>\n",
       "      <th>CAA</th>\n",
       "      <th>negative</th>\n",
       "      <th>flag</th>\n",
       "      <th>notsure</th>\n",
       "    </tr>\n",
       "  </thead>\n",
       "  <tbody>\n",
       "    <tr>\n",
       "      <th>0</th>\n",
       "      <td>0</td>\n",
       "      <td>14215</td>\n",
       "      <td>NA4009-02_AB/NA4009-02_AB_10_24_0.jpg</td>\n",
       "      <td>1.0</td>\n",
       "      <td>0.0</td>\n",
       "      <td>0.0</td>\n",
       "      <td>0.0</td>\n",
       "      <td>0.0</td>\n",
       "      <td>0.0</td>\n",
       "    </tr>\n",
       "    <tr>\n",
       "      <th>1</th>\n",
       "      <td>1</td>\n",
       "      <td>14215</td>\n",
       "      <td>NA4009-02_AB/NA4009-02_AB_10_24_0.jpg</td>\n",
       "      <td>1.0</td>\n",
       "      <td>0.0</td>\n",
       "      <td>0.0</td>\n",
       "      <td>0.0</td>\n",
       "      <td>0.0</td>\n",
       "      <td>0.0</td>\n",
       "    </tr>\n",
       "    <tr>\n",
       "      <th>2</th>\n",
       "      <td>2</td>\n",
       "      <td>14215</td>\n",
       "      <td>NA4009-02_AB/NA4009-02_AB_10_24_0.jpg</td>\n",
       "      <td>1.0</td>\n",
       "      <td>0.0</td>\n",
       "      <td>0.0</td>\n",
       "      <td>0.0</td>\n",
       "      <td>0.0</td>\n",
       "      <td>0.0</td>\n",
       "    </tr>\n",
       "    <tr>\n",
       "      <th>3</th>\n",
       "      <td>3</td>\n",
       "      <td>14215</td>\n",
       "      <td>NA4009-02_AB/NA4009-02_AB_10_24_0.jpg</td>\n",
       "      <td>1.0</td>\n",
       "      <td>0.0</td>\n",
       "      <td>0.0</td>\n",
       "      <td>0.0</td>\n",
       "      <td>0.0</td>\n",
       "      <td>0.0</td>\n",
       "    </tr>\n",
       "    <tr>\n",
       "      <th>4</th>\n",
       "      <td>4</td>\n",
       "      <td>14215</td>\n",
       "      <td>NA4009-02_AB/NA4009-02_AB_10_24_0.jpg</td>\n",
       "      <td>1.0</td>\n",
       "      <td>0.0</td>\n",
       "      <td>0.0</td>\n",
       "      <td>0.0</td>\n",
       "      <td>0.0</td>\n",
       "      <td>0.0</td>\n",
       "    </tr>\n",
       "  </tbody>\n",
       "</table>\n",
       "</div>"
      ],
      "text/plain": [
       "   index     id                              imagename  cored  diffuse  CAA  \\\n",
       "0      0  14215  NA4009-02_AB/NA4009-02_AB_10_24_0.jpg    1.0      0.0  0.0   \n",
       "1      1  14215  NA4009-02_AB/NA4009-02_AB_10_24_0.jpg    1.0      0.0  0.0   \n",
       "2      2  14215  NA4009-02_AB/NA4009-02_AB_10_24_0.jpg    1.0      0.0  0.0   \n",
       "3      3  14215  NA4009-02_AB/NA4009-02_AB_10_24_0.jpg    1.0      0.0  0.0   \n",
       "4      4  14215  NA4009-02_AB/NA4009-02_AB_10_24_0.jpg    1.0      0.0  0.0   \n",
       "\n",
       "   negative  flag  notsure  \n",
       "0       0.0   0.0      0.0  \n",
       "1       0.0   0.0      0.0  \n",
       "2       0.0   0.0      0.0  \n",
       "3       0.0   0.0      0.0  \n",
       "4       0.0   0.0      0.0  "
      ]
     },
     "execution_count": 3,
     "metadata": {},
     "output_type": "execute_result"
    }
   ],
   "source": [
    "df_augment = df_up.loc[df_up.duplicated()==True,:]\n",
    "df_augment = df_augment.sort_values(by='imagename', ignore_index=True).reset_index()\n",
    "df_augment.head()"
   ]
  },
  {
   "cell_type": "code",
   "execution_count": 4,
   "id": "3c32762c",
   "metadata": {},
   "outputs": [],
   "source": [
    "# create name of images to save \n",
    "num_imgs = df_augment.shape[0]\n",
    "img_names_aug = [f'std_aug/{num}.jpg' for num in range(num_imgs)]"
   ]
  },
  {
   "cell_type": "code",
   "execution_count": 5,
   "id": "beb729f4",
   "metadata": {},
   "outputs": [],
   "source": [
    "df_augment['imagename_new'] = img_names_aug"
   ]
  },
  {
   "cell_type": "code",
   "execution_count": 6,
   "id": "59efbf32",
   "metadata": {},
   "outputs": [
    {
     "data": {
      "text/html": [
       "<div>\n",
       "<style scoped>\n",
       "    .dataframe tbody tr th:only-of-type {\n",
       "        vertical-align: middle;\n",
       "    }\n",
       "\n",
       "    .dataframe tbody tr th {\n",
       "        vertical-align: top;\n",
       "    }\n",
       "\n",
       "    .dataframe thead th {\n",
       "        text-align: right;\n",
       "    }\n",
       "</style>\n",
       "<table border=\"1\" class=\"dataframe\">\n",
       "  <thead>\n",
       "    <tr style=\"text-align: right;\">\n",
       "      <th></th>\n",
       "      <th>index</th>\n",
       "      <th>id</th>\n",
       "      <th>imagename</th>\n",
       "      <th>cored</th>\n",
       "      <th>diffuse</th>\n",
       "      <th>CAA</th>\n",
       "      <th>negative</th>\n",
       "      <th>flag</th>\n",
       "      <th>notsure</th>\n",
       "      <th>imagename_new</th>\n",
       "    </tr>\n",
       "  </thead>\n",
       "  <tbody>\n",
       "    <tr>\n",
       "      <th>0</th>\n",
       "      <td>0</td>\n",
       "      <td>14215</td>\n",
       "      <td>NA4009-02_AB/NA4009-02_AB_10_24_0.jpg</td>\n",
       "      <td>1.0</td>\n",
       "      <td>0.000000</td>\n",
       "      <td>0.0</td>\n",
       "      <td>0.0</td>\n",
       "      <td>0.0</td>\n",
       "      <td>0.0</td>\n",
       "      <td>std_aug/0.jpg</td>\n",
       "    </tr>\n",
       "    <tr>\n",
       "      <th>1</th>\n",
       "      <td>1</td>\n",
       "      <td>14215</td>\n",
       "      <td>NA4009-02_AB/NA4009-02_AB_10_24_0.jpg</td>\n",
       "      <td>1.0</td>\n",
       "      <td>0.000000</td>\n",
       "      <td>0.0</td>\n",
       "      <td>0.0</td>\n",
       "      <td>0.0</td>\n",
       "      <td>0.0</td>\n",
       "      <td>std_aug/1.jpg</td>\n",
       "    </tr>\n",
       "    <tr>\n",
       "      <th>2</th>\n",
       "      <td>2</td>\n",
       "      <td>14215</td>\n",
       "      <td>NA4009-02_AB/NA4009-02_AB_10_24_0.jpg</td>\n",
       "      <td>1.0</td>\n",
       "      <td>0.000000</td>\n",
       "      <td>0.0</td>\n",
       "      <td>0.0</td>\n",
       "      <td>0.0</td>\n",
       "      <td>0.0</td>\n",
       "      <td>std_aug/2.jpg</td>\n",
       "    </tr>\n",
       "    <tr>\n",
       "      <th>3</th>\n",
       "      <td>3</td>\n",
       "      <td>14215</td>\n",
       "      <td>NA4009-02_AB/NA4009-02_AB_10_24_0.jpg</td>\n",
       "      <td>1.0</td>\n",
       "      <td>0.000000</td>\n",
       "      <td>0.0</td>\n",
       "      <td>0.0</td>\n",
       "      <td>0.0</td>\n",
       "      <td>0.0</td>\n",
       "      <td>std_aug/3.jpg</td>\n",
       "    </tr>\n",
       "    <tr>\n",
       "      <th>4</th>\n",
       "      <td>4</td>\n",
       "      <td>14215</td>\n",
       "      <td>NA4009-02_AB/NA4009-02_AB_10_24_0.jpg</td>\n",
       "      <td>1.0</td>\n",
       "      <td>0.000000</td>\n",
       "      <td>0.0</td>\n",
       "      <td>0.0</td>\n",
       "      <td>0.0</td>\n",
       "      <td>0.0</td>\n",
       "      <td>std_aug/4.jpg</td>\n",
       "    </tr>\n",
       "    <tr>\n",
       "      <th>...</th>\n",
       "      <td>...</td>\n",
       "      <td>...</td>\n",
       "      <td>...</td>\n",
       "      <td>...</td>\n",
       "      <td>...</td>\n",
       "      <td>...</td>\n",
       "      <td>...</td>\n",
       "      <td>...</td>\n",
       "      <td>...</td>\n",
       "      <td>...</td>\n",
       "    </tr>\n",
       "    <tr>\n",
       "      <th>93864</th>\n",
       "      <td>93864</td>\n",
       "      <td>14846</td>\n",
       "      <td>NA_4888_02_AB17-24/NA_4888_02_AB17-24_8_26_15.jpg</td>\n",
       "      <td>1.0</td>\n",
       "      <td>0.743902</td>\n",
       "      <td>0.0</td>\n",
       "      <td>0.0</td>\n",
       "      <td>0.0</td>\n",
       "      <td>0.0</td>\n",
       "      <td>std_aug/93864.jpg</td>\n",
       "    </tr>\n",
       "    <tr>\n",
       "      <th>93865</th>\n",
       "      <td>93865</td>\n",
       "      <td>14846</td>\n",
       "      <td>NA_4888_02_AB17-24/NA_4888_02_AB17-24_8_26_15.jpg</td>\n",
       "      <td>1.0</td>\n",
       "      <td>0.743902</td>\n",
       "      <td>0.0</td>\n",
       "      <td>0.0</td>\n",
       "      <td>0.0</td>\n",
       "      <td>0.0</td>\n",
       "      <td>std_aug/93865.jpg</td>\n",
       "    </tr>\n",
       "    <tr>\n",
       "      <th>93866</th>\n",
       "      <td>93866</td>\n",
       "      <td>14846</td>\n",
       "      <td>NA_4888_02_AB17-24/NA_4888_02_AB17-24_8_26_15.jpg</td>\n",
       "      <td>1.0</td>\n",
       "      <td>0.743902</td>\n",
       "      <td>0.0</td>\n",
       "      <td>0.0</td>\n",
       "      <td>0.0</td>\n",
       "      <td>0.0</td>\n",
       "      <td>std_aug/93866.jpg</td>\n",
       "    </tr>\n",
       "    <tr>\n",
       "      <th>93867</th>\n",
       "      <td>93867</td>\n",
       "      <td>14846</td>\n",
       "      <td>NA_4888_02_AB17-24/NA_4888_02_AB17-24_8_26_15.jpg</td>\n",
       "      <td>1.0</td>\n",
       "      <td>0.743902</td>\n",
       "      <td>0.0</td>\n",
       "      <td>0.0</td>\n",
       "      <td>0.0</td>\n",
       "      <td>0.0</td>\n",
       "      <td>std_aug/93867.jpg</td>\n",
       "    </tr>\n",
       "    <tr>\n",
       "      <th>93868</th>\n",
       "      <td>93868</td>\n",
       "      <td>14846</td>\n",
       "      <td>NA_4888_02_AB17-24/NA_4888_02_AB17-24_8_26_15.jpg</td>\n",
       "      <td>1.0</td>\n",
       "      <td>0.743902</td>\n",
       "      <td>0.0</td>\n",
       "      <td>0.0</td>\n",
       "      <td>0.0</td>\n",
       "      <td>0.0</td>\n",
       "      <td>std_aug/93868.jpg</td>\n",
       "    </tr>\n",
       "  </tbody>\n",
       "</table>\n",
       "<p>93869 rows × 10 columns</p>\n",
       "</div>"
      ],
      "text/plain": [
       "       index     id                                          imagename  cored  \\\n",
       "0          0  14215              NA4009-02_AB/NA4009-02_AB_10_24_0.jpg    1.0   \n",
       "1          1  14215              NA4009-02_AB/NA4009-02_AB_10_24_0.jpg    1.0   \n",
       "2          2  14215              NA4009-02_AB/NA4009-02_AB_10_24_0.jpg    1.0   \n",
       "3          3  14215              NA4009-02_AB/NA4009-02_AB_10_24_0.jpg    1.0   \n",
       "4          4  14215              NA4009-02_AB/NA4009-02_AB_10_24_0.jpg    1.0   \n",
       "...      ...    ...                                                ...    ...   \n",
       "93864  93864  14846  NA_4888_02_AB17-24/NA_4888_02_AB17-24_8_26_15.jpg    1.0   \n",
       "93865  93865  14846  NA_4888_02_AB17-24/NA_4888_02_AB17-24_8_26_15.jpg    1.0   \n",
       "93866  93866  14846  NA_4888_02_AB17-24/NA_4888_02_AB17-24_8_26_15.jpg    1.0   \n",
       "93867  93867  14846  NA_4888_02_AB17-24/NA_4888_02_AB17-24_8_26_15.jpg    1.0   \n",
       "93868  93868  14846  NA_4888_02_AB17-24/NA_4888_02_AB17-24_8_26_15.jpg    1.0   \n",
       "\n",
       "        diffuse  CAA  negative  flag  notsure      imagename_new  \n",
       "0      0.000000  0.0       0.0   0.0      0.0      std_aug/0.jpg  \n",
       "1      0.000000  0.0       0.0   0.0      0.0      std_aug/1.jpg  \n",
       "2      0.000000  0.0       0.0   0.0      0.0      std_aug/2.jpg  \n",
       "3      0.000000  0.0       0.0   0.0      0.0      std_aug/3.jpg  \n",
       "4      0.000000  0.0       0.0   0.0      0.0      std_aug/4.jpg  \n",
       "...         ...  ...       ...   ...      ...                ...  \n",
       "93864  0.743902  0.0       0.0   0.0      0.0  std_aug/93864.jpg  \n",
       "93865  0.743902  0.0       0.0   0.0      0.0  std_aug/93865.jpg  \n",
       "93866  0.743902  0.0       0.0   0.0      0.0  std_aug/93866.jpg  \n",
       "93867  0.743902  0.0       0.0   0.0      0.0  std_aug/93867.jpg  \n",
       "93868  0.743902  0.0       0.0   0.0      0.0  std_aug/93868.jpg  \n",
       "\n",
       "[93869 rows x 10 columns]"
      ]
     },
     "execution_count": 6,
     "metadata": {},
     "output_type": "execute_result"
    }
   ],
   "source": [
    "df_augment"
   ]
  },
  {
   "cell_type": "code",
   "execution_count": 84,
   "id": "2b4181dd",
   "metadata": {},
   "outputs": [],
   "source": [
    "#transforms to apply:\n",
    "trans_standard = transforms.Compose([\n",
    "                            transforms.RandomHorizontalFlip(),\n",
    "                            transforms.RandomVerticalFlip(),\n",
    "                            transforms.RandomResizedCrop(256, scale=(0.8,1)),\n",
    "                            transforms.RandomApply([transforms.RandomRotation((90, 90))], p=0.5),\n",
    "                            transforms.ColorJitter(brightness=0.1, contrast=0.2,saturation=0.2, hue=0.02)])\n",
    "#                             transforms.RandomAffine(0, translate=(0.05,0.05), scale=(0.9,1.1), shear=10)])"
   ]
  },
  {
   "cell_type": "code",
   "execution_count": 90,
   "id": "4e563205",
   "metadata": {},
   "outputs": [
    {
     "name": "stderr",
     "output_type": "stream",
     "text": [
      "100%|█████████████████████████████████████████████████████████████████████████████████████████████████████████████████████████████████████████████████████████████████████████████████████████████████| 93869/93869 [22:13<00:00, 70.38it/s]\n"
     ]
    }
   ],
   "source": [
    "img_path = '../Plaquebox/plaquebox-paper-master/data/tiles/train_and_val/'\n",
    "\n",
    "for i, single_image_name in tqdm(enumerate(df_augment['imagename']), total=num_imgs):\n",
    "#     print(single_image_name)\n",
    "    img = Image.open(img_path + single_image_name)\n",
    "    img = trans_standard(img)\n",
    "    img.save(os.path.join(img_path, img_names_aug[i]), quality=95)"
   ]
  },
  {
   "cell_type": "code",
   "execution_count": 7,
   "id": "2b615867",
   "metadata": {},
   "outputs": [],
   "source": [
    "df_augment.reset_index(drop=True, inplace=True)"
   ]
  },
  {
   "cell_type": "code",
   "execution_count": 13,
   "id": "cd04550f",
   "metadata": {},
   "outputs": [],
   "source": [
    "df_augment.drop(labels=['index', 'imagename'], axis=1, inplace=True)"
   ]
  },
  {
   "cell_type": "code",
   "execution_count": 22,
   "id": "e4a621a1",
   "metadata": {},
   "outputs": [],
   "source": [
    "df_augment.columns=['id', 'cored', 'diffuse', 'CAA', 'negative', 'flag', 'notsure', 'imagename']"
   ]
  },
  {
   "cell_type": "code",
   "execution_count": 23,
   "id": "b43430e9",
   "metadata": {},
   "outputs": [],
   "source": [
    "df_augment= df_augment[['id','imagename','cored','diffuse','CAA','negative','flag','notsure']]"
   ]
  },
  {
   "cell_type": "code",
   "execution_count": 24,
   "id": "faefbbf4",
   "metadata": {},
   "outputs": [
    {
     "data": {
      "text/html": [
       "<div>\n",
       "<style scoped>\n",
       "    .dataframe tbody tr th:only-of-type {\n",
       "        vertical-align: middle;\n",
       "    }\n",
       "\n",
       "    .dataframe tbody tr th {\n",
       "        vertical-align: top;\n",
       "    }\n",
       "\n",
       "    .dataframe thead th {\n",
       "        text-align: right;\n",
       "    }\n",
       "</style>\n",
       "<table border=\"1\" class=\"dataframe\">\n",
       "  <thead>\n",
       "    <tr style=\"text-align: right;\">\n",
       "      <th></th>\n",
       "      <th>id</th>\n",
       "      <th>imagename</th>\n",
       "      <th>cored</th>\n",
       "      <th>diffuse</th>\n",
       "      <th>CAA</th>\n",
       "      <th>negative</th>\n",
       "      <th>flag</th>\n",
       "      <th>notsure</th>\n",
       "    </tr>\n",
       "  </thead>\n",
       "  <tbody>\n",
       "    <tr>\n",
       "      <th>0</th>\n",
       "      <td>14215</td>\n",
       "      <td>std_aug/0.jpg</td>\n",
       "      <td>1.0</td>\n",
       "      <td>0.000000</td>\n",
       "      <td>0.0</td>\n",
       "      <td>0.0</td>\n",
       "      <td>0.0</td>\n",
       "      <td>0.0</td>\n",
       "    </tr>\n",
       "    <tr>\n",
       "      <th>1</th>\n",
       "      <td>14215</td>\n",
       "      <td>std_aug/1.jpg</td>\n",
       "      <td>1.0</td>\n",
       "      <td>0.000000</td>\n",
       "      <td>0.0</td>\n",
       "      <td>0.0</td>\n",
       "      <td>0.0</td>\n",
       "      <td>0.0</td>\n",
       "    </tr>\n",
       "    <tr>\n",
       "      <th>2</th>\n",
       "      <td>14215</td>\n",
       "      <td>std_aug/2.jpg</td>\n",
       "      <td>1.0</td>\n",
       "      <td>0.000000</td>\n",
       "      <td>0.0</td>\n",
       "      <td>0.0</td>\n",
       "      <td>0.0</td>\n",
       "      <td>0.0</td>\n",
       "    </tr>\n",
       "    <tr>\n",
       "      <th>3</th>\n",
       "      <td>14215</td>\n",
       "      <td>std_aug/3.jpg</td>\n",
       "      <td>1.0</td>\n",
       "      <td>0.000000</td>\n",
       "      <td>0.0</td>\n",
       "      <td>0.0</td>\n",
       "      <td>0.0</td>\n",
       "      <td>0.0</td>\n",
       "    </tr>\n",
       "    <tr>\n",
       "      <th>4</th>\n",
       "      <td>14215</td>\n",
       "      <td>std_aug/4.jpg</td>\n",
       "      <td>1.0</td>\n",
       "      <td>0.000000</td>\n",
       "      <td>0.0</td>\n",
       "      <td>0.0</td>\n",
       "      <td>0.0</td>\n",
       "      <td>0.0</td>\n",
       "    </tr>\n",
       "    <tr>\n",
       "      <th>...</th>\n",
       "      <td>...</td>\n",
       "      <td>...</td>\n",
       "      <td>...</td>\n",
       "      <td>...</td>\n",
       "      <td>...</td>\n",
       "      <td>...</td>\n",
       "      <td>...</td>\n",
       "      <td>...</td>\n",
       "    </tr>\n",
       "    <tr>\n",
       "      <th>93864</th>\n",
       "      <td>14846</td>\n",
       "      <td>std_aug/93864.jpg</td>\n",
       "      <td>1.0</td>\n",
       "      <td>0.743902</td>\n",
       "      <td>0.0</td>\n",
       "      <td>0.0</td>\n",
       "      <td>0.0</td>\n",
       "      <td>0.0</td>\n",
       "    </tr>\n",
       "    <tr>\n",
       "      <th>93865</th>\n",
       "      <td>14846</td>\n",
       "      <td>std_aug/93865.jpg</td>\n",
       "      <td>1.0</td>\n",
       "      <td>0.743902</td>\n",
       "      <td>0.0</td>\n",
       "      <td>0.0</td>\n",
       "      <td>0.0</td>\n",
       "      <td>0.0</td>\n",
       "    </tr>\n",
       "    <tr>\n",
       "      <th>93866</th>\n",
       "      <td>14846</td>\n",
       "      <td>std_aug/93866.jpg</td>\n",
       "      <td>1.0</td>\n",
       "      <td>0.743902</td>\n",
       "      <td>0.0</td>\n",
       "      <td>0.0</td>\n",
       "      <td>0.0</td>\n",
       "      <td>0.0</td>\n",
       "    </tr>\n",
       "    <tr>\n",
       "      <th>93867</th>\n",
       "      <td>14846</td>\n",
       "      <td>std_aug/93867.jpg</td>\n",
       "      <td>1.0</td>\n",
       "      <td>0.743902</td>\n",
       "      <td>0.0</td>\n",
       "      <td>0.0</td>\n",
       "      <td>0.0</td>\n",
       "      <td>0.0</td>\n",
       "    </tr>\n",
       "    <tr>\n",
       "      <th>93868</th>\n",
       "      <td>14846</td>\n",
       "      <td>std_aug/93868.jpg</td>\n",
       "      <td>1.0</td>\n",
       "      <td>0.743902</td>\n",
       "      <td>0.0</td>\n",
       "      <td>0.0</td>\n",
       "      <td>0.0</td>\n",
       "      <td>0.0</td>\n",
       "    </tr>\n",
       "  </tbody>\n",
       "</table>\n",
       "<p>93869 rows × 8 columns</p>\n",
       "</div>"
      ],
      "text/plain": [
       "          id          imagename  cored   diffuse  CAA  negative  flag  notsure\n",
       "0      14215      std_aug/0.jpg    1.0  0.000000  0.0       0.0   0.0      0.0\n",
       "1      14215      std_aug/1.jpg    1.0  0.000000  0.0       0.0   0.0      0.0\n",
       "2      14215      std_aug/2.jpg    1.0  0.000000  0.0       0.0   0.0      0.0\n",
       "3      14215      std_aug/3.jpg    1.0  0.000000  0.0       0.0   0.0      0.0\n",
       "4      14215      std_aug/4.jpg    1.0  0.000000  0.0       0.0   0.0      0.0\n",
       "...      ...                ...    ...       ...  ...       ...   ...      ...\n",
       "93864  14846  std_aug/93864.jpg    1.0  0.743902  0.0       0.0   0.0      0.0\n",
       "93865  14846  std_aug/93865.jpg    1.0  0.743902  0.0       0.0   0.0      0.0\n",
       "93866  14846  std_aug/93866.jpg    1.0  0.743902  0.0       0.0   0.0      0.0\n",
       "93867  14846  std_aug/93867.jpg    1.0  0.743902  0.0       0.0   0.0      0.0\n",
       "93868  14846  std_aug/93868.jpg    1.0  0.743902  0.0       0.0   0.0      0.0\n",
       "\n",
       "[93869 rows x 8 columns]"
      ]
     },
     "execution_count": 24,
     "metadata": {},
     "output_type": "execute_result"
    }
   ],
   "source": [
    "df_augment"
   ]
  },
  {
   "cell_type": "code",
   "execution_count": 25,
   "id": "4e2f500a",
   "metadata": {},
   "outputs": [],
   "source": [
    "df_augment.to_csv('./CSVs/train_stdaug_up.csv')"
   ]
  },
  {
   "cell_type": "markdown",
   "id": "a113bc81",
   "metadata": {},
   "source": [
    "# AugMix"
   ]
  },
  {
   "cell_type": "code",
   "execution_count": 4,
   "id": "96292755",
   "metadata": {},
   "outputs": [],
   "source": [
    "from augmix import augment_and_mix, augmentations\n",
    "\n",
    "augmentations.IMAGE_SIZE=256"
   ]
  },
  {
   "cell_type": "code",
   "execution_count": 5,
   "id": "e897e513",
   "metadata": {},
   "outputs": [],
   "source": [
    "# create name of images to save \n",
    "num_imgs = df_augment.shape[0]\n",
    "img_names_aug = [f'augmix/{num}.jpg' for num in range(num_imgs)]\n",
    "df_augment['imagename_new'] = img_names_aug"
   ]
  },
  {
   "cell_type": "code",
   "execution_count": 94,
   "id": "5c88261a",
   "metadata": {},
   "outputs": [],
   "source": [
    "trans = transforms.Compose([transforms.RandomHorizontalFlip(),\n",
    "                            transforms.RandomVerticalFlip(),\n",
    "                            transforms.RandomResizedCrop(256, scale=(0.8,1)),\n",
    "                            transforms.RandomApply([transforms.RandomRotation((90, 90))], p=0.5)])\n",
    "preprocess = transforms.Compose([transforms.ToTensor()])"
   ]
  },
  {
   "cell_type": "code",
   "execution_count": 95,
   "id": "f8fc0337",
   "metadata": {},
   "outputs": [],
   "source": [
    "args = {'all_ops': True, 'mixture_width': 3, 'mixture_depth':-1, 'aug_severity': 3}"
   ]
  },
  {
   "cell_type": "code",
   "execution_count": 96,
   "id": "857a098a",
   "metadata": {},
   "outputs": [],
   "source": [
    "def aug(image, preprocess, args):\n",
    "    \"\"\"Perform AugMix augmentations and compute mixture.\n",
    "    Args:\n",
    "    image: PIL.Image input image\n",
    "    preprocess: Preprocessing function which should return a torch tensor.\n",
    "    Returns:\n",
    "    mixed: Augmented and mixed image.\n",
    "    \"\"\"\n",
    "    aug_list = augmentations.augmentations\n",
    "    if args['all_ops']:\n",
    "        aug_list = augmentations.augmentations_all\n",
    "\n",
    "    ws = np.float32(np.random.dirichlet([1] * args['mixture_width']))\n",
    "    m = np.float32(np.random.beta(1, 1))\n",
    "\n",
    "    mix = torch.zeros_like(preprocess(image))\n",
    "    for i in range(args['mixture_width']):\n",
    "        image_aug = image.copy()\n",
    "        depth = args['mixture_depth'] if args['mixture_depth'] > 0 else np.random.randint(\n",
    "            1, 4)\n",
    "        for _ in range(depth):\n",
    "            op = np.random.choice(aug_list)\n",
    "            image_aug = op(image_aug, args['aug_severity'])\n",
    "        # Preprocessing commutes since all coefficients are convex\n",
    "        mix += ws[i] * preprocess(image_aug)\n",
    "\n",
    "    mixed = (1 - m) * preprocess(image) + m * mix\n",
    "    return mixed"
   ]
  },
  {
   "cell_type": "code",
   "execution_count": 139,
   "id": "96935a50",
   "metadata": {},
   "outputs": [
    {
     "name": "stderr",
     "output_type": "stream",
     "text": [
      "100%|████████████████████████████████████████████████████████████████████████████| 93869/93869 [36:17<00:00, 43.11it/s]\n"
     ]
    }
   ],
   "source": [
    "args = {'all_ops': True, 'mixture_width': 3, 'mixture_depth':-1, 'aug_severity': 3}\n",
    "img_path = '../Plaquebox/plaquebox-paper-master/data/tiles/train_and_val/'\n",
    "\n",
    "trans = transforms.Compose([transforms.RandomHorizontalFlip(),\n",
    "                            transforms.RandomVerticalFlip(),\n",
    "                            transforms.RandomResizedCrop(256, scale=(0.8,1)),\n",
    "                            transforms.RandomApply([transforms.RandomRotation((90, 90))], p=0.5)])\n",
    "preprocess = transforms.Compose([transforms.ToTensor()])\n",
    "\n",
    "for i, single_image_name in tqdm(enumerate(df_augment['imagename']), total=num_imgs):\n",
    "#     print(single_image_name)\n",
    "    img = Image.open(img_path + single_image_name)\n",
    "    img = aug(trans(img), preprocess, args)\n",
    "    img = transforms.ToPILImage()(img)\n",
    "    img.save(os.path.join(img_path, img_names_aug[i]), quality=95)"
   ]
  },
  {
   "cell_type": "code",
   "execution_count": 140,
   "id": "676d8b92",
   "metadata": {},
   "outputs": [],
   "source": [
    "df_augment.reset_index(drop=True, inplace=True)\n",
    "df_augment.drop(labels=['index', 'imagename'], axis=1, inplace=True)\n",
    "df_augment.columns=['id', 'cored', 'diffuse', 'CAA', 'negative', 'flag', 'notsure', 'imagename']\n",
    "df_augment= df_augment[['id','imagename','cored','diffuse','CAA','negative','flag','notsure']]\n",
    "df_augment.to_csv('./CSVs/train_augmix_up.csv',index=False)"
   ]
  },
  {
   "cell_type": "markdown",
   "id": "392fa1c3",
   "metadata": {},
   "source": [
    "# SMOTE"
   ]
  },
  {
   "cell_type": "code",
   "execution_count": 4,
   "id": "32792e42",
   "metadata": {},
   "outputs": [],
   "source": [
    "# create name of images to save \n",
    "num_imgs = df_augment.shape[0]\n",
    "img_names_aug = [f'smote/{num}.jpg' for num in range(num_imgs)]"
   ]
  },
  {
   "cell_type": "code",
   "execution_count": 5,
   "id": "dbebd80e",
   "metadata": {},
   "outputs": [],
   "source": [
    "from imblearn.over_sampling import SMOTE"
   ]
  },
  {
   "cell_type": "code",
   "execution_count": 6,
   "id": "baef863a",
   "metadata": {},
   "outputs": [
    {
     "data": {
      "text/html": [
       "<div>\n",
       "<style scoped>\n",
       "    .dataframe tbody tr th:only-of-type {\n",
       "        vertical-align: middle;\n",
       "    }\n",
       "\n",
       "    .dataframe tbody tr th {\n",
       "        vertical-align: top;\n",
       "    }\n",
       "\n",
       "    .dataframe thead th {\n",
       "        text-align: right;\n",
       "    }\n",
       "</style>\n",
       "<table border=\"1\" class=\"dataframe\">\n",
       "  <thead>\n",
       "    <tr style=\"text-align: right;\">\n",
       "      <th></th>\n",
       "      <th>imagename</th>\n",
       "      <th>cored</th>\n",
       "      <th>diffuse</th>\n",
       "      <th>CAA</th>\n",
       "    </tr>\n",
       "  </thead>\n",
       "  <tbody>\n",
       "    <tr>\n",
       "      <th>0</th>\n",
       "      <td>NA4009-02_AB/neg_NA4009-02_AB_0_10_4.jpg</td>\n",
       "      <td>0</td>\n",
       "      <td>0</td>\n",
       "      <td>0</td>\n",
       "    </tr>\n",
       "    <tr>\n",
       "      <th>1</th>\n",
       "      <td>NA4009-02_AB/neg_NA4009-02_AB_0_11_2.jpg</td>\n",
       "      <td>0</td>\n",
       "      <td>0</td>\n",
       "      <td>0</td>\n",
       "    </tr>\n",
       "    <tr>\n",
       "      <th>2</th>\n",
       "      <td>NA4009-02_AB/neg_NA4009-02_AB_0_16_2.jpg</td>\n",
       "      <td>0</td>\n",
       "      <td>0</td>\n",
       "      <td>0</td>\n",
       "    </tr>\n",
       "    <tr>\n",
       "      <th>3</th>\n",
       "      <td>NA4009-02_AB/neg_NA4009-02_AB_0_25_2.jpg</td>\n",
       "      <td>0</td>\n",
       "      <td>0</td>\n",
       "      <td>0</td>\n",
       "    </tr>\n",
       "    <tr>\n",
       "      <th>4</th>\n",
       "      <td>NA4009-02_AB/NA4009-02_AB_10_10_14.jpg</td>\n",
       "      <td>0</td>\n",
       "      <td>1</td>\n",
       "      <td>0</td>\n",
       "    </tr>\n",
       "  </tbody>\n",
       "</table>\n",
       "</div>"
      ],
      "text/plain": [
       "                                  imagename  cored  diffuse  CAA\n",
       "0  NA4009-02_AB/neg_NA4009-02_AB_0_10_4.jpg      0        0    0\n",
       "1  NA4009-02_AB/neg_NA4009-02_AB_0_11_2.jpg      0        0    0\n",
       "2  NA4009-02_AB/neg_NA4009-02_AB_0_16_2.jpg      0        0    0\n",
       "3  NA4009-02_AB/neg_NA4009-02_AB_0_25_2.jpg      0        0    0\n",
       "4    NA4009-02_AB/NA4009-02_AB_10_10_14.jpg      0        1    0"
      ]
     },
     "execution_count": 6,
     "metadata": {},
     "output_type": "execute_result"
    }
   ],
   "source": [
    "# oversample each of the classes\n",
    "# first need to get the csv data for the non-upsampled training data\n",
    "csv_path = './CSVs/train.csv'\n",
    "labels_df = pd.read_csv(csv_path)\n",
    "morphologies = [\"cored\",\"diffuse\",\"CAA\"]\n",
    "morphologies_filter = [\"cored\",\"CAA\",[\"cored\",\"diffuse\"],[\"CAA\",\"diffuse\"], [\"cored\",\"CAA\"]]\n",
    "\n",
    "labels_df = labels_df[[\"imagename\",\"cored\",\"diffuse\",\"CAA\"]]\n",
    "\n",
    "# convert labels to 1s and 0s\n",
    "labels_df[[\"cored\",\"diffuse\",\"CAA\"]] = labels_df[[\"cored\",\"diffuse\",\"CAA\"]].gt(0.99).astype(int)\n",
    "labels_df.head()"
   ]
  },
  {
   "cell_type": "code",
   "execution_count": 7,
   "id": "dba318e9",
   "metadata": {
    "scrolled": true
   },
   "outputs": [
    {
     "name": "stderr",
     "output_type": "stream",
     "text": [
      "100%|█████████████████████████████████████████████████████████████████████████████| 1624/1624 [00:06<00:00, 264.65it/s]\n",
      "100%|█████████████████████████████████████████████████████████████████████████████| 1855/1855 [00:07<00:00, 233.92it/s]\n",
      "100%|███████████████████████████████████████████████████████████████████████████████| 509/509 [00:02<00:00, 241.67it/s]\n",
      "100%|███████████████████████████████████████████████████████████████████████████████| 364/364 [00:02<00:00, 174.57it/s]\n",
      "100%|███████████████████████████████████████████████████████████████████████████████████| 7/7 [00:00<00:00, 254.40it/s]\n"
     ]
    }
   ],
   "source": [
    "img_path = '../Plaquebox/plaquebox-paper-master/data/tiles/train_and_val/'\n",
    "overall_array = []\n",
    "for morphs in morphologies_filter:\n",
    "    if type(morphs)==list:\n",
    "        morph_name = '-'.join(morphs)\n",
    "    else:\n",
    "        morph_name = morphs\n",
    "        morphs = [morphs]\n",
    "    query_str = ''\n",
    "    \n",
    "    for morph in morphologies:\n",
    "        if morph in morphs:\n",
    "            query_str = query_str + morph + '==1 & '\n",
    "        else:\n",
    "            query_str = query_str + morph + '==0 & '\n",
    "\n",
    "    query_str = query_str[:-3]\n",
    "    temp_df = labels_df.query(query_str)\n",
    "    temp_df.reset_index(drop=True, inplace=True)\n",
    "    temp_array = np.ndarray((temp_df.shape[0], 256 * 256 * 3), dtype='float16')\n",
    "    for i, single_image_name in tqdm(enumerate(temp_df['imagename']), total=temp_df.shape[0]):\n",
    "        img = Image.open(img_path + single_image_name)\n",
    "        temp_array[i] = np.array(img).reshape(-1)/255\n",
    "    overall_array.append(temp_array)"
   ]
  },
  {
   "cell_type": "code",
   "execution_count": 56,
   "id": "b08da131",
   "metadata": {},
   "outputs": [],
   "source": [
    "overall_array = np.concatenate(overall_array, axis=0)"
   ]
  },
  {
   "cell_type": "code",
   "execution_count": 9,
   "id": "c27ed34a",
   "metadata": {},
   "outputs": [],
   "source": [
    "overall_y = [0*np.ones(1624,dtype='int'), 1*np.ones(1855,dtype='int'), 2*np.ones(509,dtype='int'), 3*np.ones(364,dtype='int'), 4*np.ones(7,dtype='int')]"
   ]
  },
  {
   "cell_type": "code",
   "execution_count": 144,
   "id": "3c983409",
   "metadata": {},
   "outputs": [],
   "source": [
    "def sample_smote(overall_array, overall_y, save_dir = '../Plaquebox/plaquebox-paper-master/data/tiles/train_and_val'):\n",
    "    # classes are:\n",
    "    # cored: 0\n",
    "    # caa:   1\n",
    "    # cored + diffuse: 2\n",
    "    # caa + diffuse: 3\n",
    "    # cored + caa: 4\n",
    "    \n",
    "    # number of each class to generate\n",
    "    target_gen = np.array([35728, 38955, 11198, 7644, 301])\n",
    "    \n",
    "    # doing SMOTE in mini batches to speed up and keep memory low\n",
    "    sample_fracs = np.array([0.3, 0.3, 1, 1, 1])\n",
    "    \n",
    "    num_gen = np.array([0, 0, 0, 0, 0])\n",
    "    morphs = [0,1,2,3,4,5]\n",
    "    morphs_map = {0: [1, 0, 0], 1: [0, 0, 1], 2: [1, 1, 0], 3: [0, 1, 1], 4: [1, 0, 1]}\n",
    "    \n",
    "    save_counter = 0\n",
    "    save_paths = []\n",
    "    labels_stacked = []\n",
    "    while np.any(num_gen < target_gen):\n",
    "        print(f'Currently generated: {num_gen}')\n",
    "        \n",
    "        classes_sample = np.where(num_gen<target_gen)[0]\n",
    "        classes_sample = classes_sample.astype(np.int64)\n",
    "        if classes_sample.shape[0] == 1:\n",
    "            classes_sample = np.insert(classes_sample,1,4)\n",
    "        sampled_im_array = []\n",
    "        sampled_y_array = []\n",
    "        num_selects = []\n",
    "        morphs_sample = []\n",
    "        num_orig = 0\n",
    "        for class2sample in classes_sample:\n",
    "            im_array = overall_array[class2sample]\n",
    "            y_array = overall_y[class2sample]\n",
    "            sample_frac = sample_fracs[class2sample]\n",
    "            morph = morphs[class2sample]\n",
    "            morphs_sample.append(morph)\n",
    "            num_select = int(np.ceil(sample_frac*im_array.shape[0]))\n",
    "            num_orig += num_select\n",
    "            num_selects.append(num_select*2)\n",
    "            idx_select = np.random.choice(im_array.shape[0], num_select, replace=False)\n",
    "            sampled_im_array.append(im_array[idx_select])\n",
    "            sampled_y_array.append(y_array[idx_select])\n",
    "        \n",
    "        strat = {k:v for k,v in zip(morphs_sample,num_selects)}\n",
    "        sm = SMOTE(sampling_strategy=strat)\n",
    "        \n",
    "        # generate samples\n",
    "        sampled_im_array = np.concatenate(sampled_im_array, axis=0)\n",
    "        sampled_y_array = np.concatenate(sampled_y_array, axis=0)\n",
    "        X_res, y_res = sm.fit_resample(sampled_im_array, sampled_y_array)\n",
    "\n",
    "        # get rid of original training data!\n",
    "        X_res = X_res[num_orig:]\n",
    "        y_res = y_res[num_orig:]\n",
    "\n",
    "        # reshape and save\n",
    "        for img, label in zip(X_res, y_res):\n",
    "            # reshape and save image\n",
    "            if num_gen[label]< target_gen[label]:\n",
    "                pil_img = Image.fromarray((img.reshape(256,256,3)*255).astype(np.uint8))\n",
    "                img_name = 'smote/' + f'{save_counter}.jpg'\n",
    "                pil_img.save(os.path.join(save_dir, img_name), quality=95)\n",
    "                num_gen[label]+=1\n",
    "                labels_stacked.append(morphs_map[label])\n",
    "                save_paths.append(img_name)\n",
    "                save_counter +=1\n",
    "            else:\n",
    "                continue\n",
    "    \n",
    "    return save_paths, labels_stacked"
   ]
  },
  {
   "cell_type": "code",
   "execution_count": 145,
   "id": "d3842165",
   "metadata": {},
   "outputs": [
    {
     "name": "stdout",
     "output_type": "stream",
     "text": [
      "Currently generated: [0 0 0 0 0]\n"
     ]
    },
    {
     "name": "stderr",
     "output_type": "stream",
     "text": [
      "C:\\Users\\ciara\\anaconda3\\envs\\thesis\\lib\\site-packages\\imblearn\\utils\\_validation.py:299: UserWarning: After over-sampling, the number of samples (976) in class 0 will be larger than the number of samples in the majority class (class #1 -> 557)\n",
      "  warnings.warn(\n",
      "C:\\Users\\ciara\\anaconda3\\envs\\thesis\\lib\\site-packages\\imblearn\\utils\\_validation.py:299: UserWarning: After over-sampling, the number of samples (1114) in class 1 will be larger than the number of samples in the majority class (class #1 -> 557)\n",
      "  warnings.warn(\n",
      "C:\\Users\\ciara\\anaconda3\\envs\\thesis\\lib\\site-packages\\imblearn\\utils\\_validation.py:299: UserWarning: After over-sampling, the number of samples (1018) in class 2 will be larger than the number of samples in the majority class (class #1 -> 557)\n",
      "  warnings.warn(\n",
      "C:\\Users\\ciara\\anaconda3\\envs\\thesis\\lib\\site-packages\\imblearn\\utils\\_validation.py:299: UserWarning: After over-sampling, the number of samples (728) in class 3 will be larger than the number of samples in the majority class (class #1 -> 557)\n",
      "  warnings.warn(\n"
     ]
    },
    {
     "name": "stdout",
     "output_type": "stream",
     "text": [
      "Currently generated: [488 557 509 364   7]\n"
     ]
    },
    {
     "name": "stderr",
     "output_type": "stream",
     "text": [
      "C:\\Users\\ciara\\anaconda3\\envs\\thesis\\lib\\site-packages\\imblearn\\utils\\_validation.py:299: UserWarning: After over-sampling, the number of samples (976) in class 0 will be larger than the number of samples in the majority class (class #1 -> 557)\n",
      "  warnings.warn(\n",
      "C:\\Users\\ciara\\anaconda3\\envs\\thesis\\lib\\site-packages\\imblearn\\utils\\_validation.py:299: UserWarning: After over-sampling, the number of samples (1114) in class 1 will be larger than the number of samples in the majority class (class #1 -> 557)\n",
      "  warnings.warn(\n",
      "C:\\Users\\ciara\\anaconda3\\envs\\thesis\\lib\\site-packages\\imblearn\\utils\\_validation.py:299: UserWarning: After over-sampling, the number of samples (1018) in class 2 will be larger than the number of samples in the majority class (class #1 -> 557)\n",
      "  warnings.warn(\n",
      "C:\\Users\\ciara\\anaconda3\\envs\\thesis\\lib\\site-packages\\imblearn\\utils\\_validation.py:299: UserWarning: After over-sampling, the number of samples (728) in class 3 will be larger than the number of samples in the majority class (class #1 -> 557)\n",
      "  warnings.warn(\n"
     ]
    },
    {
     "name": "stdout",
     "output_type": "stream",
     "text": [
      "Currently generated: [ 976 1114 1018  728   14]\n"
     ]
    },
    {
     "name": "stderr",
     "output_type": "stream",
     "text": [
      "C:\\Users\\ciara\\anaconda3\\envs\\thesis\\lib\\site-packages\\imblearn\\utils\\_validation.py:299: UserWarning: After over-sampling, the number of samples (976) in class 0 will be larger than the number of samples in the majority class (class #1 -> 557)\n",
      "  warnings.warn(\n",
      "C:\\Users\\ciara\\anaconda3\\envs\\thesis\\lib\\site-packages\\imblearn\\utils\\_validation.py:299: UserWarning: After over-sampling, the number of samples (1114) in class 1 will be larger than the number of samples in the majority class (class #1 -> 557)\n",
      "  warnings.warn(\n",
      "C:\\Users\\ciara\\anaconda3\\envs\\thesis\\lib\\site-packages\\imblearn\\utils\\_validation.py:299: UserWarning: After over-sampling, the number of samples (1018) in class 2 will be larger than the number of samples in the majority class (class #1 -> 557)\n",
      "  warnings.warn(\n",
      "C:\\Users\\ciara\\anaconda3\\envs\\thesis\\lib\\site-packages\\imblearn\\utils\\_validation.py:299: UserWarning: After over-sampling, the number of samples (728) in class 3 will be larger than the number of samples in the majority class (class #1 -> 557)\n",
      "  warnings.warn(\n"
     ]
    },
    {
     "name": "stdout",
     "output_type": "stream",
     "text": [
      "Currently generated: [1464 1671 1527 1092   21]\n"
     ]
    },
    {
     "name": "stderr",
     "output_type": "stream",
     "text": [
      "C:\\Users\\ciara\\anaconda3\\envs\\thesis\\lib\\site-packages\\imblearn\\utils\\_validation.py:299: UserWarning: After over-sampling, the number of samples (976) in class 0 will be larger than the number of samples in the majority class (class #1 -> 557)\n",
      "  warnings.warn(\n",
      "C:\\Users\\ciara\\anaconda3\\envs\\thesis\\lib\\site-packages\\imblearn\\utils\\_validation.py:299: UserWarning: After over-sampling, the number of samples (1114) in class 1 will be larger than the number of samples in the majority class (class #1 -> 557)\n",
      "  warnings.warn(\n",
      "C:\\Users\\ciara\\anaconda3\\envs\\thesis\\lib\\site-packages\\imblearn\\utils\\_validation.py:299: UserWarning: After over-sampling, the number of samples (1018) in class 2 will be larger than the number of samples in the majority class (class #1 -> 557)\n",
      "  warnings.warn(\n",
      "C:\\Users\\ciara\\anaconda3\\envs\\thesis\\lib\\site-packages\\imblearn\\utils\\_validation.py:299: UserWarning: After over-sampling, the number of samples (728) in class 3 will be larger than the number of samples in the majority class (class #1 -> 557)\n",
      "  warnings.warn(\n"
     ]
    },
    {
     "name": "stdout",
     "output_type": "stream",
     "text": [
      "Currently generated: [1952 2228 2036 1456   28]\n"
     ]
    },
    {
     "name": "stderr",
     "output_type": "stream",
     "text": [
      "C:\\Users\\ciara\\anaconda3\\envs\\thesis\\lib\\site-packages\\imblearn\\utils\\_validation.py:299: UserWarning: After over-sampling, the number of samples (976) in class 0 will be larger than the number of samples in the majority class (class #1 -> 557)\n",
      "  warnings.warn(\n",
      "C:\\Users\\ciara\\anaconda3\\envs\\thesis\\lib\\site-packages\\imblearn\\utils\\_validation.py:299: UserWarning: After over-sampling, the number of samples (1114) in class 1 will be larger than the number of samples in the majority class (class #1 -> 557)\n",
      "  warnings.warn(\n",
      "C:\\Users\\ciara\\anaconda3\\envs\\thesis\\lib\\site-packages\\imblearn\\utils\\_validation.py:299: UserWarning: After over-sampling, the number of samples (1018) in class 2 will be larger than the number of samples in the majority class (class #1 -> 557)\n",
      "  warnings.warn(\n",
      "C:\\Users\\ciara\\anaconda3\\envs\\thesis\\lib\\site-packages\\imblearn\\utils\\_validation.py:299: UserWarning: After over-sampling, the number of samples (728) in class 3 will be larger than the number of samples in the majority class (class #1 -> 557)\n",
      "  warnings.warn(\n"
     ]
    },
    {
     "name": "stdout",
     "output_type": "stream",
     "text": [
      "Currently generated: [2440 2785 2545 1820   35]\n"
     ]
    },
    {
     "name": "stderr",
     "output_type": "stream",
     "text": [
      "C:\\Users\\ciara\\anaconda3\\envs\\thesis\\lib\\site-packages\\imblearn\\utils\\_validation.py:299: UserWarning: After over-sampling, the number of samples (976) in class 0 will be larger than the number of samples in the majority class (class #1 -> 557)\n",
      "  warnings.warn(\n",
      "C:\\Users\\ciara\\anaconda3\\envs\\thesis\\lib\\site-packages\\imblearn\\utils\\_validation.py:299: UserWarning: After over-sampling, the number of samples (1114) in class 1 will be larger than the number of samples in the majority class (class #1 -> 557)\n",
      "  warnings.warn(\n",
      "C:\\Users\\ciara\\anaconda3\\envs\\thesis\\lib\\site-packages\\imblearn\\utils\\_validation.py:299: UserWarning: After over-sampling, the number of samples (1018) in class 2 will be larger than the number of samples in the majority class (class #1 -> 557)\n",
      "  warnings.warn(\n",
      "C:\\Users\\ciara\\anaconda3\\envs\\thesis\\lib\\site-packages\\imblearn\\utils\\_validation.py:299: UserWarning: After over-sampling, the number of samples (728) in class 3 will be larger than the number of samples in the majority class (class #1 -> 557)\n",
      "  warnings.warn(\n"
     ]
    },
    {
     "name": "stdout",
     "output_type": "stream",
     "text": [
      "Currently generated: [2928 3342 3054 2184   42]\n"
     ]
    },
    {
     "name": "stderr",
     "output_type": "stream",
     "text": [
      "C:\\Users\\ciara\\anaconda3\\envs\\thesis\\lib\\site-packages\\imblearn\\utils\\_validation.py:299: UserWarning: After over-sampling, the number of samples (976) in class 0 will be larger than the number of samples in the majority class (class #1 -> 557)\n",
      "  warnings.warn(\n",
      "C:\\Users\\ciara\\anaconda3\\envs\\thesis\\lib\\site-packages\\imblearn\\utils\\_validation.py:299: UserWarning: After over-sampling, the number of samples (1114) in class 1 will be larger than the number of samples in the majority class (class #1 -> 557)\n",
      "  warnings.warn(\n",
      "C:\\Users\\ciara\\anaconda3\\envs\\thesis\\lib\\site-packages\\imblearn\\utils\\_validation.py:299: UserWarning: After over-sampling, the number of samples (1018) in class 2 will be larger than the number of samples in the majority class (class #1 -> 557)\n",
      "  warnings.warn(\n",
      "C:\\Users\\ciara\\anaconda3\\envs\\thesis\\lib\\site-packages\\imblearn\\utils\\_validation.py:299: UserWarning: After over-sampling, the number of samples (728) in class 3 will be larger than the number of samples in the majority class (class #1 -> 557)\n",
      "  warnings.warn(\n"
     ]
    },
    {
     "name": "stdout",
     "output_type": "stream",
     "text": [
      "Currently generated: [3416 3899 3563 2548   49]\n"
     ]
    },
    {
     "name": "stderr",
     "output_type": "stream",
     "text": [
      "C:\\Users\\ciara\\anaconda3\\envs\\thesis\\lib\\site-packages\\imblearn\\utils\\_validation.py:299: UserWarning: After over-sampling, the number of samples (976) in class 0 will be larger than the number of samples in the majority class (class #1 -> 557)\n",
      "  warnings.warn(\n",
      "C:\\Users\\ciara\\anaconda3\\envs\\thesis\\lib\\site-packages\\imblearn\\utils\\_validation.py:299: UserWarning: After over-sampling, the number of samples (1114) in class 1 will be larger than the number of samples in the majority class (class #1 -> 557)\n",
      "  warnings.warn(\n",
      "C:\\Users\\ciara\\anaconda3\\envs\\thesis\\lib\\site-packages\\imblearn\\utils\\_validation.py:299: UserWarning: After over-sampling, the number of samples (1018) in class 2 will be larger than the number of samples in the majority class (class #1 -> 557)\n",
      "  warnings.warn(\n",
      "C:\\Users\\ciara\\anaconda3\\envs\\thesis\\lib\\site-packages\\imblearn\\utils\\_validation.py:299: UserWarning: After over-sampling, the number of samples (728) in class 3 will be larger than the number of samples in the majority class (class #1 -> 557)\n",
      "  warnings.warn(\n"
     ]
    },
    {
     "name": "stdout",
     "output_type": "stream",
     "text": [
      "Currently generated: [3904 4456 4072 2912   56]\n"
     ]
    },
    {
     "name": "stderr",
     "output_type": "stream",
     "text": [
      "C:\\Users\\ciara\\anaconda3\\envs\\thesis\\lib\\site-packages\\imblearn\\utils\\_validation.py:299: UserWarning: After over-sampling, the number of samples (976) in class 0 will be larger than the number of samples in the majority class (class #1 -> 557)\n",
      "  warnings.warn(\n",
      "C:\\Users\\ciara\\anaconda3\\envs\\thesis\\lib\\site-packages\\imblearn\\utils\\_validation.py:299: UserWarning: After over-sampling, the number of samples (1114) in class 1 will be larger than the number of samples in the majority class (class #1 -> 557)\n",
      "  warnings.warn(\n",
      "C:\\Users\\ciara\\anaconda3\\envs\\thesis\\lib\\site-packages\\imblearn\\utils\\_validation.py:299: UserWarning: After over-sampling, the number of samples (1018) in class 2 will be larger than the number of samples in the majority class (class #1 -> 557)\n",
      "  warnings.warn(\n",
      "C:\\Users\\ciara\\anaconda3\\envs\\thesis\\lib\\site-packages\\imblearn\\utils\\_validation.py:299: UserWarning: After over-sampling, the number of samples (728) in class 3 will be larger than the number of samples in the majority class (class #1 -> 557)\n",
      "  warnings.warn(\n"
     ]
    },
    {
     "name": "stdout",
     "output_type": "stream",
     "text": [
      "Currently generated: [4392 5013 4581 3276   63]\n"
     ]
    },
    {
     "name": "stderr",
     "output_type": "stream",
     "text": [
      "C:\\Users\\ciara\\anaconda3\\envs\\thesis\\lib\\site-packages\\imblearn\\utils\\_validation.py:299: UserWarning: After over-sampling, the number of samples (976) in class 0 will be larger than the number of samples in the majority class (class #1 -> 557)\n",
      "  warnings.warn(\n",
      "C:\\Users\\ciara\\anaconda3\\envs\\thesis\\lib\\site-packages\\imblearn\\utils\\_validation.py:299: UserWarning: After over-sampling, the number of samples (1114) in class 1 will be larger than the number of samples in the majority class (class #1 -> 557)\n",
      "  warnings.warn(\n",
      "C:\\Users\\ciara\\anaconda3\\envs\\thesis\\lib\\site-packages\\imblearn\\utils\\_validation.py:299: UserWarning: After over-sampling, the number of samples (1018) in class 2 will be larger than the number of samples in the majority class (class #1 -> 557)\n",
      "  warnings.warn(\n",
      "C:\\Users\\ciara\\anaconda3\\envs\\thesis\\lib\\site-packages\\imblearn\\utils\\_validation.py:299: UserWarning: After over-sampling, the number of samples (728) in class 3 will be larger than the number of samples in the majority class (class #1 -> 557)\n",
      "  warnings.warn(\n"
     ]
    },
    {
     "name": "stdout",
     "output_type": "stream",
     "text": [
      "Currently generated: [4880 5570 5090 3640   70]\n"
     ]
    },
    {
     "name": "stderr",
     "output_type": "stream",
     "text": [
      "C:\\Users\\ciara\\anaconda3\\envs\\thesis\\lib\\site-packages\\imblearn\\utils\\_validation.py:299: UserWarning: After over-sampling, the number of samples (976) in class 0 will be larger than the number of samples in the majority class (class #1 -> 557)\n",
      "  warnings.warn(\n",
      "C:\\Users\\ciara\\anaconda3\\envs\\thesis\\lib\\site-packages\\imblearn\\utils\\_validation.py:299: UserWarning: After over-sampling, the number of samples (1114) in class 1 will be larger than the number of samples in the majority class (class #1 -> 557)\n",
      "  warnings.warn(\n",
      "C:\\Users\\ciara\\anaconda3\\envs\\thesis\\lib\\site-packages\\imblearn\\utils\\_validation.py:299: UserWarning: After over-sampling, the number of samples (1018) in class 2 will be larger than the number of samples in the majority class (class #1 -> 557)\n",
      "  warnings.warn(\n",
      "C:\\Users\\ciara\\anaconda3\\envs\\thesis\\lib\\site-packages\\imblearn\\utils\\_validation.py:299: UserWarning: After over-sampling, the number of samples (728) in class 3 will be larger than the number of samples in the majority class (class #1 -> 557)\n",
      "  warnings.warn(\n"
     ]
    },
    {
     "name": "stdout",
     "output_type": "stream",
     "text": [
      "Currently generated: [5368 6127 5599 4004   77]\n"
     ]
    },
    {
     "name": "stderr",
     "output_type": "stream",
     "text": [
      "C:\\Users\\ciara\\anaconda3\\envs\\thesis\\lib\\site-packages\\imblearn\\utils\\_validation.py:299: UserWarning: After over-sampling, the number of samples (976) in class 0 will be larger than the number of samples in the majority class (class #1 -> 557)\n",
      "  warnings.warn(\n",
      "C:\\Users\\ciara\\anaconda3\\envs\\thesis\\lib\\site-packages\\imblearn\\utils\\_validation.py:299: UserWarning: After over-sampling, the number of samples (1114) in class 1 will be larger than the number of samples in the majority class (class #1 -> 557)\n",
      "  warnings.warn(\n",
      "C:\\Users\\ciara\\anaconda3\\envs\\thesis\\lib\\site-packages\\imblearn\\utils\\_validation.py:299: UserWarning: After over-sampling, the number of samples (1018) in class 2 will be larger than the number of samples in the majority class (class #1 -> 557)\n",
      "  warnings.warn(\n",
      "C:\\Users\\ciara\\anaconda3\\envs\\thesis\\lib\\site-packages\\imblearn\\utils\\_validation.py:299: UserWarning: After over-sampling, the number of samples (728) in class 3 will be larger than the number of samples in the majority class (class #1 -> 557)\n",
      "  warnings.warn(\n"
     ]
    },
    {
     "name": "stdout",
     "output_type": "stream",
     "text": [
      "Currently generated: [5856 6684 6108 4368   84]\n"
     ]
    },
    {
     "name": "stderr",
     "output_type": "stream",
     "text": [
      "C:\\Users\\ciara\\anaconda3\\envs\\thesis\\lib\\site-packages\\imblearn\\utils\\_validation.py:299: UserWarning: After over-sampling, the number of samples (976) in class 0 will be larger than the number of samples in the majority class (class #1 -> 557)\n",
      "  warnings.warn(\n",
      "C:\\Users\\ciara\\anaconda3\\envs\\thesis\\lib\\site-packages\\imblearn\\utils\\_validation.py:299: UserWarning: After over-sampling, the number of samples (1114) in class 1 will be larger than the number of samples in the majority class (class #1 -> 557)\n",
      "  warnings.warn(\n",
      "C:\\Users\\ciara\\anaconda3\\envs\\thesis\\lib\\site-packages\\imblearn\\utils\\_validation.py:299: UserWarning: After over-sampling, the number of samples (1018) in class 2 will be larger than the number of samples in the majority class (class #1 -> 557)\n",
      "  warnings.warn(\n",
      "C:\\Users\\ciara\\anaconda3\\envs\\thesis\\lib\\site-packages\\imblearn\\utils\\_validation.py:299: UserWarning: After over-sampling, the number of samples (728) in class 3 will be larger than the number of samples in the majority class (class #1 -> 557)\n",
      "  warnings.warn(\n"
     ]
    },
    {
     "name": "stdout",
     "output_type": "stream",
     "text": [
      "Currently generated: [6344 7241 6617 4732   91]\n"
     ]
    },
    {
     "name": "stderr",
     "output_type": "stream",
     "text": [
      "C:\\Users\\ciara\\anaconda3\\envs\\thesis\\lib\\site-packages\\imblearn\\utils\\_validation.py:299: UserWarning: After over-sampling, the number of samples (976) in class 0 will be larger than the number of samples in the majority class (class #1 -> 557)\n",
      "  warnings.warn(\n",
      "C:\\Users\\ciara\\anaconda3\\envs\\thesis\\lib\\site-packages\\imblearn\\utils\\_validation.py:299: UserWarning: After over-sampling, the number of samples (1114) in class 1 will be larger than the number of samples in the majority class (class #1 -> 557)\n",
      "  warnings.warn(\n",
      "C:\\Users\\ciara\\anaconda3\\envs\\thesis\\lib\\site-packages\\imblearn\\utils\\_validation.py:299: UserWarning: After over-sampling, the number of samples (1018) in class 2 will be larger than the number of samples in the majority class (class #1 -> 557)\n",
      "  warnings.warn(\n",
      "C:\\Users\\ciara\\anaconda3\\envs\\thesis\\lib\\site-packages\\imblearn\\utils\\_validation.py:299: UserWarning: After over-sampling, the number of samples (728) in class 3 will be larger than the number of samples in the majority class (class #1 -> 557)\n",
      "  warnings.warn(\n"
     ]
    },
    {
     "name": "stdout",
     "output_type": "stream",
     "text": [
      "Currently generated: [6832 7798 7126 5096   98]\n"
     ]
    },
    {
     "name": "stderr",
     "output_type": "stream",
     "text": [
      "C:\\Users\\ciara\\anaconda3\\envs\\thesis\\lib\\site-packages\\imblearn\\utils\\_validation.py:299: UserWarning: After over-sampling, the number of samples (976) in class 0 will be larger than the number of samples in the majority class (class #1 -> 557)\n",
      "  warnings.warn(\n",
      "C:\\Users\\ciara\\anaconda3\\envs\\thesis\\lib\\site-packages\\imblearn\\utils\\_validation.py:299: UserWarning: After over-sampling, the number of samples (1114) in class 1 will be larger than the number of samples in the majority class (class #1 -> 557)\n",
      "  warnings.warn(\n",
      "C:\\Users\\ciara\\anaconda3\\envs\\thesis\\lib\\site-packages\\imblearn\\utils\\_validation.py:299: UserWarning: After over-sampling, the number of samples (1018) in class 2 will be larger than the number of samples in the majority class (class #1 -> 557)\n",
      "  warnings.warn(\n",
      "C:\\Users\\ciara\\anaconda3\\envs\\thesis\\lib\\site-packages\\imblearn\\utils\\_validation.py:299: UserWarning: After over-sampling, the number of samples (728) in class 3 will be larger than the number of samples in the majority class (class #1 -> 557)\n",
      "  warnings.warn(\n"
     ]
    },
    {
     "name": "stdout",
     "output_type": "stream",
     "text": [
      "Currently generated: [7320 8355 7635 5460  105]\n"
     ]
    },
    {
     "name": "stderr",
     "output_type": "stream",
     "text": [
      "C:\\Users\\ciara\\anaconda3\\envs\\thesis\\lib\\site-packages\\imblearn\\utils\\_validation.py:299: UserWarning: After over-sampling, the number of samples (976) in class 0 will be larger than the number of samples in the majority class (class #1 -> 557)\n",
      "  warnings.warn(\n",
      "C:\\Users\\ciara\\anaconda3\\envs\\thesis\\lib\\site-packages\\imblearn\\utils\\_validation.py:299: UserWarning: After over-sampling, the number of samples (1114) in class 1 will be larger than the number of samples in the majority class (class #1 -> 557)\n",
      "  warnings.warn(\n",
      "C:\\Users\\ciara\\anaconda3\\envs\\thesis\\lib\\site-packages\\imblearn\\utils\\_validation.py:299: UserWarning: After over-sampling, the number of samples (1018) in class 2 will be larger than the number of samples in the majority class (class #1 -> 557)\n",
      "  warnings.warn(\n",
      "C:\\Users\\ciara\\anaconda3\\envs\\thesis\\lib\\site-packages\\imblearn\\utils\\_validation.py:299: UserWarning: After over-sampling, the number of samples (728) in class 3 will be larger than the number of samples in the majority class (class #1 -> 557)\n",
      "  warnings.warn(\n"
     ]
    },
    {
     "name": "stdout",
     "output_type": "stream",
     "text": [
      "Currently generated: [7808 8912 8144 5824  112]\n"
     ]
    },
    {
     "name": "stderr",
     "output_type": "stream",
     "text": [
      "C:\\Users\\ciara\\anaconda3\\envs\\thesis\\lib\\site-packages\\imblearn\\utils\\_validation.py:299: UserWarning: After over-sampling, the number of samples (976) in class 0 will be larger than the number of samples in the majority class (class #1 -> 557)\n",
      "  warnings.warn(\n",
      "C:\\Users\\ciara\\anaconda3\\envs\\thesis\\lib\\site-packages\\imblearn\\utils\\_validation.py:299: UserWarning: After over-sampling, the number of samples (1114) in class 1 will be larger than the number of samples in the majority class (class #1 -> 557)\n",
      "  warnings.warn(\n",
      "C:\\Users\\ciara\\anaconda3\\envs\\thesis\\lib\\site-packages\\imblearn\\utils\\_validation.py:299: UserWarning: After over-sampling, the number of samples (1018) in class 2 will be larger than the number of samples in the majority class (class #1 -> 557)\n",
      "  warnings.warn(\n",
      "C:\\Users\\ciara\\anaconda3\\envs\\thesis\\lib\\site-packages\\imblearn\\utils\\_validation.py:299: UserWarning: After over-sampling, the number of samples (728) in class 3 will be larger than the number of samples in the majority class (class #1 -> 557)\n",
      "  warnings.warn(\n"
     ]
    },
    {
     "name": "stdout",
     "output_type": "stream",
     "text": [
      "Currently generated: [8296 9469 8653 6188  119]\n"
     ]
    },
    {
     "name": "stderr",
     "output_type": "stream",
     "text": [
      "C:\\Users\\ciara\\anaconda3\\envs\\thesis\\lib\\site-packages\\imblearn\\utils\\_validation.py:299: UserWarning: After over-sampling, the number of samples (976) in class 0 will be larger than the number of samples in the majority class (class #1 -> 557)\n",
      "  warnings.warn(\n",
      "C:\\Users\\ciara\\anaconda3\\envs\\thesis\\lib\\site-packages\\imblearn\\utils\\_validation.py:299: UserWarning: After over-sampling, the number of samples (1114) in class 1 will be larger than the number of samples in the majority class (class #1 -> 557)\n",
      "  warnings.warn(\n",
      "C:\\Users\\ciara\\anaconda3\\envs\\thesis\\lib\\site-packages\\imblearn\\utils\\_validation.py:299: UserWarning: After over-sampling, the number of samples (1018) in class 2 will be larger than the number of samples in the majority class (class #1 -> 557)\n",
      "  warnings.warn(\n",
      "C:\\Users\\ciara\\anaconda3\\envs\\thesis\\lib\\site-packages\\imblearn\\utils\\_validation.py:299: UserWarning: After over-sampling, the number of samples (728) in class 3 will be larger than the number of samples in the majority class (class #1 -> 557)\n",
      "  warnings.warn(\n"
     ]
    },
    {
     "name": "stdout",
     "output_type": "stream",
     "text": [
      "Currently generated: [ 8784 10026  9162  6552   126]\n"
     ]
    },
    {
     "name": "stderr",
     "output_type": "stream",
     "text": [
      "C:\\Users\\ciara\\anaconda3\\envs\\thesis\\lib\\site-packages\\imblearn\\utils\\_validation.py:299: UserWarning: After over-sampling, the number of samples (976) in class 0 will be larger than the number of samples in the majority class (class #1 -> 557)\n",
      "  warnings.warn(\n",
      "C:\\Users\\ciara\\anaconda3\\envs\\thesis\\lib\\site-packages\\imblearn\\utils\\_validation.py:299: UserWarning: After over-sampling, the number of samples (1114) in class 1 will be larger than the number of samples in the majority class (class #1 -> 557)\n",
      "  warnings.warn(\n",
      "C:\\Users\\ciara\\anaconda3\\envs\\thesis\\lib\\site-packages\\imblearn\\utils\\_validation.py:299: UserWarning: After over-sampling, the number of samples (1018) in class 2 will be larger than the number of samples in the majority class (class #1 -> 557)\n",
      "  warnings.warn(\n",
      "C:\\Users\\ciara\\anaconda3\\envs\\thesis\\lib\\site-packages\\imblearn\\utils\\_validation.py:299: UserWarning: After over-sampling, the number of samples (728) in class 3 will be larger than the number of samples in the majority class (class #1 -> 557)\n",
      "  warnings.warn(\n"
     ]
    },
    {
     "name": "stdout",
     "output_type": "stream",
     "text": [
      "Currently generated: [ 9272 10583  9671  6916   133]\n"
     ]
    },
    {
     "name": "stderr",
     "output_type": "stream",
     "text": [
      "C:\\Users\\ciara\\anaconda3\\envs\\thesis\\lib\\site-packages\\imblearn\\utils\\_validation.py:299: UserWarning: After over-sampling, the number of samples (976) in class 0 will be larger than the number of samples in the majority class (class #1 -> 557)\n",
      "  warnings.warn(\n",
      "C:\\Users\\ciara\\anaconda3\\envs\\thesis\\lib\\site-packages\\imblearn\\utils\\_validation.py:299: UserWarning: After over-sampling, the number of samples (1114) in class 1 will be larger than the number of samples in the majority class (class #1 -> 557)\n",
      "  warnings.warn(\n",
      "C:\\Users\\ciara\\anaconda3\\envs\\thesis\\lib\\site-packages\\imblearn\\utils\\_validation.py:299: UserWarning: After over-sampling, the number of samples (1018) in class 2 will be larger than the number of samples in the majority class (class #1 -> 557)\n",
      "  warnings.warn(\n",
      "C:\\Users\\ciara\\anaconda3\\envs\\thesis\\lib\\site-packages\\imblearn\\utils\\_validation.py:299: UserWarning: After over-sampling, the number of samples (728) in class 3 will be larger than the number of samples in the majority class (class #1 -> 557)\n",
      "  warnings.warn(\n"
     ]
    },
    {
     "name": "stdout",
     "output_type": "stream",
     "text": [
      "Currently generated: [ 9760 11140 10180  7280   140]\n"
     ]
    },
    {
     "name": "stderr",
     "output_type": "stream",
     "text": [
      "C:\\Users\\ciara\\anaconda3\\envs\\thesis\\lib\\site-packages\\imblearn\\utils\\_validation.py:299: UserWarning: After over-sampling, the number of samples (976) in class 0 will be larger than the number of samples in the majority class (class #1 -> 557)\n",
      "  warnings.warn(\n",
      "C:\\Users\\ciara\\anaconda3\\envs\\thesis\\lib\\site-packages\\imblearn\\utils\\_validation.py:299: UserWarning: After over-sampling, the number of samples (1114) in class 1 will be larger than the number of samples in the majority class (class #1 -> 557)\n",
      "  warnings.warn(\n",
      "C:\\Users\\ciara\\anaconda3\\envs\\thesis\\lib\\site-packages\\imblearn\\utils\\_validation.py:299: UserWarning: After over-sampling, the number of samples (1018) in class 2 will be larger than the number of samples in the majority class (class #1 -> 557)\n",
      "  warnings.warn(\n",
      "C:\\Users\\ciara\\anaconda3\\envs\\thesis\\lib\\site-packages\\imblearn\\utils\\_validation.py:299: UserWarning: After over-sampling, the number of samples (728) in class 3 will be larger than the number of samples in the majority class (class #1 -> 557)\n",
      "  warnings.warn(\n"
     ]
    },
    {
     "name": "stdout",
     "output_type": "stream",
     "text": [
      "Currently generated: [10248 11697 10689  7644   147]\n"
     ]
    },
    {
     "name": "stderr",
     "output_type": "stream",
     "text": [
      "C:\\Users\\ciara\\anaconda3\\envs\\thesis\\lib\\site-packages\\imblearn\\utils\\_validation.py:299: UserWarning: After over-sampling, the number of samples (976) in class 0 will be larger than the number of samples in the majority class (class #1 -> 557)\n",
      "  warnings.warn(\n",
      "C:\\Users\\ciara\\anaconda3\\envs\\thesis\\lib\\site-packages\\imblearn\\utils\\_validation.py:299: UserWarning: After over-sampling, the number of samples (1114) in class 1 will be larger than the number of samples in the majority class (class #1 -> 557)\n",
      "  warnings.warn(\n",
      "C:\\Users\\ciara\\anaconda3\\envs\\thesis\\lib\\site-packages\\imblearn\\utils\\_validation.py:299: UserWarning: After over-sampling, the number of samples (1018) in class 2 will be larger than the number of samples in the majority class (class #1 -> 557)\n",
      "  warnings.warn(\n"
     ]
    },
    {
     "name": "stdout",
     "output_type": "stream",
     "text": [
      "Currently generated: [10736 12254 11198  7644   154]\n"
     ]
    },
    {
     "name": "stderr",
     "output_type": "stream",
     "text": [
      "C:\\Users\\ciara\\anaconda3\\envs\\thesis\\lib\\site-packages\\imblearn\\utils\\_validation.py:299: UserWarning: After over-sampling, the number of samples (976) in class 0 will be larger than the number of samples in the majority class (class #1 -> 557)\n",
      "  warnings.warn(\n",
      "C:\\Users\\ciara\\anaconda3\\envs\\thesis\\lib\\site-packages\\imblearn\\utils\\_validation.py:299: UserWarning: After over-sampling, the number of samples (1114) in class 1 will be larger than the number of samples in the majority class (class #1 -> 557)\n",
      "  warnings.warn(\n"
     ]
    },
    {
     "name": "stdout",
     "output_type": "stream",
     "text": [
      "Currently generated: [11224 12811 11198  7644   161]\n"
     ]
    },
    {
     "name": "stderr",
     "output_type": "stream",
     "text": [
      "C:\\Users\\ciara\\anaconda3\\envs\\thesis\\lib\\site-packages\\imblearn\\utils\\_validation.py:299: UserWarning: After over-sampling, the number of samples (976) in class 0 will be larger than the number of samples in the majority class (class #1 -> 557)\n",
      "  warnings.warn(\n",
      "C:\\Users\\ciara\\anaconda3\\envs\\thesis\\lib\\site-packages\\imblearn\\utils\\_validation.py:299: UserWarning: After over-sampling, the number of samples (1114) in class 1 will be larger than the number of samples in the majority class (class #1 -> 557)\n",
      "  warnings.warn(\n"
     ]
    },
    {
     "name": "stdout",
     "output_type": "stream",
     "text": [
      "Currently generated: [11712 13368 11198  7644   168]\n"
     ]
    },
    {
     "name": "stderr",
     "output_type": "stream",
     "text": [
      "C:\\Users\\ciara\\anaconda3\\envs\\thesis\\lib\\site-packages\\imblearn\\utils\\_validation.py:299: UserWarning: After over-sampling, the number of samples (976) in class 0 will be larger than the number of samples in the majority class (class #1 -> 557)\n",
      "  warnings.warn(\n",
      "C:\\Users\\ciara\\anaconda3\\envs\\thesis\\lib\\site-packages\\imblearn\\utils\\_validation.py:299: UserWarning: After over-sampling, the number of samples (1114) in class 1 will be larger than the number of samples in the majority class (class #1 -> 557)\n",
      "  warnings.warn(\n"
     ]
    },
    {
     "name": "stdout",
     "output_type": "stream",
     "text": [
      "Currently generated: [12200 13925 11198  7644   175]\n"
     ]
    },
    {
     "name": "stderr",
     "output_type": "stream",
     "text": [
      "C:\\Users\\ciara\\anaconda3\\envs\\thesis\\lib\\site-packages\\imblearn\\utils\\_validation.py:299: UserWarning: After over-sampling, the number of samples (976) in class 0 will be larger than the number of samples in the majority class (class #1 -> 557)\n",
      "  warnings.warn(\n",
      "C:\\Users\\ciara\\anaconda3\\envs\\thesis\\lib\\site-packages\\imblearn\\utils\\_validation.py:299: UserWarning: After over-sampling, the number of samples (1114) in class 1 will be larger than the number of samples in the majority class (class #1 -> 557)\n",
      "  warnings.warn(\n"
     ]
    },
    {
     "name": "stdout",
     "output_type": "stream",
     "text": [
      "Currently generated: [12688 14482 11198  7644   182]\n"
     ]
    },
    {
     "name": "stderr",
     "output_type": "stream",
     "text": [
      "C:\\Users\\ciara\\anaconda3\\envs\\thesis\\lib\\site-packages\\imblearn\\utils\\_validation.py:299: UserWarning: After over-sampling, the number of samples (976) in class 0 will be larger than the number of samples in the majority class (class #1 -> 557)\n",
      "  warnings.warn(\n",
      "C:\\Users\\ciara\\anaconda3\\envs\\thesis\\lib\\site-packages\\imblearn\\utils\\_validation.py:299: UserWarning: After over-sampling, the number of samples (1114) in class 1 will be larger than the number of samples in the majority class (class #1 -> 557)\n",
      "  warnings.warn(\n"
     ]
    },
    {
     "name": "stdout",
     "output_type": "stream",
     "text": [
      "Currently generated: [13176 15039 11198  7644   189]\n"
     ]
    },
    {
     "name": "stderr",
     "output_type": "stream",
     "text": [
      "C:\\Users\\ciara\\anaconda3\\envs\\thesis\\lib\\site-packages\\imblearn\\utils\\_validation.py:299: UserWarning: After over-sampling, the number of samples (976) in class 0 will be larger than the number of samples in the majority class (class #1 -> 557)\n",
      "  warnings.warn(\n",
      "C:\\Users\\ciara\\anaconda3\\envs\\thesis\\lib\\site-packages\\imblearn\\utils\\_validation.py:299: UserWarning: After over-sampling, the number of samples (1114) in class 1 will be larger than the number of samples in the majority class (class #1 -> 557)\n",
      "  warnings.warn(\n"
     ]
    },
    {
     "name": "stdout",
     "output_type": "stream",
     "text": [
      "Currently generated: [13664 15596 11198  7644   196]\n"
     ]
    },
    {
     "name": "stderr",
     "output_type": "stream",
     "text": [
      "C:\\Users\\ciara\\anaconda3\\envs\\thesis\\lib\\site-packages\\imblearn\\utils\\_validation.py:299: UserWarning: After over-sampling, the number of samples (976) in class 0 will be larger than the number of samples in the majority class (class #1 -> 557)\n",
      "  warnings.warn(\n",
      "C:\\Users\\ciara\\anaconda3\\envs\\thesis\\lib\\site-packages\\imblearn\\utils\\_validation.py:299: UserWarning: After over-sampling, the number of samples (1114) in class 1 will be larger than the number of samples in the majority class (class #1 -> 557)\n",
      "  warnings.warn(\n"
     ]
    },
    {
     "name": "stdout",
     "output_type": "stream",
     "text": [
      "Currently generated: [14152 16153 11198  7644   203]\n"
     ]
    },
    {
     "name": "stderr",
     "output_type": "stream",
     "text": [
      "C:\\Users\\ciara\\anaconda3\\envs\\thesis\\lib\\site-packages\\imblearn\\utils\\_validation.py:299: UserWarning: After over-sampling, the number of samples (976) in class 0 will be larger than the number of samples in the majority class (class #1 -> 557)\n",
      "  warnings.warn(\n",
      "C:\\Users\\ciara\\anaconda3\\envs\\thesis\\lib\\site-packages\\imblearn\\utils\\_validation.py:299: UserWarning: After over-sampling, the number of samples (1114) in class 1 will be larger than the number of samples in the majority class (class #1 -> 557)\n",
      "  warnings.warn(\n"
     ]
    },
    {
     "name": "stdout",
     "output_type": "stream",
     "text": [
      "Currently generated: [14640 16710 11198  7644   210]\n"
     ]
    },
    {
     "name": "stderr",
     "output_type": "stream",
     "text": [
      "C:\\Users\\ciara\\anaconda3\\envs\\thesis\\lib\\site-packages\\imblearn\\utils\\_validation.py:299: UserWarning: After over-sampling, the number of samples (976) in class 0 will be larger than the number of samples in the majority class (class #1 -> 557)\n",
      "  warnings.warn(\n",
      "C:\\Users\\ciara\\anaconda3\\envs\\thesis\\lib\\site-packages\\imblearn\\utils\\_validation.py:299: UserWarning: After over-sampling, the number of samples (1114) in class 1 will be larger than the number of samples in the majority class (class #1 -> 557)\n",
      "  warnings.warn(\n"
     ]
    },
    {
     "name": "stdout",
     "output_type": "stream",
     "text": [
      "Currently generated: [15128 17267 11198  7644   217]\n"
     ]
    },
    {
     "name": "stderr",
     "output_type": "stream",
     "text": [
      "C:\\Users\\ciara\\anaconda3\\envs\\thesis\\lib\\site-packages\\imblearn\\utils\\_validation.py:299: UserWarning: After over-sampling, the number of samples (976) in class 0 will be larger than the number of samples in the majority class (class #1 -> 557)\n",
      "  warnings.warn(\n",
      "C:\\Users\\ciara\\anaconda3\\envs\\thesis\\lib\\site-packages\\imblearn\\utils\\_validation.py:299: UserWarning: After over-sampling, the number of samples (1114) in class 1 will be larger than the number of samples in the majority class (class #1 -> 557)\n",
      "  warnings.warn(\n"
     ]
    },
    {
     "name": "stdout",
     "output_type": "stream",
     "text": [
      "Currently generated: [15616 17824 11198  7644   224]\n"
     ]
    },
    {
     "name": "stderr",
     "output_type": "stream",
     "text": [
      "C:\\Users\\ciara\\anaconda3\\envs\\thesis\\lib\\site-packages\\imblearn\\utils\\_validation.py:299: UserWarning: After over-sampling, the number of samples (976) in class 0 will be larger than the number of samples in the majority class (class #1 -> 557)\n",
      "  warnings.warn(\n",
      "C:\\Users\\ciara\\anaconda3\\envs\\thesis\\lib\\site-packages\\imblearn\\utils\\_validation.py:299: UserWarning: After over-sampling, the number of samples (1114) in class 1 will be larger than the number of samples in the majority class (class #1 -> 557)\n",
      "  warnings.warn(\n"
     ]
    },
    {
     "name": "stdout",
     "output_type": "stream",
     "text": [
      "Currently generated: [16104 18381 11198  7644   231]\n"
     ]
    },
    {
     "name": "stderr",
     "output_type": "stream",
     "text": [
      "C:\\Users\\ciara\\anaconda3\\envs\\thesis\\lib\\site-packages\\imblearn\\utils\\_validation.py:299: UserWarning: After over-sampling, the number of samples (976) in class 0 will be larger than the number of samples in the majority class (class #1 -> 557)\n",
      "  warnings.warn(\n",
      "C:\\Users\\ciara\\anaconda3\\envs\\thesis\\lib\\site-packages\\imblearn\\utils\\_validation.py:299: UserWarning: After over-sampling, the number of samples (1114) in class 1 will be larger than the number of samples in the majority class (class #1 -> 557)\n",
      "  warnings.warn(\n"
     ]
    },
    {
     "name": "stdout",
     "output_type": "stream",
     "text": [
      "Currently generated: [16592 18938 11198  7644   238]\n"
     ]
    },
    {
     "name": "stderr",
     "output_type": "stream",
     "text": [
      "C:\\Users\\ciara\\anaconda3\\envs\\thesis\\lib\\site-packages\\imblearn\\utils\\_validation.py:299: UserWarning: After over-sampling, the number of samples (976) in class 0 will be larger than the number of samples in the majority class (class #1 -> 557)\n",
      "  warnings.warn(\n",
      "C:\\Users\\ciara\\anaconda3\\envs\\thesis\\lib\\site-packages\\imblearn\\utils\\_validation.py:299: UserWarning: After over-sampling, the number of samples (1114) in class 1 will be larger than the number of samples in the majority class (class #1 -> 557)\n",
      "  warnings.warn(\n"
     ]
    },
    {
     "name": "stdout",
     "output_type": "stream",
     "text": [
      "Currently generated: [17080 19495 11198  7644   245]\n"
     ]
    },
    {
     "name": "stderr",
     "output_type": "stream",
     "text": [
      "C:\\Users\\ciara\\anaconda3\\envs\\thesis\\lib\\site-packages\\imblearn\\utils\\_validation.py:299: UserWarning: After over-sampling, the number of samples (976) in class 0 will be larger than the number of samples in the majority class (class #1 -> 557)\n",
      "  warnings.warn(\n",
      "C:\\Users\\ciara\\anaconda3\\envs\\thesis\\lib\\site-packages\\imblearn\\utils\\_validation.py:299: UserWarning: After over-sampling, the number of samples (1114) in class 1 will be larger than the number of samples in the majority class (class #1 -> 557)\n",
      "  warnings.warn(\n"
     ]
    },
    {
     "name": "stdout",
     "output_type": "stream",
     "text": [
      "Currently generated: [17568 20052 11198  7644   252]\n"
     ]
    },
    {
     "name": "stderr",
     "output_type": "stream",
     "text": [
      "C:\\Users\\ciara\\anaconda3\\envs\\thesis\\lib\\site-packages\\imblearn\\utils\\_validation.py:299: UserWarning: After over-sampling, the number of samples (976) in class 0 will be larger than the number of samples in the majority class (class #1 -> 557)\n",
      "  warnings.warn(\n",
      "C:\\Users\\ciara\\anaconda3\\envs\\thesis\\lib\\site-packages\\imblearn\\utils\\_validation.py:299: UserWarning: After over-sampling, the number of samples (1114) in class 1 will be larger than the number of samples in the majority class (class #1 -> 557)\n",
      "  warnings.warn(\n"
     ]
    },
    {
     "name": "stdout",
     "output_type": "stream",
     "text": [
      "Currently generated: [18056 20609 11198  7644   259]\n"
     ]
    },
    {
     "name": "stderr",
     "output_type": "stream",
     "text": [
      "C:\\Users\\ciara\\anaconda3\\envs\\thesis\\lib\\site-packages\\imblearn\\utils\\_validation.py:299: UserWarning: After over-sampling, the number of samples (976) in class 0 will be larger than the number of samples in the majority class (class #1 -> 557)\n",
      "  warnings.warn(\n",
      "C:\\Users\\ciara\\anaconda3\\envs\\thesis\\lib\\site-packages\\imblearn\\utils\\_validation.py:299: UserWarning: After over-sampling, the number of samples (1114) in class 1 will be larger than the number of samples in the majority class (class #1 -> 557)\n",
      "  warnings.warn(\n"
     ]
    },
    {
     "name": "stdout",
     "output_type": "stream",
     "text": [
      "Currently generated: [18544 21166 11198  7644   266]\n"
     ]
    },
    {
     "name": "stderr",
     "output_type": "stream",
     "text": [
      "C:\\Users\\ciara\\anaconda3\\envs\\thesis\\lib\\site-packages\\imblearn\\utils\\_validation.py:299: UserWarning: After over-sampling, the number of samples (976) in class 0 will be larger than the number of samples in the majority class (class #1 -> 557)\n",
      "  warnings.warn(\n",
      "C:\\Users\\ciara\\anaconda3\\envs\\thesis\\lib\\site-packages\\imblearn\\utils\\_validation.py:299: UserWarning: After over-sampling, the number of samples (1114) in class 1 will be larger than the number of samples in the majority class (class #1 -> 557)\n",
      "  warnings.warn(\n"
     ]
    },
    {
     "name": "stdout",
     "output_type": "stream",
     "text": [
      "Currently generated: [19032 21723 11198  7644   273]\n"
     ]
    },
    {
     "name": "stderr",
     "output_type": "stream",
     "text": [
      "C:\\Users\\ciara\\anaconda3\\envs\\thesis\\lib\\site-packages\\imblearn\\utils\\_validation.py:299: UserWarning: After over-sampling, the number of samples (976) in class 0 will be larger than the number of samples in the majority class (class #1 -> 557)\n",
      "  warnings.warn(\n",
      "C:\\Users\\ciara\\anaconda3\\envs\\thesis\\lib\\site-packages\\imblearn\\utils\\_validation.py:299: UserWarning: After over-sampling, the number of samples (1114) in class 1 will be larger than the number of samples in the majority class (class #1 -> 557)\n",
      "  warnings.warn(\n"
     ]
    },
    {
     "name": "stdout",
     "output_type": "stream",
     "text": [
      "Currently generated: [19520 22280 11198  7644   280]\n"
     ]
    },
    {
     "name": "stderr",
     "output_type": "stream",
     "text": [
      "C:\\Users\\ciara\\anaconda3\\envs\\thesis\\lib\\site-packages\\imblearn\\utils\\_validation.py:299: UserWarning: After over-sampling, the number of samples (976) in class 0 will be larger than the number of samples in the majority class (class #1 -> 557)\n",
      "  warnings.warn(\n",
      "C:\\Users\\ciara\\anaconda3\\envs\\thesis\\lib\\site-packages\\imblearn\\utils\\_validation.py:299: UserWarning: After over-sampling, the number of samples (1114) in class 1 will be larger than the number of samples in the majority class (class #1 -> 557)\n",
      "  warnings.warn(\n"
     ]
    },
    {
     "name": "stdout",
     "output_type": "stream",
     "text": [
      "Currently generated: [20008 22837 11198  7644   287]\n"
     ]
    },
    {
     "name": "stderr",
     "output_type": "stream",
     "text": [
      "C:\\Users\\ciara\\anaconda3\\envs\\thesis\\lib\\site-packages\\imblearn\\utils\\_validation.py:299: UserWarning: After over-sampling, the number of samples (976) in class 0 will be larger than the number of samples in the majority class (class #1 -> 557)\n",
      "  warnings.warn(\n",
      "C:\\Users\\ciara\\anaconda3\\envs\\thesis\\lib\\site-packages\\imblearn\\utils\\_validation.py:299: UserWarning: After over-sampling, the number of samples (1114) in class 1 will be larger than the number of samples in the majority class (class #1 -> 557)\n",
      "  warnings.warn(\n"
     ]
    },
    {
     "name": "stdout",
     "output_type": "stream",
     "text": [
      "Currently generated: [20496 23394 11198  7644   294]\n"
     ]
    },
    {
     "name": "stderr",
     "output_type": "stream",
     "text": [
      "C:\\Users\\ciara\\anaconda3\\envs\\thesis\\lib\\site-packages\\imblearn\\utils\\_validation.py:299: UserWarning: After over-sampling, the number of samples (976) in class 0 will be larger than the number of samples in the majority class (class #1 -> 557)\n",
      "  warnings.warn(\n",
      "C:\\Users\\ciara\\anaconda3\\envs\\thesis\\lib\\site-packages\\imblearn\\utils\\_validation.py:299: UserWarning: After over-sampling, the number of samples (1114) in class 1 will be larger than the number of samples in the majority class (class #1 -> 557)\n",
      "  warnings.warn(\n"
     ]
    },
    {
     "name": "stdout",
     "output_type": "stream",
     "text": [
      "Currently generated: [20984 23951 11198  7644   301]\n"
     ]
    },
    {
     "name": "stderr",
     "output_type": "stream",
     "text": [
      "C:\\Users\\ciara\\anaconda3\\envs\\thesis\\lib\\site-packages\\imblearn\\utils\\_validation.py:299: UserWarning: After over-sampling, the number of samples (976) in class 0 will be larger than the number of samples in the majority class (class #1 -> 557)\n",
      "  warnings.warn(\n",
      "C:\\Users\\ciara\\anaconda3\\envs\\thesis\\lib\\site-packages\\imblearn\\utils\\_validation.py:299: UserWarning: After over-sampling, the number of samples (1114) in class 1 will be larger than the number of samples in the majority class (class #1 -> 557)\n",
      "  warnings.warn(\n"
     ]
    },
    {
     "name": "stdout",
     "output_type": "stream",
     "text": [
      "Currently generated: [21472 24508 11198  7644   301]\n"
     ]
    },
    {
     "name": "stderr",
     "output_type": "stream",
     "text": [
      "C:\\Users\\ciara\\anaconda3\\envs\\thesis\\lib\\site-packages\\imblearn\\utils\\_validation.py:299: UserWarning: After over-sampling, the number of samples (976) in class 0 will be larger than the number of samples in the majority class (class #1 -> 557)\n",
      "  warnings.warn(\n",
      "C:\\Users\\ciara\\anaconda3\\envs\\thesis\\lib\\site-packages\\imblearn\\utils\\_validation.py:299: UserWarning: After over-sampling, the number of samples (1114) in class 1 will be larger than the number of samples in the majority class (class #1 -> 557)\n",
      "  warnings.warn(\n"
     ]
    },
    {
     "name": "stdout",
     "output_type": "stream",
     "text": [
      "Currently generated: [21960 25065 11198  7644   301]\n"
     ]
    },
    {
     "name": "stderr",
     "output_type": "stream",
     "text": [
      "C:\\Users\\ciara\\anaconda3\\envs\\thesis\\lib\\site-packages\\imblearn\\utils\\_validation.py:299: UserWarning: After over-sampling, the number of samples (976) in class 0 will be larger than the number of samples in the majority class (class #1 -> 557)\n",
      "  warnings.warn(\n",
      "C:\\Users\\ciara\\anaconda3\\envs\\thesis\\lib\\site-packages\\imblearn\\utils\\_validation.py:299: UserWarning: After over-sampling, the number of samples (1114) in class 1 will be larger than the number of samples in the majority class (class #1 -> 557)\n",
      "  warnings.warn(\n"
     ]
    },
    {
     "name": "stdout",
     "output_type": "stream",
     "text": [
      "Currently generated: [22448 25622 11198  7644   301]\n"
     ]
    },
    {
     "name": "stderr",
     "output_type": "stream",
     "text": [
      "C:\\Users\\ciara\\anaconda3\\envs\\thesis\\lib\\site-packages\\imblearn\\utils\\_validation.py:299: UserWarning: After over-sampling, the number of samples (976) in class 0 will be larger than the number of samples in the majority class (class #1 -> 557)\n",
      "  warnings.warn(\n",
      "C:\\Users\\ciara\\anaconda3\\envs\\thesis\\lib\\site-packages\\imblearn\\utils\\_validation.py:299: UserWarning: After over-sampling, the number of samples (1114) in class 1 will be larger than the number of samples in the majority class (class #1 -> 557)\n",
      "  warnings.warn(\n"
     ]
    },
    {
     "name": "stdout",
     "output_type": "stream",
     "text": [
      "Currently generated: [22936 26179 11198  7644   301]\n"
     ]
    },
    {
     "name": "stderr",
     "output_type": "stream",
     "text": [
      "C:\\Users\\ciara\\anaconda3\\envs\\thesis\\lib\\site-packages\\imblearn\\utils\\_validation.py:299: UserWarning: After over-sampling, the number of samples (976) in class 0 will be larger than the number of samples in the majority class (class #1 -> 557)\n",
      "  warnings.warn(\n",
      "C:\\Users\\ciara\\anaconda3\\envs\\thesis\\lib\\site-packages\\imblearn\\utils\\_validation.py:299: UserWarning: After over-sampling, the number of samples (1114) in class 1 will be larger than the number of samples in the majority class (class #1 -> 557)\n",
      "  warnings.warn(\n"
     ]
    },
    {
     "name": "stdout",
     "output_type": "stream",
     "text": [
      "Currently generated: [23424 26736 11198  7644   301]\n"
     ]
    },
    {
     "name": "stderr",
     "output_type": "stream",
     "text": [
      "C:\\Users\\ciara\\anaconda3\\envs\\thesis\\lib\\site-packages\\imblearn\\utils\\_validation.py:299: UserWarning: After over-sampling, the number of samples (976) in class 0 will be larger than the number of samples in the majority class (class #1 -> 557)\n",
      "  warnings.warn(\n",
      "C:\\Users\\ciara\\anaconda3\\envs\\thesis\\lib\\site-packages\\imblearn\\utils\\_validation.py:299: UserWarning: After over-sampling, the number of samples (1114) in class 1 will be larger than the number of samples in the majority class (class #1 -> 557)\n",
      "  warnings.warn(\n"
     ]
    },
    {
     "name": "stdout",
     "output_type": "stream",
     "text": [
      "Currently generated: [23912 27293 11198  7644   301]\n"
     ]
    },
    {
     "name": "stderr",
     "output_type": "stream",
     "text": [
      "C:\\Users\\ciara\\anaconda3\\envs\\thesis\\lib\\site-packages\\imblearn\\utils\\_validation.py:299: UserWarning: After over-sampling, the number of samples (976) in class 0 will be larger than the number of samples in the majority class (class #1 -> 557)\n",
      "  warnings.warn(\n",
      "C:\\Users\\ciara\\anaconda3\\envs\\thesis\\lib\\site-packages\\imblearn\\utils\\_validation.py:299: UserWarning: After over-sampling, the number of samples (1114) in class 1 will be larger than the number of samples in the majority class (class #1 -> 557)\n",
      "  warnings.warn(\n"
     ]
    },
    {
     "name": "stdout",
     "output_type": "stream",
     "text": [
      "Currently generated: [24400 27850 11198  7644   301]\n"
     ]
    },
    {
     "name": "stderr",
     "output_type": "stream",
     "text": [
      "C:\\Users\\ciara\\anaconda3\\envs\\thesis\\lib\\site-packages\\imblearn\\utils\\_validation.py:299: UserWarning: After over-sampling, the number of samples (976) in class 0 will be larger than the number of samples in the majority class (class #1 -> 557)\n",
      "  warnings.warn(\n",
      "C:\\Users\\ciara\\anaconda3\\envs\\thesis\\lib\\site-packages\\imblearn\\utils\\_validation.py:299: UserWarning: After over-sampling, the number of samples (1114) in class 1 will be larger than the number of samples in the majority class (class #1 -> 557)\n",
      "  warnings.warn(\n"
     ]
    },
    {
     "name": "stdout",
     "output_type": "stream",
     "text": [
      "Currently generated: [24888 28407 11198  7644   301]\n"
     ]
    },
    {
     "name": "stderr",
     "output_type": "stream",
     "text": [
      "C:\\Users\\ciara\\anaconda3\\envs\\thesis\\lib\\site-packages\\imblearn\\utils\\_validation.py:299: UserWarning: After over-sampling, the number of samples (976) in class 0 will be larger than the number of samples in the majority class (class #1 -> 557)\n",
      "  warnings.warn(\n",
      "C:\\Users\\ciara\\anaconda3\\envs\\thesis\\lib\\site-packages\\imblearn\\utils\\_validation.py:299: UserWarning: After over-sampling, the number of samples (1114) in class 1 will be larger than the number of samples in the majority class (class #1 -> 557)\n",
      "  warnings.warn(\n"
     ]
    },
    {
     "name": "stdout",
     "output_type": "stream",
     "text": [
      "Currently generated: [25376 28964 11198  7644   301]\n"
     ]
    },
    {
     "name": "stderr",
     "output_type": "stream",
     "text": [
      "C:\\Users\\ciara\\anaconda3\\envs\\thesis\\lib\\site-packages\\imblearn\\utils\\_validation.py:299: UserWarning: After over-sampling, the number of samples (976) in class 0 will be larger than the number of samples in the majority class (class #1 -> 557)\n",
      "  warnings.warn(\n",
      "C:\\Users\\ciara\\anaconda3\\envs\\thesis\\lib\\site-packages\\imblearn\\utils\\_validation.py:299: UserWarning: After over-sampling, the number of samples (1114) in class 1 will be larger than the number of samples in the majority class (class #1 -> 557)\n",
      "  warnings.warn(\n"
     ]
    },
    {
     "name": "stdout",
     "output_type": "stream",
     "text": [
      "Currently generated: [25864 29521 11198  7644   301]\n"
     ]
    },
    {
     "name": "stderr",
     "output_type": "stream",
     "text": [
      "C:\\Users\\ciara\\anaconda3\\envs\\thesis\\lib\\site-packages\\imblearn\\utils\\_validation.py:299: UserWarning: After over-sampling, the number of samples (976) in class 0 will be larger than the number of samples in the majority class (class #1 -> 557)\n",
      "  warnings.warn(\n",
      "C:\\Users\\ciara\\anaconda3\\envs\\thesis\\lib\\site-packages\\imblearn\\utils\\_validation.py:299: UserWarning: After over-sampling, the number of samples (1114) in class 1 will be larger than the number of samples in the majority class (class #1 -> 557)\n",
      "  warnings.warn(\n"
     ]
    },
    {
     "name": "stdout",
     "output_type": "stream",
     "text": [
      "Currently generated: [26352 30078 11198  7644   301]\n"
     ]
    },
    {
     "name": "stderr",
     "output_type": "stream",
     "text": [
      "C:\\Users\\ciara\\anaconda3\\envs\\thesis\\lib\\site-packages\\imblearn\\utils\\_validation.py:299: UserWarning: After over-sampling, the number of samples (976) in class 0 will be larger than the number of samples in the majority class (class #1 -> 557)\n",
      "  warnings.warn(\n",
      "C:\\Users\\ciara\\anaconda3\\envs\\thesis\\lib\\site-packages\\imblearn\\utils\\_validation.py:299: UserWarning: After over-sampling, the number of samples (1114) in class 1 will be larger than the number of samples in the majority class (class #1 -> 557)\n",
      "  warnings.warn(\n"
     ]
    },
    {
     "name": "stdout",
     "output_type": "stream",
     "text": [
      "Currently generated: [26840 30635 11198  7644   301]\n"
     ]
    },
    {
     "name": "stderr",
     "output_type": "stream",
     "text": [
      "C:\\Users\\ciara\\anaconda3\\envs\\thesis\\lib\\site-packages\\imblearn\\utils\\_validation.py:299: UserWarning: After over-sampling, the number of samples (976) in class 0 will be larger than the number of samples in the majority class (class #1 -> 557)\n",
      "  warnings.warn(\n",
      "C:\\Users\\ciara\\anaconda3\\envs\\thesis\\lib\\site-packages\\imblearn\\utils\\_validation.py:299: UserWarning: After over-sampling, the number of samples (1114) in class 1 will be larger than the number of samples in the majority class (class #1 -> 557)\n",
      "  warnings.warn(\n"
     ]
    },
    {
     "name": "stdout",
     "output_type": "stream",
     "text": [
      "Currently generated: [27328 31192 11198  7644   301]\n"
     ]
    },
    {
     "name": "stderr",
     "output_type": "stream",
     "text": [
      "C:\\Users\\ciara\\anaconda3\\envs\\thesis\\lib\\site-packages\\imblearn\\utils\\_validation.py:299: UserWarning: After over-sampling, the number of samples (976) in class 0 will be larger than the number of samples in the majority class (class #1 -> 557)\n",
      "  warnings.warn(\n",
      "C:\\Users\\ciara\\anaconda3\\envs\\thesis\\lib\\site-packages\\imblearn\\utils\\_validation.py:299: UserWarning: After over-sampling, the number of samples (1114) in class 1 will be larger than the number of samples in the majority class (class #1 -> 557)\n",
      "  warnings.warn(\n"
     ]
    },
    {
     "name": "stdout",
     "output_type": "stream",
     "text": [
      "Currently generated: [27816 31749 11198  7644   301]\n"
     ]
    },
    {
     "name": "stderr",
     "output_type": "stream",
     "text": [
      "C:\\Users\\ciara\\anaconda3\\envs\\thesis\\lib\\site-packages\\imblearn\\utils\\_validation.py:299: UserWarning: After over-sampling, the number of samples (976) in class 0 will be larger than the number of samples in the majority class (class #1 -> 557)\n",
      "  warnings.warn(\n",
      "C:\\Users\\ciara\\anaconda3\\envs\\thesis\\lib\\site-packages\\imblearn\\utils\\_validation.py:299: UserWarning: After over-sampling, the number of samples (1114) in class 1 will be larger than the number of samples in the majority class (class #1 -> 557)\n",
      "  warnings.warn(\n"
     ]
    },
    {
     "name": "stdout",
     "output_type": "stream",
     "text": [
      "Currently generated: [28304 32306 11198  7644   301]\n"
     ]
    },
    {
     "name": "stderr",
     "output_type": "stream",
     "text": [
      "C:\\Users\\ciara\\anaconda3\\envs\\thesis\\lib\\site-packages\\imblearn\\utils\\_validation.py:299: UserWarning: After over-sampling, the number of samples (976) in class 0 will be larger than the number of samples in the majority class (class #1 -> 557)\n",
      "  warnings.warn(\n",
      "C:\\Users\\ciara\\anaconda3\\envs\\thesis\\lib\\site-packages\\imblearn\\utils\\_validation.py:299: UserWarning: After over-sampling, the number of samples (1114) in class 1 will be larger than the number of samples in the majority class (class #1 -> 557)\n",
      "  warnings.warn(\n"
     ]
    },
    {
     "name": "stdout",
     "output_type": "stream",
     "text": [
      "Currently generated: [28792 32863 11198  7644   301]\n"
     ]
    },
    {
     "name": "stderr",
     "output_type": "stream",
     "text": [
      "C:\\Users\\ciara\\anaconda3\\envs\\thesis\\lib\\site-packages\\imblearn\\utils\\_validation.py:299: UserWarning: After over-sampling, the number of samples (976) in class 0 will be larger than the number of samples in the majority class (class #1 -> 557)\n",
      "  warnings.warn(\n",
      "C:\\Users\\ciara\\anaconda3\\envs\\thesis\\lib\\site-packages\\imblearn\\utils\\_validation.py:299: UserWarning: After over-sampling, the number of samples (1114) in class 1 will be larger than the number of samples in the majority class (class #1 -> 557)\n",
      "  warnings.warn(\n"
     ]
    },
    {
     "name": "stdout",
     "output_type": "stream",
     "text": [
      "Currently generated: [29280 33420 11198  7644   301]\n"
     ]
    },
    {
     "name": "stderr",
     "output_type": "stream",
     "text": [
      "C:\\Users\\ciara\\anaconda3\\envs\\thesis\\lib\\site-packages\\imblearn\\utils\\_validation.py:299: UserWarning: After over-sampling, the number of samples (976) in class 0 will be larger than the number of samples in the majority class (class #1 -> 557)\n",
      "  warnings.warn(\n",
      "C:\\Users\\ciara\\anaconda3\\envs\\thesis\\lib\\site-packages\\imblearn\\utils\\_validation.py:299: UserWarning: After over-sampling, the number of samples (1114) in class 1 will be larger than the number of samples in the majority class (class #1 -> 557)\n",
      "  warnings.warn(\n"
     ]
    },
    {
     "name": "stdout",
     "output_type": "stream",
     "text": [
      "Currently generated: [29768 33977 11198  7644   301]\n"
     ]
    },
    {
     "name": "stderr",
     "output_type": "stream",
     "text": [
      "C:\\Users\\ciara\\anaconda3\\envs\\thesis\\lib\\site-packages\\imblearn\\utils\\_validation.py:299: UserWarning: After over-sampling, the number of samples (976) in class 0 will be larger than the number of samples in the majority class (class #1 -> 557)\n",
      "  warnings.warn(\n",
      "C:\\Users\\ciara\\anaconda3\\envs\\thesis\\lib\\site-packages\\imblearn\\utils\\_validation.py:299: UserWarning: After over-sampling, the number of samples (1114) in class 1 will be larger than the number of samples in the majority class (class #1 -> 557)\n",
      "  warnings.warn(\n"
     ]
    },
    {
     "name": "stdout",
     "output_type": "stream",
     "text": [
      "Currently generated: [30256 34534 11198  7644   301]\n"
     ]
    },
    {
     "name": "stderr",
     "output_type": "stream",
     "text": [
      "C:\\Users\\ciara\\anaconda3\\envs\\thesis\\lib\\site-packages\\imblearn\\utils\\_validation.py:299: UserWarning: After over-sampling, the number of samples (976) in class 0 will be larger than the number of samples in the majority class (class #1 -> 557)\n",
      "  warnings.warn(\n",
      "C:\\Users\\ciara\\anaconda3\\envs\\thesis\\lib\\site-packages\\imblearn\\utils\\_validation.py:299: UserWarning: After over-sampling, the number of samples (1114) in class 1 will be larger than the number of samples in the majority class (class #1 -> 557)\n",
      "  warnings.warn(\n"
     ]
    },
    {
     "name": "stdout",
     "output_type": "stream",
     "text": [
      "Currently generated: [30744 35091 11198  7644   301]\n"
     ]
    },
    {
     "name": "stderr",
     "output_type": "stream",
     "text": [
      "C:\\Users\\ciara\\anaconda3\\envs\\thesis\\lib\\site-packages\\imblearn\\utils\\_validation.py:299: UserWarning: After over-sampling, the number of samples (976) in class 0 will be larger than the number of samples in the majority class (class #1 -> 557)\n",
      "  warnings.warn(\n",
      "C:\\Users\\ciara\\anaconda3\\envs\\thesis\\lib\\site-packages\\imblearn\\utils\\_validation.py:299: UserWarning: After over-sampling, the number of samples (1114) in class 1 will be larger than the number of samples in the majority class (class #1 -> 557)\n",
      "  warnings.warn(\n"
     ]
    },
    {
     "name": "stdout",
     "output_type": "stream",
     "text": [
      "Currently generated: [31232 35648 11198  7644   301]\n"
     ]
    },
    {
     "name": "stderr",
     "output_type": "stream",
     "text": [
      "C:\\Users\\ciara\\anaconda3\\envs\\thesis\\lib\\site-packages\\imblearn\\utils\\_validation.py:299: UserWarning: After over-sampling, the number of samples (976) in class 0 will be larger than the number of samples in the majority class (class #1 -> 557)\n",
      "  warnings.warn(\n",
      "C:\\Users\\ciara\\anaconda3\\envs\\thesis\\lib\\site-packages\\imblearn\\utils\\_validation.py:299: UserWarning: After over-sampling, the number of samples (1114) in class 1 will be larger than the number of samples in the majority class (class #1 -> 557)\n",
      "  warnings.warn(\n"
     ]
    },
    {
     "name": "stdout",
     "output_type": "stream",
     "text": [
      "Currently generated: [31720 36205 11198  7644   301]\n"
     ]
    },
    {
     "name": "stderr",
     "output_type": "stream",
     "text": [
      "C:\\Users\\ciara\\anaconda3\\envs\\thesis\\lib\\site-packages\\imblearn\\utils\\_validation.py:299: UserWarning: After over-sampling, the number of samples (976) in class 0 will be larger than the number of samples in the majority class (class #1 -> 557)\n",
      "  warnings.warn(\n",
      "C:\\Users\\ciara\\anaconda3\\envs\\thesis\\lib\\site-packages\\imblearn\\utils\\_validation.py:299: UserWarning: After over-sampling, the number of samples (1114) in class 1 will be larger than the number of samples in the majority class (class #1 -> 557)\n",
      "  warnings.warn(\n"
     ]
    },
    {
     "name": "stdout",
     "output_type": "stream",
     "text": [
      "Currently generated: [32208 36762 11198  7644   301]\n"
     ]
    },
    {
     "name": "stderr",
     "output_type": "stream",
     "text": [
      "C:\\Users\\ciara\\anaconda3\\envs\\thesis\\lib\\site-packages\\imblearn\\utils\\_validation.py:299: UserWarning: After over-sampling, the number of samples (976) in class 0 will be larger than the number of samples in the majority class (class #1 -> 557)\n",
      "  warnings.warn(\n",
      "C:\\Users\\ciara\\anaconda3\\envs\\thesis\\lib\\site-packages\\imblearn\\utils\\_validation.py:299: UserWarning: After over-sampling, the number of samples (1114) in class 1 will be larger than the number of samples in the majority class (class #1 -> 557)\n",
      "  warnings.warn(\n"
     ]
    },
    {
     "name": "stdout",
     "output_type": "stream",
     "text": [
      "Currently generated: [32696 37319 11198  7644   301]\n"
     ]
    },
    {
     "name": "stderr",
     "output_type": "stream",
     "text": [
      "C:\\Users\\ciara\\anaconda3\\envs\\thesis\\lib\\site-packages\\imblearn\\utils\\_validation.py:299: UserWarning: After over-sampling, the number of samples (976) in class 0 will be larger than the number of samples in the majority class (class #1 -> 557)\n",
      "  warnings.warn(\n",
      "C:\\Users\\ciara\\anaconda3\\envs\\thesis\\lib\\site-packages\\imblearn\\utils\\_validation.py:299: UserWarning: After over-sampling, the number of samples (1114) in class 1 will be larger than the number of samples in the majority class (class #1 -> 557)\n",
      "  warnings.warn(\n"
     ]
    },
    {
     "name": "stdout",
     "output_type": "stream",
     "text": [
      "Currently generated: [33184 37876 11198  7644   301]\n"
     ]
    },
    {
     "name": "stderr",
     "output_type": "stream",
     "text": [
      "C:\\Users\\ciara\\anaconda3\\envs\\thesis\\lib\\site-packages\\imblearn\\utils\\_validation.py:299: UserWarning: After over-sampling, the number of samples (976) in class 0 will be larger than the number of samples in the majority class (class #1 -> 557)\n",
      "  warnings.warn(\n",
      "C:\\Users\\ciara\\anaconda3\\envs\\thesis\\lib\\site-packages\\imblearn\\utils\\_validation.py:299: UserWarning: After over-sampling, the number of samples (1114) in class 1 will be larger than the number of samples in the majority class (class #1 -> 557)\n",
      "  warnings.warn(\n"
     ]
    },
    {
     "name": "stdout",
     "output_type": "stream",
     "text": [
      "Currently generated: [33672 38433 11198  7644   301]\n"
     ]
    },
    {
     "name": "stderr",
     "output_type": "stream",
     "text": [
      "C:\\Users\\ciara\\anaconda3\\envs\\thesis\\lib\\site-packages\\imblearn\\utils\\_validation.py:299: UserWarning: After over-sampling, the number of samples (976) in class 0 will be larger than the number of samples in the majority class (class #1 -> 557)\n",
      "  warnings.warn(\n",
      "C:\\Users\\ciara\\anaconda3\\envs\\thesis\\lib\\site-packages\\imblearn\\utils\\_validation.py:299: UserWarning: After over-sampling, the number of samples (1114) in class 1 will be larger than the number of samples in the majority class (class #1 -> 557)\n",
      "  warnings.warn(\n"
     ]
    },
    {
     "name": "stdout",
     "output_type": "stream",
     "text": [
      "Currently generated: [34160 38955 11198  7644   301]\n"
     ]
    },
    {
     "name": "stderr",
     "output_type": "stream",
     "text": [
      "C:\\Users\\ciara\\anaconda3\\envs\\thesis\\lib\\site-packages\\imblearn\\utils\\_validation.py:299: UserWarning: After over-sampling, the number of samples (976) in class 0 will be larger than the number of samples in the majority class (class #0 -> 488)\n",
      "  warnings.warn(\n"
     ]
    },
    {
     "name": "stdout",
     "output_type": "stream",
     "text": [
      "Currently generated: [34648 38955 11198  7644   301]\n"
     ]
    },
    {
     "name": "stderr",
     "output_type": "stream",
     "text": [
      "C:\\Users\\ciara\\anaconda3\\envs\\thesis\\lib\\site-packages\\imblearn\\utils\\_validation.py:299: UserWarning: After over-sampling, the number of samples (976) in class 0 will be larger than the number of samples in the majority class (class #0 -> 488)\n",
      "  warnings.warn(\n"
     ]
    },
    {
     "name": "stdout",
     "output_type": "stream",
     "text": [
      "Currently generated: [35136 38955 11198  7644   301]\n"
     ]
    },
    {
     "name": "stderr",
     "output_type": "stream",
     "text": [
      "C:\\Users\\ciara\\anaconda3\\envs\\thesis\\lib\\site-packages\\imblearn\\utils\\_validation.py:299: UserWarning: After over-sampling, the number of samples (976) in class 0 will be larger than the number of samples in the majority class (class #0 -> 488)\n",
      "  warnings.warn(\n"
     ]
    },
    {
     "name": "stdout",
     "output_type": "stream",
     "text": [
      "Currently generated: [35624 38955 11198  7644   301]\n"
     ]
    },
    {
     "name": "stderr",
     "output_type": "stream",
     "text": [
      "C:\\Users\\ciara\\anaconda3\\envs\\thesis\\lib\\site-packages\\imblearn\\utils\\_validation.py:299: UserWarning: After over-sampling, the number of samples (976) in class 0 will be larger than the number of samples in the majority class (class #0 -> 488)\n",
      "  warnings.warn(\n"
     ]
    }
   ],
   "source": [
    "smote_paths, labels_stacked = sample_smote(overall_array, overall_y, save_dir = '../Plaquebox/plaquebox-paper-master/data/tiles/train_and_val')"
   ]
  },
  {
   "cell_type": "code",
   "execution_count": 147,
   "id": "d4a59cbc",
   "metadata": {},
   "outputs": [
    {
     "data": {
      "text/plain": [
       "['smote/0.jpg',\n",
       " 'smote/1.jpg',\n",
       " 'smote/2.jpg',\n",
       " 'smote/3.jpg',\n",
       " 'smote/4.jpg',\n",
       " 'smote/5.jpg',\n",
       " 'smote/6.jpg',\n",
       " 'smote/7.jpg',\n",
       " 'smote/8.jpg',\n",
       " 'smote/9.jpg',\n",
       " 'smote/10.jpg',\n",
       " 'smote/11.jpg',\n",
       " 'smote/12.jpg',\n",
       " 'smote/13.jpg',\n",
       " 'smote/14.jpg',\n",
       " 'smote/15.jpg',\n",
       " 'smote/16.jpg',\n",
       " 'smote/17.jpg',\n",
       " 'smote/18.jpg',\n",
       " 'smote/19.jpg',\n",
       " 'smote/20.jpg',\n",
       " 'smote/21.jpg',\n",
       " 'smote/22.jpg',\n",
       " 'smote/23.jpg',\n",
       " 'smote/24.jpg',\n",
       " 'smote/25.jpg',\n",
       " 'smote/26.jpg',\n",
       " 'smote/27.jpg',\n",
       " 'smote/28.jpg',\n",
       " 'smote/29.jpg',\n",
       " 'smote/30.jpg',\n",
       " 'smote/31.jpg',\n",
       " 'smote/32.jpg',\n",
       " 'smote/33.jpg',\n",
       " 'smote/34.jpg',\n",
       " 'smote/35.jpg',\n",
       " 'smote/36.jpg',\n",
       " 'smote/37.jpg',\n",
       " 'smote/38.jpg',\n",
       " 'smote/39.jpg',\n",
       " 'smote/40.jpg',\n",
       " 'smote/41.jpg',\n",
       " 'smote/42.jpg',\n",
       " 'smote/43.jpg',\n",
       " 'smote/44.jpg',\n",
       " 'smote/45.jpg',\n",
       " 'smote/46.jpg',\n",
       " 'smote/47.jpg',\n",
       " 'smote/48.jpg',\n",
       " 'smote/49.jpg',\n",
       " 'smote/50.jpg',\n",
       " 'smote/51.jpg',\n",
       " 'smote/52.jpg',\n",
       " 'smote/53.jpg',\n",
       " 'smote/54.jpg',\n",
       " 'smote/55.jpg',\n",
       " 'smote/56.jpg',\n",
       " 'smote/57.jpg',\n",
       " 'smote/58.jpg',\n",
       " 'smote/59.jpg',\n",
       " 'smote/60.jpg',\n",
       " 'smote/61.jpg',\n",
       " 'smote/62.jpg',\n",
       " 'smote/63.jpg',\n",
       " 'smote/64.jpg',\n",
       " 'smote/65.jpg',\n",
       " 'smote/66.jpg',\n",
       " 'smote/67.jpg',\n",
       " 'smote/68.jpg',\n",
       " 'smote/69.jpg',\n",
       " 'smote/70.jpg',\n",
       " 'smote/71.jpg',\n",
       " 'smote/72.jpg',\n",
       " 'smote/73.jpg',\n",
       " 'smote/74.jpg',\n",
       " 'smote/75.jpg',\n",
       " 'smote/76.jpg',\n",
       " 'smote/77.jpg',\n",
       " 'smote/78.jpg',\n",
       " 'smote/79.jpg',\n",
       " 'smote/80.jpg',\n",
       " 'smote/81.jpg',\n",
       " 'smote/82.jpg',\n",
       " 'smote/83.jpg',\n",
       " 'smote/84.jpg',\n",
       " 'smote/85.jpg',\n",
       " 'smote/86.jpg',\n",
       " 'smote/87.jpg',\n",
       " 'smote/88.jpg',\n",
       " 'smote/89.jpg',\n",
       " 'smote/90.jpg',\n",
       " 'smote/91.jpg',\n",
       " 'smote/92.jpg',\n",
       " 'smote/93.jpg',\n",
       " 'smote/94.jpg',\n",
       " 'smote/95.jpg',\n",
       " 'smote/96.jpg',\n",
       " 'smote/97.jpg',\n",
       " 'smote/98.jpg',\n",
       " 'smote/99.jpg',\n",
       " 'smote/100.jpg',\n",
       " 'smote/101.jpg',\n",
       " 'smote/102.jpg',\n",
       " 'smote/103.jpg',\n",
       " 'smote/104.jpg',\n",
       " 'smote/105.jpg',\n",
       " 'smote/106.jpg',\n",
       " 'smote/107.jpg',\n",
       " 'smote/108.jpg',\n",
       " 'smote/109.jpg',\n",
       " 'smote/110.jpg',\n",
       " 'smote/111.jpg',\n",
       " 'smote/112.jpg',\n",
       " 'smote/113.jpg',\n",
       " 'smote/114.jpg',\n",
       " 'smote/115.jpg',\n",
       " 'smote/116.jpg',\n",
       " 'smote/117.jpg',\n",
       " 'smote/118.jpg',\n",
       " 'smote/119.jpg',\n",
       " 'smote/120.jpg',\n",
       " 'smote/121.jpg',\n",
       " 'smote/122.jpg',\n",
       " 'smote/123.jpg',\n",
       " 'smote/124.jpg',\n",
       " 'smote/125.jpg',\n",
       " 'smote/126.jpg',\n",
       " 'smote/127.jpg',\n",
       " 'smote/128.jpg',\n",
       " 'smote/129.jpg',\n",
       " 'smote/130.jpg',\n",
       " 'smote/131.jpg',\n",
       " 'smote/132.jpg',\n",
       " 'smote/133.jpg',\n",
       " 'smote/134.jpg',\n",
       " 'smote/135.jpg',\n",
       " 'smote/136.jpg',\n",
       " 'smote/137.jpg',\n",
       " 'smote/138.jpg',\n",
       " 'smote/139.jpg',\n",
       " 'smote/140.jpg',\n",
       " 'smote/141.jpg',\n",
       " 'smote/142.jpg',\n",
       " 'smote/143.jpg',\n",
       " 'smote/144.jpg',\n",
       " 'smote/145.jpg',\n",
       " 'smote/146.jpg',\n",
       " 'smote/147.jpg',\n",
       " 'smote/148.jpg',\n",
       " 'smote/149.jpg',\n",
       " 'smote/150.jpg',\n",
       " 'smote/151.jpg',\n",
       " 'smote/152.jpg',\n",
       " 'smote/153.jpg',\n",
       " 'smote/154.jpg',\n",
       " 'smote/155.jpg',\n",
       " 'smote/156.jpg',\n",
       " 'smote/157.jpg',\n",
       " 'smote/158.jpg',\n",
       " 'smote/159.jpg',\n",
       " 'smote/160.jpg',\n",
       " 'smote/161.jpg',\n",
       " 'smote/162.jpg',\n",
       " 'smote/163.jpg',\n",
       " 'smote/164.jpg',\n",
       " 'smote/165.jpg',\n",
       " 'smote/166.jpg',\n",
       " 'smote/167.jpg',\n",
       " 'smote/168.jpg',\n",
       " 'smote/169.jpg',\n",
       " 'smote/170.jpg',\n",
       " 'smote/171.jpg',\n",
       " 'smote/172.jpg',\n",
       " 'smote/173.jpg',\n",
       " 'smote/174.jpg',\n",
       " 'smote/175.jpg',\n",
       " 'smote/176.jpg',\n",
       " 'smote/177.jpg',\n",
       " 'smote/178.jpg',\n",
       " 'smote/179.jpg',\n",
       " 'smote/180.jpg',\n",
       " 'smote/181.jpg',\n",
       " 'smote/182.jpg',\n",
       " 'smote/183.jpg',\n",
       " 'smote/184.jpg',\n",
       " 'smote/185.jpg',\n",
       " 'smote/186.jpg',\n",
       " 'smote/187.jpg',\n",
       " 'smote/188.jpg',\n",
       " 'smote/189.jpg',\n",
       " 'smote/190.jpg',\n",
       " 'smote/191.jpg',\n",
       " 'smote/192.jpg',\n",
       " 'smote/193.jpg',\n",
       " 'smote/194.jpg',\n",
       " 'smote/195.jpg',\n",
       " 'smote/196.jpg',\n",
       " 'smote/197.jpg',\n",
       " 'smote/198.jpg',\n",
       " 'smote/199.jpg',\n",
       " 'smote/200.jpg',\n",
       " 'smote/201.jpg',\n",
       " 'smote/202.jpg',\n",
       " 'smote/203.jpg',\n",
       " 'smote/204.jpg',\n",
       " 'smote/205.jpg',\n",
       " 'smote/206.jpg',\n",
       " 'smote/207.jpg',\n",
       " 'smote/208.jpg',\n",
       " 'smote/209.jpg',\n",
       " 'smote/210.jpg',\n",
       " 'smote/211.jpg',\n",
       " 'smote/212.jpg',\n",
       " 'smote/213.jpg',\n",
       " 'smote/214.jpg',\n",
       " 'smote/215.jpg',\n",
       " 'smote/216.jpg',\n",
       " 'smote/217.jpg',\n",
       " 'smote/218.jpg',\n",
       " 'smote/219.jpg',\n",
       " 'smote/220.jpg',\n",
       " 'smote/221.jpg',\n",
       " 'smote/222.jpg',\n",
       " 'smote/223.jpg',\n",
       " 'smote/224.jpg',\n",
       " 'smote/225.jpg',\n",
       " 'smote/226.jpg',\n",
       " 'smote/227.jpg',\n",
       " 'smote/228.jpg',\n",
       " 'smote/229.jpg',\n",
       " 'smote/230.jpg',\n",
       " 'smote/231.jpg',\n",
       " 'smote/232.jpg',\n",
       " 'smote/233.jpg',\n",
       " 'smote/234.jpg',\n",
       " 'smote/235.jpg',\n",
       " 'smote/236.jpg',\n",
       " 'smote/237.jpg',\n",
       " 'smote/238.jpg',\n",
       " 'smote/239.jpg',\n",
       " 'smote/240.jpg',\n",
       " 'smote/241.jpg',\n",
       " 'smote/242.jpg',\n",
       " 'smote/243.jpg',\n",
       " 'smote/244.jpg',\n",
       " 'smote/245.jpg',\n",
       " 'smote/246.jpg',\n",
       " 'smote/247.jpg',\n",
       " 'smote/248.jpg',\n",
       " 'smote/249.jpg',\n",
       " 'smote/250.jpg',\n",
       " 'smote/251.jpg',\n",
       " 'smote/252.jpg',\n",
       " 'smote/253.jpg',\n",
       " 'smote/254.jpg',\n",
       " 'smote/255.jpg',\n",
       " 'smote/256.jpg',\n",
       " 'smote/257.jpg',\n",
       " 'smote/258.jpg',\n",
       " 'smote/259.jpg',\n",
       " 'smote/260.jpg',\n",
       " 'smote/261.jpg',\n",
       " 'smote/262.jpg',\n",
       " 'smote/263.jpg',\n",
       " 'smote/264.jpg',\n",
       " 'smote/265.jpg',\n",
       " 'smote/266.jpg',\n",
       " 'smote/267.jpg',\n",
       " 'smote/268.jpg',\n",
       " 'smote/269.jpg',\n",
       " 'smote/270.jpg',\n",
       " 'smote/271.jpg',\n",
       " 'smote/272.jpg',\n",
       " 'smote/273.jpg',\n",
       " 'smote/274.jpg',\n",
       " 'smote/275.jpg',\n",
       " 'smote/276.jpg',\n",
       " 'smote/277.jpg',\n",
       " 'smote/278.jpg',\n",
       " 'smote/279.jpg',\n",
       " 'smote/280.jpg',\n",
       " 'smote/281.jpg',\n",
       " 'smote/282.jpg',\n",
       " 'smote/283.jpg',\n",
       " 'smote/284.jpg',\n",
       " 'smote/285.jpg',\n",
       " 'smote/286.jpg',\n",
       " 'smote/287.jpg',\n",
       " 'smote/288.jpg',\n",
       " 'smote/289.jpg',\n",
       " 'smote/290.jpg',\n",
       " 'smote/291.jpg',\n",
       " 'smote/292.jpg',\n",
       " 'smote/293.jpg',\n",
       " 'smote/294.jpg',\n",
       " 'smote/295.jpg',\n",
       " 'smote/296.jpg',\n",
       " 'smote/297.jpg',\n",
       " 'smote/298.jpg',\n",
       " 'smote/299.jpg',\n",
       " 'smote/300.jpg',\n",
       " 'smote/301.jpg',\n",
       " 'smote/302.jpg',\n",
       " 'smote/303.jpg',\n",
       " 'smote/304.jpg',\n",
       " 'smote/305.jpg',\n",
       " 'smote/306.jpg',\n",
       " 'smote/307.jpg',\n",
       " 'smote/308.jpg',\n",
       " 'smote/309.jpg',\n",
       " 'smote/310.jpg',\n",
       " 'smote/311.jpg',\n",
       " 'smote/312.jpg',\n",
       " 'smote/313.jpg',\n",
       " 'smote/314.jpg',\n",
       " 'smote/315.jpg',\n",
       " 'smote/316.jpg',\n",
       " 'smote/317.jpg',\n",
       " 'smote/318.jpg',\n",
       " 'smote/319.jpg',\n",
       " 'smote/320.jpg',\n",
       " 'smote/321.jpg',\n",
       " 'smote/322.jpg',\n",
       " 'smote/323.jpg',\n",
       " 'smote/324.jpg',\n",
       " 'smote/325.jpg',\n",
       " 'smote/326.jpg',\n",
       " 'smote/327.jpg',\n",
       " 'smote/328.jpg',\n",
       " 'smote/329.jpg',\n",
       " 'smote/330.jpg',\n",
       " 'smote/331.jpg',\n",
       " 'smote/332.jpg',\n",
       " 'smote/333.jpg',\n",
       " 'smote/334.jpg',\n",
       " 'smote/335.jpg',\n",
       " 'smote/336.jpg',\n",
       " 'smote/337.jpg',\n",
       " 'smote/338.jpg',\n",
       " 'smote/339.jpg',\n",
       " 'smote/340.jpg',\n",
       " 'smote/341.jpg',\n",
       " 'smote/342.jpg',\n",
       " 'smote/343.jpg',\n",
       " 'smote/344.jpg',\n",
       " 'smote/345.jpg',\n",
       " 'smote/346.jpg',\n",
       " 'smote/347.jpg',\n",
       " 'smote/348.jpg',\n",
       " 'smote/349.jpg',\n",
       " 'smote/350.jpg',\n",
       " 'smote/351.jpg',\n",
       " 'smote/352.jpg',\n",
       " 'smote/353.jpg',\n",
       " 'smote/354.jpg',\n",
       " 'smote/355.jpg',\n",
       " 'smote/356.jpg',\n",
       " 'smote/357.jpg',\n",
       " 'smote/358.jpg',\n",
       " 'smote/359.jpg',\n",
       " 'smote/360.jpg',\n",
       " 'smote/361.jpg',\n",
       " 'smote/362.jpg',\n",
       " 'smote/363.jpg',\n",
       " 'smote/364.jpg',\n",
       " 'smote/365.jpg',\n",
       " 'smote/366.jpg',\n",
       " 'smote/367.jpg',\n",
       " 'smote/368.jpg',\n",
       " 'smote/369.jpg',\n",
       " 'smote/370.jpg',\n",
       " 'smote/371.jpg',\n",
       " 'smote/372.jpg',\n",
       " 'smote/373.jpg',\n",
       " 'smote/374.jpg',\n",
       " 'smote/375.jpg',\n",
       " 'smote/376.jpg',\n",
       " 'smote/377.jpg',\n",
       " 'smote/378.jpg',\n",
       " 'smote/379.jpg',\n",
       " 'smote/380.jpg',\n",
       " 'smote/381.jpg',\n",
       " 'smote/382.jpg',\n",
       " 'smote/383.jpg',\n",
       " 'smote/384.jpg',\n",
       " 'smote/385.jpg',\n",
       " 'smote/386.jpg',\n",
       " 'smote/387.jpg',\n",
       " 'smote/388.jpg',\n",
       " 'smote/389.jpg',\n",
       " 'smote/390.jpg',\n",
       " 'smote/391.jpg',\n",
       " 'smote/392.jpg',\n",
       " 'smote/393.jpg',\n",
       " 'smote/394.jpg',\n",
       " 'smote/395.jpg',\n",
       " 'smote/396.jpg',\n",
       " 'smote/397.jpg',\n",
       " 'smote/398.jpg',\n",
       " 'smote/399.jpg',\n",
       " 'smote/400.jpg',\n",
       " 'smote/401.jpg',\n",
       " 'smote/402.jpg',\n",
       " 'smote/403.jpg',\n",
       " 'smote/404.jpg',\n",
       " 'smote/405.jpg',\n",
       " 'smote/406.jpg',\n",
       " 'smote/407.jpg',\n",
       " 'smote/408.jpg',\n",
       " 'smote/409.jpg',\n",
       " 'smote/410.jpg',\n",
       " 'smote/411.jpg',\n",
       " 'smote/412.jpg',\n",
       " 'smote/413.jpg',\n",
       " 'smote/414.jpg',\n",
       " 'smote/415.jpg',\n",
       " 'smote/416.jpg',\n",
       " 'smote/417.jpg',\n",
       " 'smote/418.jpg',\n",
       " 'smote/419.jpg',\n",
       " 'smote/420.jpg',\n",
       " 'smote/421.jpg',\n",
       " 'smote/422.jpg',\n",
       " 'smote/423.jpg',\n",
       " 'smote/424.jpg',\n",
       " 'smote/425.jpg',\n",
       " 'smote/426.jpg',\n",
       " 'smote/427.jpg',\n",
       " 'smote/428.jpg',\n",
       " 'smote/429.jpg',\n",
       " 'smote/430.jpg',\n",
       " 'smote/431.jpg',\n",
       " 'smote/432.jpg',\n",
       " 'smote/433.jpg',\n",
       " 'smote/434.jpg',\n",
       " 'smote/435.jpg',\n",
       " 'smote/436.jpg',\n",
       " 'smote/437.jpg',\n",
       " 'smote/438.jpg',\n",
       " 'smote/439.jpg',\n",
       " 'smote/440.jpg',\n",
       " 'smote/441.jpg',\n",
       " 'smote/442.jpg',\n",
       " 'smote/443.jpg',\n",
       " 'smote/444.jpg',\n",
       " 'smote/445.jpg',\n",
       " 'smote/446.jpg',\n",
       " 'smote/447.jpg',\n",
       " 'smote/448.jpg',\n",
       " 'smote/449.jpg',\n",
       " 'smote/450.jpg',\n",
       " 'smote/451.jpg',\n",
       " 'smote/452.jpg',\n",
       " 'smote/453.jpg',\n",
       " 'smote/454.jpg',\n",
       " 'smote/455.jpg',\n",
       " 'smote/456.jpg',\n",
       " 'smote/457.jpg',\n",
       " 'smote/458.jpg',\n",
       " 'smote/459.jpg',\n",
       " 'smote/460.jpg',\n",
       " 'smote/461.jpg',\n",
       " 'smote/462.jpg',\n",
       " 'smote/463.jpg',\n",
       " 'smote/464.jpg',\n",
       " 'smote/465.jpg',\n",
       " 'smote/466.jpg',\n",
       " 'smote/467.jpg',\n",
       " 'smote/468.jpg',\n",
       " 'smote/469.jpg',\n",
       " 'smote/470.jpg',\n",
       " 'smote/471.jpg',\n",
       " 'smote/472.jpg',\n",
       " 'smote/473.jpg',\n",
       " 'smote/474.jpg',\n",
       " 'smote/475.jpg',\n",
       " 'smote/476.jpg',\n",
       " 'smote/477.jpg',\n",
       " 'smote/478.jpg',\n",
       " 'smote/479.jpg',\n",
       " 'smote/480.jpg',\n",
       " 'smote/481.jpg',\n",
       " 'smote/482.jpg',\n",
       " 'smote/483.jpg',\n",
       " 'smote/484.jpg',\n",
       " 'smote/485.jpg',\n",
       " 'smote/486.jpg',\n",
       " 'smote/487.jpg',\n",
       " 'smote/488.jpg',\n",
       " 'smote/489.jpg',\n",
       " 'smote/490.jpg',\n",
       " 'smote/491.jpg',\n",
       " 'smote/492.jpg',\n",
       " 'smote/493.jpg',\n",
       " 'smote/494.jpg',\n",
       " 'smote/495.jpg',\n",
       " 'smote/496.jpg',\n",
       " 'smote/497.jpg',\n",
       " 'smote/498.jpg',\n",
       " 'smote/499.jpg',\n",
       " 'smote/500.jpg',\n",
       " 'smote/501.jpg',\n",
       " 'smote/502.jpg',\n",
       " 'smote/503.jpg',\n",
       " 'smote/504.jpg',\n",
       " 'smote/505.jpg',\n",
       " 'smote/506.jpg',\n",
       " 'smote/507.jpg',\n",
       " 'smote/508.jpg',\n",
       " 'smote/509.jpg',\n",
       " 'smote/510.jpg',\n",
       " 'smote/511.jpg',\n",
       " 'smote/512.jpg',\n",
       " 'smote/513.jpg',\n",
       " 'smote/514.jpg',\n",
       " 'smote/515.jpg',\n",
       " 'smote/516.jpg',\n",
       " 'smote/517.jpg',\n",
       " 'smote/518.jpg',\n",
       " 'smote/519.jpg',\n",
       " 'smote/520.jpg',\n",
       " 'smote/521.jpg',\n",
       " 'smote/522.jpg',\n",
       " 'smote/523.jpg',\n",
       " 'smote/524.jpg',\n",
       " 'smote/525.jpg',\n",
       " 'smote/526.jpg',\n",
       " 'smote/527.jpg',\n",
       " 'smote/528.jpg',\n",
       " 'smote/529.jpg',\n",
       " 'smote/530.jpg',\n",
       " 'smote/531.jpg',\n",
       " 'smote/532.jpg',\n",
       " 'smote/533.jpg',\n",
       " 'smote/534.jpg',\n",
       " 'smote/535.jpg',\n",
       " 'smote/536.jpg',\n",
       " 'smote/537.jpg',\n",
       " 'smote/538.jpg',\n",
       " 'smote/539.jpg',\n",
       " 'smote/540.jpg',\n",
       " 'smote/541.jpg',\n",
       " 'smote/542.jpg',\n",
       " 'smote/543.jpg',\n",
       " 'smote/544.jpg',\n",
       " 'smote/545.jpg',\n",
       " 'smote/546.jpg',\n",
       " 'smote/547.jpg',\n",
       " 'smote/548.jpg',\n",
       " 'smote/549.jpg',\n",
       " 'smote/550.jpg',\n",
       " 'smote/551.jpg',\n",
       " 'smote/552.jpg',\n",
       " 'smote/553.jpg',\n",
       " 'smote/554.jpg',\n",
       " 'smote/555.jpg',\n",
       " 'smote/556.jpg',\n",
       " 'smote/557.jpg',\n",
       " 'smote/558.jpg',\n",
       " 'smote/559.jpg',\n",
       " 'smote/560.jpg',\n",
       " 'smote/561.jpg',\n",
       " 'smote/562.jpg',\n",
       " 'smote/563.jpg',\n",
       " 'smote/564.jpg',\n",
       " 'smote/565.jpg',\n",
       " 'smote/566.jpg',\n",
       " 'smote/567.jpg',\n",
       " 'smote/568.jpg',\n",
       " 'smote/569.jpg',\n",
       " 'smote/570.jpg',\n",
       " 'smote/571.jpg',\n",
       " 'smote/572.jpg',\n",
       " 'smote/573.jpg',\n",
       " 'smote/574.jpg',\n",
       " 'smote/575.jpg',\n",
       " 'smote/576.jpg',\n",
       " 'smote/577.jpg',\n",
       " 'smote/578.jpg',\n",
       " 'smote/579.jpg',\n",
       " 'smote/580.jpg',\n",
       " 'smote/581.jpg',\n",
       " 'smote/582.jpg',\n",
       " 'smote/583.jpg',\n",
       " 'smote/584.jpg',\n",
       " 'smote/585.jpg',\n",
       " 'smote/586.jpg',\n",
       " 'smote/587.jpg',\n",
       " 'smote/588.jpg',\n",
       " 'smote/589.jpg',\n",
       " 'smote/590.jpg',\n",
       " 'smote/591.jpg',\n",
       " 'smote/592.jpg',\n",
       " 'smote/593.jpg',\n",
       " 'smote/594.jpg',\n",
       " 'smote/595.jpg',\n",
       " 'smote/596.jpg',\n",
       " 'smote/597.jpg',\n",
       " 'smote/598.jpg',\n",
       " 'smote/599.jpg',\n",
       " 'smote/600.jpg',\n",
       " 'smote/601.jpg',\n",
       " 'smote/602.jpg',\n",
       " 'smote/603.jpg',\n",
       " 'smote/604.jpg',\n",
       " 'smote/605.jpg',\n",
       " 'smote/606.jpg',\n",
       " 'smote/607.jpg',\n",
       " 'smote/608.jpg',\n",
       " 'smote/609.jpg',\n",
       " 'smote/610.jpg',\n",
       " 'smote/611.jpg',\n",
       " 'smote/612.jpg',\n",
       " 'smote/613.jpg',\n",
       " 'smote/614.jpg',\n",
       " 'smote/615.jpg',\n",
       " 'smote/616.jpg',\n",
       " 'smote/617.jpg',\n",
       " 'smote/618.jpg',\n",
       " 'smote/619.jpg',\n",
       " 'smote/620.jpg',\n",
       " 'smote/621.jpg',\n",
       " 'smote/622.jpg',\n",
       " 'smote/623.jpg',\n",
       " 'smote/624.jpg',\n",
       " 'smote/625.jpg',\n",
       " 'smote/626.jpg',\n",
       " 'smote/627.jpg',\n",
       " 'smote/628.jpg',\n",
       " 'smote/629.jpg',\n",
       " 'smote/630.jpg',\n",
       " 'smote/631.jpg',\n",
       " 'smote/632.jpg',\n",
       " 'smote/633.jpg',\n",
       " 'smote/634.jpg',\n",
       " 'smote/635.jpg',\n",
       " 'smote/636.jpg',\n",
       " 'smote/637.jpg',\n",
       " 'smote/638.jpg',\n",
       " 'smote/639.jpg',\n",
       " 'smote/640.jpg',\n",
       " 'smote/641.jpg',\n",
       " 'smote/642.jpg',\n",
       " 'smote/643.jpg',\n",
       " 'smote/644.jpg',\n",
       " 'smote/645.jpg',\n",
       " 'smote/646.jpg',\n",
       " 'smote/647.jpg',\n",
       " 'smote/648.jpg',\n",
       " 'smote/649.jpg',\n",
       " 'smote/650.jpg',\n",
       " 'smote/651.jpg',\n",
       " 'smote/652.jpg',\n",
       " 'smote/653.jpg',\n",
       " 'smote/654.jpg',\n",
       " 'smote/655.jpg',\n",
       " 'smote/656.jpg',\n",
       " 'smote/657.jpg',\n",
       " 'smote/658.jpg',\n",
       " 'smote/659.jpg',\n",
       " 'smote/660.jpg',\n",
       " 'smote/661.jpg',\n",
       " 'smote/662.jpg',\n",
       " 'smote/663.jpg',\n",
       " 'smote/664.jpg',\n",
       " 'smote/665.jpg',\n",
       " 'smote/666.jpg',\n",
       " 'smote/667.jpg',\n",
       " 'smote/668.jpg',\n",
       " 'smote/669.jpg',\n",
       " 'smote/670.jpg',\n",
       " 'smote/671.jpg',\n",
       " 'smote/672.jpg',\n",
       " 'smote/673.jpg',\n",
       " 'smote/674.jpg',\n",
       " 'smote/675.jpg',\n",
       " 'smote/676.jpg',\n",
       " 'smote/677.jpg',\n",
       " 'smote/678.jpg',\n",
       " 'smote/679.jpg',\n",
       " 'smote/680.jpg',\n",
       " 'smote/681.jpg',\n",
       " 'smote/682.jpg',\n",
       " 'smote/683.jpg',\n",
       " 'smote/684.jpg',\n",
       " 'smote/685.jpg',\n",
       " 'smote/686.jpg',\n",
       " 'smote/687.jpg',\n",
       " 'smote/688.jpg',\n",
       " 'smote/689.jpg',\n",
       " 'smote/690.jpg',\n",
       " 'smote/691.jpg',\n",
       " 'smote/692.jpg',\n",
       " 'smote/693.jpg',\n",
       " 'smote/694.jpg',\n",
       " 'smote/695.jpg',\n",
       " 'smote/696.jpg',\n",
       " 'smote/697.jpg',\n",
       " 'smote/698.jpg',\n",
       " 'smote/699.jpg',\n",
       " 'smote/700.jpg',\n",
       " 'smote/701.jpg',\n",
       " 'smote/702.jpg',\n",
       " 'smote/703.jpg',\n",
       " 'smote/704.jpg',\n",
       " 'smote/705.jpg',\n",
       " 'smote/706.jpg',\n",
       " 'smote/707.jpg',\n",
       " 'smote/708.jpg',\n",
       " 'smote/709.jpg',\n",
       " 'smote/710.jpg',\n",
       " 'smote/711.jpg',\n",
       " 'smote/712.jpg',\n",
       " 'smote/713.jpg',\n",
       " 'smote/714.jpg',\n",
       " 'smote/715.jpg',\n",
       " 'smote/716.jpg',\n",
       " 'smote/717.jpg',\n",
       " 'smote/718.jpg',\n",
       " 'smote/719.jpg',\n",
       " 'smote/720.jpg',\n",
       " 'smote/721.jpg',\n",
       " 'smote/722.jpg',\n",
       " 'smote/723.jpg',\n",
       " 'smote/724.jpg',\n",
       " 'smote/725.jpg',\n",
       " 'smote/726.jpg',\n",
       " 'smote/727.jpg',\n",
       " 'smote/728.jpg',\n",
       " 'smote/729.jpg',\n",
       " 'smote/730.jpg',\n",
       " 'smote/731.jpg',\n",
       " 'smote/732.jpg',\n",
       " 'smote/733.jpg',\n",
       " 'smote/734.jpg',\n",
       " 'smote/735.jpg',\n",
       " 'smote/736.jpg',\n",
       " 'smote/737.jpg',\n",
       " 'smote/738.jpg',\n",
       " 'smote/739.jpg',\n",
       " 'smote/740.jpg',\n",
       " 'smote/741.jpg',\n",
       " 'smote/742.jpg',\n",
       " 'smote/743.jpg',\n",
       " 'smote/744.jpg',\n",
       " 'smote/745.jpg',\n",
       " 'smote/746.jpg',\n",
       " 'smote/747.jpg',\n",
       " 'smote/748.jpg',\n",
       " 'smote/749.jpg',\n",
       " 'smote/750.jpg',\n",
       " 'smote/751.jpg',\n",
       " 'smote/752.jpg',\n",
       " 'smote/753.jpg',\n",
       " 'smote/754.jpg',\n",
       " 'smote/755.jpg',\n",
       " 'smote/756.jpg',\n",
       " 'smote/757.jpg',\n",
       " 'smote/758.jpg',\n",
       " 'smote/759.jpg',\n",
       " 'smote/760.jpg',\n",
       " 'smote/761.jpg',\n",
       " 'smote/762.jpg',\n",
       " 'smote/763.jpg',\n",
       " 'smote/764.jpg',\n",
       " 'smote/765.jpg',\n",
       " 'smote/766.jpg',\n",
       " 'smote/767.jpg',\n",
       " 'smote/768.jpg',\n",
       " 'smote/769.jpg',\n",
       " 'smote/770.jpg',\n",
       " 'smote/771.jpg',\n",
       " 'smote/772.jpg',\n",
       " 'smote/773.jpg',\n",
       " 'smote/774.jpg',\n",
       " 'smote/775.jpg',\n",
       " 'smote/776.jpg',\n",
       " 'smote/777.jpg',\n",
       " 'smote/778.jpg',\n",
       " 'smote/779.jpg',\n",
       " 'smote/780.jpg',\n",
       " 'smote/781.jpg',\n",
       " 'smote/782.jpg',\n",
       " 'smote/783.jpg',\n",
       " 'smote/784.jpg',\n",
       " 'smote/785.jpg',\n",
       " 'smote/786.jpg',\n",
       " 'smote/787.jpg',\n",
       " 'smote/788.jpg',\n",
       " 'smote/789.jpg',\n",
       " 'smote/790.jpg',\n",
       " 'smote/791.jpg',\n",
       " 'smote/792.jpg',\n",
       " 'smote/793.jpg',\n",
       " 'smote/794.jpg',\n",
       " 'smote/795.jpg',\n",
       " 'smote/796.jpg',\n",
       " 'smote/797.jpg',\n",
       " 'smote/798.jpg',\n",
       " 'smote/799.jpg',\n",
       " 'smote/800.jpg',\n",
       " 'smote/801.jpg',\n",
       " 'smote/802.jpg',\n",
       " 'smote/803.jpg',\n",
       " 'smote/804.jpg',\n",
       " 'smote/805.jpg',\n",
       " 'smote/806.jpg',\n",
       " 'smote/807.jpg',\n",
       " 'smote/808.jpg',\n",
       " 'smote/809.jpg',\n",
       " 'smote/810.jpg',\n",
       " 'smote/811.jpg',\n",
       " 'smote/812.jpg',\n",
       " 'smote/813.jpg',\n",
       " 'smote/814.jpg',\n",
       " 'smote/815.jpg',\n",
       " 'smote/816.jpg',\n",
       " 'smote/817.jpg',\n",
       " 'smote/818.jpg',\n",
       " 'smote/819.jpg',\n",
       " 'smote/820.jpg',\n",
       " 'smote/821.jpg',\n",
       " 'smote/822.jpg',\n",
       " 'smote/823.jpg',\n",
       " 'smote/824.jpg',\n",
       " 'smote/825.jpg',\n",
       " 'smote/826.jpg',\n",
       " 'smote/827.jpg',\n",
       " 'smote/828.jpg',\n",
       " 'smote/829.jpg',\n",
       " 'smote/830.jpg',\n",
       " 'smote/831.jpg',\n",
       " 'smote/832.jpg',\n",
       " 'smote/833.jpg',\n",
       " 'smote/834.jpg',\n",
       " 'smote/835.jpg',\n",
       " 'smote/836.jpg',\n",
       " 'smote/837.jpg',\n",
       " 'smote/838.jpg',\n",
       " 'smote/839.jpg',\n",
       " 'smote/840.jpg',\n",
       " 'smote/841.jpg',\n",
       " 'smote/842.jpg',\n",
       " 'smote/843.jpg',\n",
       " 'smote/844.jpg',\n",
       " 'smote/845.jpg',\n",
       " 'smote/846.jpg',\n",
       " 'smote/847.jpg',\n",
       " 'smote/848.jpg',\n",
       " 'smote/849.jpg',\n",
       " 'smote/850.jpg',\n",
       " 'smote/851.jpg',\n",
       " 'smote/852.jpg',\n",
       " 'smote/853.jpg',\n",
       " 'smote/854.jpg',\n",
       " 'smote/855.jpg',\n",
       " 'smote/856.jpg',\n",
       " 'smote/857.jpg',\n",
       " 'smote/858.jpg',\n",
       " 'smote/859.jpg',\n",
       " 'smote/860.jpg',\n",
       " 'smote/861.jpg',\n",
       " 'smote/862.jpg',\n",
       " 'smote/863.jpg',\n",
       " 'smote/864.jpg',\n",
       " 'smote/865.jpg',\n",
       " 'smote/866.jpg',\n",
       " 'smote/867.jpg',\n",
       " 'smote/868.jpg',\n",
       " 'smote/869.jpg',\n",
       " 'smote/870.jpg',\n",
       " 'smote/871.jpg',\n",
       " 'smote/872.jpg',\n",
       " 'smote/873.jpg',\n",
       " 'smote/874.jpg',\n",
       " 'smote/875.jpg',\n",
       " 'smote/876.jpg',\n",
       " 'smote/877.jpg',\n",
       " 'smote/878.jpg',\n",
       " 'smote/879.jpg',\n",
       " 'smote/880.jpg',\n",
       " 'smote/881.jpg',\n",
       " 'smote/882.jpg',\n",
       " 'smote/883.jpg',\n",
       " 'smote/884.jpg',\n",
       " 'smote/885.jpg',\n",
       " 'smote/886.jpg',\n",
       " 'smote/887.jpg',\n",
       " 'smote/888.jpg',\n",
       " 'smote/889.jpg',\n",
       " 'smote/890.jpg',\n",
       " 'smote/891.jpg',\n",
       " 'smote/892.jpg',\n",
       " 'smote/893.jpg',\n",
       " 'smote/894.jpg',\n",
       " 'smote/895.jpg',\n",
       " 'smote/896.jpg',\n",
       " 'smote/897.jpg',\n",
       " 'smote/898.jpg',\n",
       " 'smote/899.jpg',\n",
       " 'smote/900.jpg',\n",
       " 'smote/901.jpg',\n",
       " 'smote/902.jpg',\n",
       " 'smote/903.jpg',\n",
       " 'smote/904.jpg',\n",
       " 'smote/905.jpg',\n",
       " 'smote/906.jpg',\n",
       " 'smote/907.jpg',\n",
       " 'smote/908.jpg',\n",
       " 'smote/909.jpg',\n",
       " 'smote/910.jpg',\n",
       " 'smote/911.jpg',\n",
       " 'smote/912.jpg',\n",
       " 'smote/913.jpg',\n",
       " 'smote/914.jpg',\n",
       " 'smote/915.jpg',\n",
       " 'smote/916.jpg',\n",
       " 'smote/917.jpg',\n",
       " 'smote/918.jpg',\n",
       " 'smote/919.jpg',\n",
       " 'smote/920.jpg',\n",
       " 'smote/921.jpg',\n",
       " 'smote/922.jpg',\n",
       " 'smote/923.jpg',\n",
       " 'smote/924.jpg',\n",
       " 'smote/925.jpg',\n",
       " 'smote/926.jpg',\n",
       " 'smote/927.jpg',\n",
       " 'smote/928.jpg',\n",
       " 'smote/929.jpg',\n",
       " 'smote/930.jpg',\n",
       " 'smote/931.jpg',\n",
       " 'smote/932.jpg',\n",
       " 'smote/933.jpg',\n",
       " 'smote/934.jpg',\n",
       " 'smote/935.jpg',\n",
       " 'smote/936.jpg',\n",
       " 'smote/937.jpg',\n",
       " 'smote/938.jpg',\n",
       " 'smote/939.jpg',\n",
       " 'smote/940.jpg',\n",
       " 'smote/941.jpg',\n",
       " 'smote/942.jpg',\n",
       " 'smote/943.jpg',\n",
       " 'smote/944.jpg',\n",
       " 'smote/945.jpg',\n",
       " 'smote/946.jpg',\n",
       " 'smote/947.jpg',\n",
       " 'smote/948.jpg',\n",
       " 'smote/949.jpg',\n",
       " 'smote/950.jpg',\n",
       " 'smote/951.jpg',\n",
       " 'smote/952.jpg',\n",
       " 'smote/953.jpg',\n",
       " 'smote/954.jpg',\n",
       " 'smote/955.jpg',\n",
       " 'smote/956.jpg',\n",
       " 'smote/957.jpg',\n",
       " 'smote/958.jpg',\n",
       " 'smote/959.jpg',\n",
       " 'smote/960.jpg',\n",
       " 'smote/961.jpg',\n",
       " 'smote/962.jpg',\n",
       " 'smote/963.jpg',\n",
       " 'smote/964.jpg',\n",
       " 'smote/965.jpg',\n",
       " 'smote/966.jpg',\n",
       " 'smote/967.jpg',\n",
       " 'smote/968.jpg',\n",
       " 'smote/969.jpg',\n",
       " 'smote/970.jpg',\n",
       " 'smote/971.jpg',\n",
       " 'smote/972.jpg',\n",
       " 'smote/973.jpg',\n",
       " 'smote/974.jpg',\n",
       " 'smote/975.jpg',\n",
       " 'smote/976.jpg',\n",
       " 'smote/977.jpg',\n",
       " 'smote/978.jpg',\n",
       " 'smote/979.jpg',\n",
       " 'smote/980.jpg',\n",
       " 'smote/981.jpg',\n",
       " 'smote/982.jpg',\n",
       " 'smote/983.jpg',\n",
       " 'smote/984.jpg',\n",
       " 'smote/985.jpg',\n",
       " 'smote/986.jpg',\n",
       " 'smote/987.jpg',\n",
       " 'smote/988.jpg',\n",
       " 'smote/989.jpg',\n",
       " 'smote/990.jpg',\n",
       " 'smote/991.jpg',\n",
       " 'smote/992.jpg',\n",
       " 'smote/993.jpg',\n",
       " 'smote/994.jpg',\n",
       " 'smote/995.jpg',\n",
       " 'smote/996.jpg',\n",
       " 'smote/997.jpg',\n",
       " 'smote/998.jpg',\n",
       " 'smote/999.jpg',\n",
       " ...]"
      ]
     },
     "execution_count": 147,
     "metadata": {},
     "output_type": "execute_result"
    }
   ],
   "source": [
    "smote_paths"
   ]
  },
  {
   "cell_type": "code",
   "execution_count": 150,
   "id": "1ecab824",
   "metadata": {},
   "outputs": [
    {
     "data": {
      "text/html": [
       "<div>\n",
       "<style scoped>\n",
       "    .dataframe tbody tr th:only-of-type {\n",
       "        vertical-align: middle;\n",
       "    }\n",
       "\n",
       "    .dataframe tbody tr th {\n",
       "        vertical-align: top;\n",
       "    }\n",
       "\n",
       "    .dataframe thead th {\n",
       "        text-align: right;\n",
       "    }\n",
       "</style>\n",
       "<table border=\"1\" class=\"dataframe\">\n",
       "  <thead>\n",
       "    <tr style=\"text-align: right;\">\n",
       "      <th></th>\n",
       "      <th>imagename</th>\n",
       "      <th>cored</th>\n",
       "      <th>diffuse</th>\n",
       "      <th>CAA</th>\n",
       "    </tr>\n",
       "  </thead>\n",
       "  <tbody>\n",
       "    <tr>\n",
       "      <th>0</th>\n",
       "      <td>smote/0.jpg</td>\n",
       "      <td>1</td>\n",
       "      <td>0</td>\n",
       "      <td>0</td>\n",
       "    </tr>\n",
       "    <tr>\n",
       "      <th>1</th>\n",
       "      <td>smote/1.jpg</td>\n",
       "      <td>1</td>\n",
       "      <td>0</td>\n",
       "      <td>0</td>\n",
       "    </tr>\n",
       "    <tr>\n",
       "      <th>2</th>\n",
       "      <td>smote/2.jpg</td>\n",
       "      <td>1</td>\n",
       "      <td>0</td>\n",
       "      <td>0</td>\n",
       "    </tr>\n",
       "    <tr>\n",
       "      <th>3</th>\n",
       "      <td>smote/3.jpg</td>\n",
       "      <td>1</td>\n",
       "      <td>0</td>\n",
       "      <td>0</td>\n",
       "    </tr>\n",
       "    <tr>\n",
       "      <th>4</th>\n",
       "      <td>smote/4.jpg</td>\n",
       "      <td>1</td>\n",
       "      <td>0</td>\n",
       "      <td>0</td>\n",
       "    </tr>\n",
       "  </tbody>\n",
       "</table>\n",
       "</div>"
      ],
      "text/plain": [
       "     imagename  cored  diffuse  CAA\n",
       "0  smote/0.jpg      1        0    0\n",
       "1  smote/1.jpg      1        0    0\n",
       "2  smote/2.jpg      1        0    0\n",
       "3  smote/3.jpg      1        0    0\n",
       "4  smote/4.jpg      1        0    0"
      ]
     },
     "execution_count": 150,
     "metadata": {},
     "output_type": "execute_result"
    }
   ],
   "source": [
    "df_out = pd.DataFrame(data=smote_paths,columns=['imagename'])\n",
    "df_out[['cored','diffuse','CAA']] = labels_stacked\n",
    "df_out.head()"
   ]
  },
  {
   "cell_type": "code",
   "execution_count": 151,
   "id": "66706f85",
   "metadata": {},
   "outputs": [],
   "source": [
    "df_out.to_csv('./CSVs/train_smote_up.csv',index=False)"
   ]
  }
 ],
 "metadata": {
  "kernelspec": {
   "display_name": "Python 3",
   "language": "python",
   "name": "python3"
  },
  "language_info": {
   "codemirror_mode": {
    "name": "ipython",
    "version": 3
   },
   "file_extension": ".py",
   "mimetype": "text/x-python",
   "name": "python",
   "nbconvert_exporter": "python",
   "pygments_lexer": "ipython3",
   "version": "3.9.6"
  }
 },
 "nbformat": 4,
 "nbformat_minor": 5
}
